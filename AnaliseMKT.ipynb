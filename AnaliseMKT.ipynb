{
  "cells": [
    {
      "cell_type": "markdown",
      "metadata": {
        "id": "view-in-github",
        "colab_type": "text"
      },
      "source": [
        "<a href=\"https://colab.research.google.com/github/bcguilherme/arquivos-legais/blob/main/AnaliseMKT.ipynb\" target=\"_parent\"><img src=\"https://colab.research.google.com/assets/colab-badge.svg\" alt=\"Open In Colab\"/></a>"
      ]
    },
    {
      "cell_type": "markdown",
      "metadata": {
        "id": "ZgJNMGdCYW8F"
      },
      "source": [
        "# Importando as bibliotecas\n"
      ]
    },
    {
      "cell_type": "code",
      "execution_count": null,
      "metadata": {
        "id": "Lx0pleeiYW8I"
      },
      "outputs": [],
      "source": [
        "import pandas as pd\n",
        "import seaborn as sns\n",
        "import matplotlib.pyplot as plt\n",
        "from sklearn.preprocessing import MinMaxScaler\n",
        "from sklearn.model_selection import train_test_split\n",
        "from sklearn.linear_model import LinearRegression\n",
        "from sklearn import metrics\n",
        "from sklearn.metrics import r2_score\n",
        "import statistics as sts\n",
        "import numpy as np\n",
        "import statsmodels.formula.api as smf"
      ]
    },
    {
      "cell_type": "markdown",
      "metadata": {
        "id": "du7bArSZYW8J"
      },
      "source": [
        "# Fase 1. Analise DESCRITIVA dos dados."
      ]
    },
    {
      "cell_type": "markdown",
      "metadata": {
        "id": "6dbopo22YW8K"
      },
      "source": [
        "Nessa fase exploraremos o nosso data set usando a biblioteca Pandas.\n",
        "* O primeiro passo a se realiza é a realizar a importacao do arquivo utilizando a a funcao .read_\"tipo do formato\"(\"loca/nomedoarquivo.extensao do arquivo\") , caso nessa etapa no data frame nao for exportado com o devido espacamento ou divisao das colunas, deveremos indetificar qual e o tipo de separacao que existe, passando o paramentro sep=\"a separacao\"\n",
        "* Apos importar o nosso dataset, poderemos a iniciar as primeiras exploracoes usando .HEAD(), que nos trara as primeiras 5 linhas do nosso data set, ou a quantidade de linha que quisermos caso queiramos ter mais mais que 5 ou menos que 5 linhas\n",
        "* Nas celulas abaixo, vamos utilizar os seguintes comandos.INFO, ISNULL, DUPLICATED, ISNA\n",
        "1. Utilizaremos a função info para conhecer os tipos dos dados e a quantidade de valores não nulos.\n",
        "2. Podemos utilizar o comando isnull().sum() para verificar se existem valores nulos no dataset.\n",
        "3. O comando isna().sum(), nos traz valores ausentes e somatoria das mesmas.\n",
        "4. Podemos utilizar o comando duplicated().sum() para verificar se existem valores duplicados."
      ]
    },
    {
      "cell_type": "code",
      "execution_count": null,
      "metadata": {
        "colab": {
          "base_uri": "https://localhost:8080/",
          "height": 206
        },
        "id": "BevISGieYW8K",
        "outputId": "653554ed-89d0-4c30-d4c1-cc966f043b37"
      },
      "outputs": [
        {
          "output_type": "execute_result",
          "data": {
            "text/plain": [
              "   youtube  facebook  newspaper  sales\n",
              "0    84.72     19.20      48.96  12.60\n",
              "1   351.48     33.96      51.84  25.68\n",
              "2   135.48     20.88      46.32  14.28\n",
              "3   116.64      1.80      36.00  11.52\n",
              "4   318.72     24.00       0.36  20.88"
            ],
            "text/html": [
              "\n",
              "  <div id=\"df-adedb27f-6475-451e-91e9-f07d9ce2a954\">\n",
              "    <div class=\"colab-df-container\">\n",
              "      <div>\n",
              "<style scoped>\n",
              "    .dataframe tbody tr th:only-of-type {\n",
              "        vertical-align: middle;\n",
              "    }\n",
              "\n",
              "    .dataframe tbody tr th {\n",
              "        vertical-align: top;\n",
              "    }\n",
              "\n",
              "    .dataframe thead th {\n",
              "        text-align: right;\n",
              "    }\n",
              "</style>\n",
              "<table border=\"1\" class=\"dataframe\">\n",
              "  <thead>\n",
              "    <tr style=\"text-align: right;\">\n",
              "      <th></th>\n",
              "      <th>youtube</th>\n",
              "      <th>facebook</th>\n",
              "      <th>newspaper</th>\n",
              "      <th>sales</th>\n",
              "    </tr>\n",
              "  </thead>\n",
              "  <tbody>\n",
              "    <tr>\n",
              "      <th>0</th>\n",
              "      <td>84.72</td>\n",
              "      <td>19.20</td>\n",
              "      <td>48.96</td>\n",
              "      <td>12.60</td>\n",
              "    </tr>\n",
              "    <tr>\n",
              "      <th>1</th>\n",
              "      <td>351.48</td>\n",
              "      <td>33.96</td>\n",
              "      <td>51.84</td>\n",
              "      <td>25.68</td>\n",
              "    </tr>\n",
              "    <tr>\n",
              "      <th>2</th>\n",
              "      <td>135.48</td>\n",
              "      <td>20.88</td>\n",
              "      <td>46.32</td>\n",
              "      <td>14.28</td>\n",
              "    </tr>\n",
              "    <tr>\n",
              "      <th>3</th>\n",
              "      <td>116.64</td>\n",
              "      <td>1.80</td>\n",
              "      <td>36.00</td>\n",
              "      <td>11.52</td>\n",
              "    </tr>\n",
              "    <tr>\n",
              "      <th>4</th>\n",
              "      <td>318.72</td>\n",
              "      <td>24.00</td>\n",
              "      <td>0.36</td>\n",
              "      <td>20.88</td>\n",
              "    </tr>\n",
              "  </tbody>\n",
              "</table>\n",
              "</div>\n",
              "      <button class=\"colab-df-convert\" onclick=\"convertToInteractive('df-adedb27f-6475-451e-91e9-f07d9ce2a954')\"\n",
              "              title=\"Convert this dataframe to an interactive table.\"\n",
              "              style=\"display:none;\">\n",
              "        \n",
              "  <svg xmlns=\"http://www.w3.org/2000/svg\" height=\"24px\"viewBox=\"0 0 24 24\"\n",
              "       width=\"24px\">\n",
              "    <path d=\"M0 0h24v24H0V0z\" fill=\"none\"/>\n",
              "    <path d=\"M18.56 5.44l.94 2.06.94-2.06 2.06-.94-2.06-.94-.94-2.06-.94 2.06-2.06.94zm-11 1L8.5 8.5l.94-2.06 2.06-.94-2.06-.94L8.5 2.5l-.94 2.06-2.06.94zm10 10l.94 2.06.94-2.06 2.06-.94-2.06-.94-.94-2.06-.94 2.06-2.06.94z\"/><path d=\"M17.41 7.96l-1.37-1.37c-.4-.4-.92-.59-1.43-.59-.52 0-1.04.2-1.43.59L10.3 9.45l-7.72 7.72c-.78.78-.78 2.05 0 2.83L4 21.41c.39.39.9.59 1.41.59.51 0 1.02-.2 1.41-.59l7.78-7.78 2.81-2.81c.8-.78.8-2.07 0-2.86zM5.41 20L4 18.59l7.72-7.72 1.47 1.35L5.41 20z\"/>\n",
              "  </svg>\n",
              "      </button>\n",
              "      \n",
              "  <style>\n",
              "    .colab-df-container {\n",
              "      display:flex;\n",
              "      flex-wrap:wrap;\n",
              "      gap: 12px;\n",
              "    }\n",
              "\n",
              "    .colab-df-convert {\n",
              "      background-color: #E8F0FE;\n",
              "      border: none;\n",
              "      border-radius: 50%;\n",
              "      cursor: pointer;\n",
              "      display: none;\n",
              "      fill: #1967D2;\n",
              "      height: 32px;\n",
              "      padding: 0 0 0 0;\n",
              "      width: 32px;\n",
              "    }\n",
              "\n",
              "    .colab-df-convert:hover {\n",
              "      background-color: #E2EBFA;\n",
              "      box-shadow: 0px 1px 2px rgba(60, 64, 67, 0.3), 0px 1px 3px 1px rgba(60, 64, 67, 0.15);\n",
              "      fill: #174EA6;\n",
              "    }\n",
              "\n",
              "    [theme=dark] .colab-df-convert {\n",
              "      background-color: #3B4455;\n",
              "      fill: #D2E3FC;\n",
              "    }\n",
              "\n",
              "    [theme=dark] .colab-df-convert:hover {\n",
              "      background-color: #434B5C;\n",
              "      box-shadow: 0px 1px 3px 1px rgba(0, 0, 0, 0.15);\n",
              "      filter: drop-shadow(0px 1px 2px rgba(0, 0, 0, 0.3));\n",
              "      fill: #FFFFFF;\n",
              "    }\n",
              "  </style>\n",
              "\n",
              "      <script>\n",
              "        const buttonEl =\n",
              "          document.querySelector('#df-adedb27f-6475-451e-91e9-f07d9ce2a954 button.colab-df-convert');\n",
              "        buttonEl.style.display =\n",
              "          google.colab.kernel.accessAllowed ? 'block' : 'none';\n",
              "\n",
              "        async function convertToInteractive(key) {\n",
              "          const element = document.querySelector('#df-adedb27f-6475-451e-91e9-f07d9ce2a954');\n",
              "          const dataTable =\n",
              "            await google.colab.kernel.invokeFunction('convertToInteractive',\n",
              "                                                     [key], {});\n",
              "          if (!dataTable) return;\n",
              "\n",
              "          const docLinkHtml = 'Like what you see? Visit the ' +\n",
              "            '<a target=\"_blank\" href=https://colab.research.google.com/notebooks/data_table.ipynb>data table notebook</a>'\n",
              "            + ' to learn more about interactive tables.';\n",
              "          element.innerHTML = '';\n",
              "          dataTable['output_type'] = 'display_data';\n",
              "          await google.colab.output.renderOutput(dataTable, element);\n",
              "          const docLink = document.createElement('div');\n",
              "          docLink.innerHTML = docLinkHtml;\n",
              "          element.appendChild(docLink);\n",
              "        }\n",
              "      </script>\n",
              "    </div>\n",
              "  </div>\n",
              "  "
            ]
          },
          "metadata": {},
          "execution_count": 3
        }
      ],
      "source": [
        "#importando arquivo\n",
        "mkt=pd.read_csv(\"/content/MKT.csv\")\n",
        "mkt.head()"
      ]
    },
    {
      "cell_type": "code",
      "execution_count": null,
      "metadata": {
        "id": "WNEbMFW2YW8M",
        "outputId": "1fa83e45-97e8-4863-d37c-1334b095ba9f"
      },
      "outputs": [
        {
          "name": "stdout",
          "output_type": "stream",
          "text": [
            "<class 'pandas.core.frame.DataFrame'>\n",
            "RangeIndex: 171 entries, 0 to 170\n",
            "Data columns (total 4 columns):\n",
            " #   Column     Non-Null Count  Dtype  \n",
            "---  ------     --------------  -----  \n",
            " 0   youtube    171 non-null    float64\n",
            " 1   facebook   171 non-null    float64\n",
            " 2   newspaper  171 non-null    float64\n",
            " 3   sales      171 non-null    float64\n",
            "dtypes: float64(4)\n",
            "memory usage: 5.5 KB\n"
          ]
        }
      ],
      "source": [
        "#buscado info do dataset\n",
        "mkt.info()"
      ]
    },
    {
      "cell_type": "code",
      "execution_count": null,
      "metadata": {
        "id": "kYaRV1NdYW8M",
        "outputId": "a72a98f7-246d-478a-e00d-b3c05f3f6679"
      },
      "outputs": [
        {
          "data": {
            "text/plain": [
              "youtube      0\n",
              "facebook     0\n",
              "newspaper    0\n",
              "sales        0\n",
              "dtype: int64"
            ]
          },
          "execution_count": 4,
          "metadata": {},
          "output_type": "execute_result"
        }
      ],
      "source": [
        "mkt.isna().sum()"
      ]
    },
    {
      "cell_type": "code",
      "execution_count": null,
      "metadata": {
        "id": "JQLUHhEgYW8M",
        "outputId": "39817156-71b9-4a0f-83d9-272f301025f4"
      },
      "outputs": [
        {
          "data": {
            "text/plain": [
              "youtube      0\n",
              "facebook     0\n",
              "newspaper    0\n",
              "sales        0\n",
              "dtype: int64"
            ]
          },
          "execution_count": 5,
          "metadata": {},
          "output_type": "execute_result"
        }
      ],
      "source": [
        "mkt.isnull().sum()"
      ]
    },
    {
      "cell_type": "code",
      "execution_count": null,
      "metadata": {
        "id": "HBVA7oYIYW8N",
        "outputId": "dac7bb0d-df06-4b4f-ae5d-9e8ad028b6a6"
      },
      "outputs": [
        {
          "data": {
            "text/plain": [
              "0"
            ]
          },
          "execution_count": 6,
          "metadata": {},
          "output_type": "execute_result"
        }
      ],
      "source": [
        "mkt.duplicated().sum()"
      ]
    },
    {
      "cell_type": "markdown",
      "metadata": {
        "id": "CVQRRm9TYW8O"
      },
      "source": [
        "#  Fase 2. Analise EXPLORATORIA dos dados\n"
      ]
    },
    {
      "cell_type": "markdown",
      "metadata": {
        "id": "byghVqr9YW8O"
      },
      "source": [
        "* OBS:COMO NAO HOUVE VALORES DUPLICADOS, NA, NULL, ou fora do padrao. Nao vai ser preciso fazer qualquer tramaneto referente.\n",
        "* Entendendo os valores passando o comando describe(), porem dentro desse comando passaremos os percentils de 1%, 10%, 25%, 50%, 75%, 90%, 99%) alem dos valores padroes que do describe ja nos traz que sao a media, mediana, minimo\n",
        "* Usando boxplots na identificar caso haja algum valor fora do normal( outliers)\n",
        "* Determinando a correlacao dos dados\n",
        "* Plotando grafico de correlacao usando HEATMAP\n",
        "* Entendendo como estao as distribuicoes dos valores usando graficos de barras\n",
        "* Analisando os as densidades dos dados num grafico de dispersao\n",
        "* Identificacao dos outliers usando a filtro loc[]>100, para o newspaper, e a decisao de nao retira-los pois nela pois a media e a mediana se encontram em valores muito proximos, levando a entender que esses valores nao interfiram tanto nas distribuicoes.\n",
        "  "
      ]
    },
    {
      "cell_type": "code",
      "execution_count": null,
      "metadata": {
        "colab": {
          "base_uri": "https://localhost:8080/",
          "height": 175
        },
        "id": "fVHutpyuYW8O",
        "outputId": "b6f36797-0810-44bc-98d2-bb242e751cab"
      },
      "outputs": [
        {
          "output_type": "execute_result",
          "data": {
            "text/plain": [
              "           count        mean         std   min     1%    10%    25%     50%  \\\n",
              "youtube    171.0  178.021053  102.449597  0.84  6.012  30.72  91.08  179.76   \n",
              "facebook   171.0   27.671579   17.913532  0.00  0.444   4.08  11.70   26.76   \n",
              "newspaper  171.0   35.240000   24.902918  0.36  1.752   7.08  13.74   31.08   \n",
              "sales      171.0   16.922807    6.314608  1.92  5.604   9.60  12.54   15.48   \n",
              "\n",
              "              75%     90%      99%     max  \n",
              "youtube    262.98  315.24  351.732  355.68  \n",
              "facebook    43.68   52.20   59.280   59.52  \n",
              "newspaper   50.88   70.44  103.416  121.08  \n",
              "sales       20.82   26.04   30.852   32.40  "
            ],
            "text/html": [
              "\n",
              "  <div id=\"df-6de34272-1b03-43dd-b476-f514a0cfbcd5\">\n",
              "    <div class=\"colab-df-container\">\n",
              "      <div>\n",
              "<style scoped>\n",
              "    .dataframe tbody tr th:only-of-type {\n",
              "        vertical-align: middle;\n",
              "    }\n",
              "\n",
              "    .dataframe tbody tr th {\n",
              "        vertical-align: top;\n",
              "    }\n",
              "\n",
              "    .dataframe thead th {\n",
              "        text-align: right;\n",
              "    }\n",
              "</style>\n",
              "<table border=\"1\" class=\"dataframe\">\n",
              "  <thead>\n",
              "    <tr style=\"text-align: right;\">\n",
              "      <th></th>\n",
              "      <th>count</th>\n",
              "      <th>mean</th>\n",
              "      <th>std</th>\n",
              "      <th>min</th>\n",
              "      <th>1%</th>\n",
              "      <th>10%</th>\n",
              "      <th>25%</th>\n",
              "      <th>50%</th>\n",
              "      <th>75%</th>\n",
              "      <th>90%</th>\n",
              "      <th>99%</th>\n",
              "      <th>max</th>\n",
              "    </tr>\n",
              "  </thead>\n",
              "  <tbody>\n",
              "    <tr>\n",
              "      <th>youtube</th>\n",
              "      <td>171.0</td>\n",
              "      <td>178.021053</td>\n",
              "      <td>102.449597</td>\n",
              "      <td>0.84</td>\n",
              "      <td>6.012</td>\n",
              "      <td>30.72</td>\n",
              "      <td>91.08</td>\n",
              "      <td>179.76</td>\n",
              "      <td>262.98</td>\n",
              "      <td>315.24</td>\n",
              "      <td>351.732</td>\n",
              "      <td>355.68</td>\n",
              "    </tr>\n",
              "    <tr>\n",
              "      <th>facebook</th>\n",
              "      <td>171.0</td>\n",
              "      <td>27.671579</td>\n",
              "      <td>17.913532</td>\n",
              "      <td>0.00</td>\n",
              "      <td>0.444</td>\n",
              "      <td>4.08</td>\n",
              "      <td>11.70</td>\n",
              "      <td>26.76</td>\n",
              "      <td>43.68</td>\n",
              "      <td>52.20</td>\n",
              "      <td>59.280</td>\n",
              "      <td>59.52</td>\n",
              "    </tr>\n",
              "    <tr>\n",
              "      <th>newspaper</th>\n",
              "      <td>171.0</td>\n",
              "      <td>35.240000</td>\n",
              "      <td>24.902918</td>\n",
              "      <td>0.36</td>\n",
              "      <td>1.752</td>\n",
              "      <td>7.08</td>\n",
              "      <td>13.74</td>\n",
              "      <td>31.08</td>\n",
              "      <td>50.88</td>\n",
              "      <td>70.44</td>\n",
              "      <td>103.416</td>\n",
              "      <td>121.08</td>\n",
              "    </tr>\n",
              "    <tr>\n",
              "      <th>sales</th>\n",
              "      <td>171.0</td>\n",
              "      <td>16.922807</td>\n",
              "      <td>6.314608</td>\n",
              "      <td>1.92</td>\n",
              "      <td>5.604</td>\n",
              "      <td>9.60</td>\n",
              "      <td>12.54</td>\n",
              "      <td>15.48</td>\n",
              "      <td>20.82</td>\n",
              "      <td>26.04</td>\n",
              "      <td>30.852</td>\n",
              "      <td>32.40</td>\n",
              "    </tr>\n",
              "  </tbody>\n",
              "</table>\n",
              "</div>\n",
              "      <button class=\"colab-df-convert\" onclick=\"convertToInteractive('df-6de34272-1b03-43dd-b476-f514a0cfbcd5')\"\n",
              "              title=\"Convert this dataframe to an interactive table.\"\n",
              "              style=\"display:none;\">\n",
              "        \n",
              "  <svg xmlns=\"http://www.w3.org/2000/svg\" height=\"24px\"viewBox=\"0 0 24 24\"\n",
              "       width=\"24px\">\n",
              "    <path d=\"M0 0h24v24H0V0z\" fill=\"none\"/>\n",
              "    <path d=\"M18.56 5.44l.94 2.06.94-2.06 2.06-.94-2.06-.94-.94-2.06-.94 2.06-2.06.94zm-11 1L8.5 8.5l.94-2.06 2.06-.94-2.06-.94L8.5 2.5l-.94 2.06-2.06.94zm10 10l.94 2.06.94-2.06 2.06-.94-2.06-.94-.94-2.06-.94 2.06-2.06.94z\"/><path d=\"M17.41 7.96l-1.37-1.37c-.4-.4-.92-.59-1.43-.59-.52 0-1.04.2-1.43.59L10.3 9.45l-7.72 7.72c-.78.78-.78 2.05 0 2.83L4 21.41c.39.39.9.59 1.41.59.51 0 1.02-.2 1.41-.59l7.78-7.78 2.81-2.81c.8-.78.8-2.07 0-2.86zM5.41 20L4 18.59l7.72-7.72 1.47 1.35L5.41 20z\"/>\n",
              "  </svg>\n",
              "      </button>\n",
              "      \n",
              "  <style>\n",
              "    .colab-df-container {\n",
              "      display:flex;\n",
              "      flex-wrap:wrap;\n",
              "      gap: 12px;\n",
              "    }\n",
              "\n",
              "    .colab-df-convert {\n",
              "      background-color: #E8F0FE;\n",
              "      border: none;\n",
              "      border-radius: 50%;\n",
              "      cursor: pointer;\n",
              "      display: none;\n",
              "      fill: #1967D2;\n",
              "      height: 32px;\n",
              "      padding: 0 0 0 0;\n",
              "      width: 32px;\n",
              "    }\n",
              "\n",
              "    .colab-df-convert:hover {\n",
              "      background-color: #E2EBFA;\n",
              "      box-shadow: 0px 1px 2px rgba(60, 64, 67, 0.3), 0px 1px 3px 1px rgba(60, 64, 67, 0.15);\n",
              "      fill: #174EA6;\n",
              "    }\n",
              "\n",
              "    [theme=dark] .colab-df-convert {\n",
              "      background-color: #3B4455;\n",
              "      fill: #D2E3FC;\n",
              "    }\n",
              "\n",
              "    [theme=dark] .colab-df-convert:hover {\n",
              "      background-color: #434B5C;\n",
              "      box-shadow: 0px 1px 3px 1px rgba(0, 0, 0, 0.15);\n",
              "      filter: drop-shadow(0px 1px 2px rgba(0, 0, 0, 0.3));\n",
              "      fill: #FFFFFF;\n",
              "    }\n",
              "  </style>\n",
              "\n",
              "      <script>\n",
              "        const buttonEl =\n",
              "          document.querySelector('#df-6de34272-1b03-43dd-b476-f514a0cfbcd5 button.colab-df-convert');\n",
              "        buttonEl.style.display =\n",
              "          google.colab.kernel.accessAllowed ? 'block' : 'none';\n",
              "\n",
              "        async function convertToInteractive(key) {\n",
              "          const element = document.querySelector('#df-6de34272-1b03-43dd-b476-f514a0cfbcd5');\n",
              "          const dataTable =\n",
              "            await google.colab.kernel.invokeFunction('convertToInteractive',\n",
              "                                                     [key], {});\n",
              "          if (!dataTable) return;\n",
              "\n",
              "          const docLinkHtml = 'Like what you see? Visit the ' +\n",
              "            '<a target=\"_blank\" href=https://colab.research.google.com/notebooks/data_table.ipynb>data table notebook</a>'\n",
              "            + ' to learn more about interactive tables.';\n",
              "          element.innerHTML = '';\n",
              "          dataTable['output_type'] = 'display_data';\n",
              "          await google.colab.output.renderOutput(dataTable, element);\n",
              "          const docLink = document.createElement('div');\n",
              "          docLink.innerHTML = docLinkHtml;\n",
              "          element.appendChild(docLink);\n",
              "        }\n",
              "      </script>\n",
              "    </div>\n",
              "  </div>\n",
              "  "
            ]
          },
          "metadata": {},
          "execution_count": 4
        }
      ],
      "source": [
        "#entendendo valores\n",
        "mkt.describe(percentiles=[0.01, 0.1, 0.25, 0.5, 0.75, 0.9, 0.99]).T"
      ]
    },
    {
      "cell_type": "code",
      "execution_count": null,
      "metadata": {
        "colab": {
          "base_uri": "https://localhost:8080/",
          "height": 486
        },
        "id": "7rEBP44YYW8P",
        "outputId": "3035eadd-5e88-488c-fca9-51e320f0e367"
      },
      "outputs": [
        {
          "output_type": "display_data",
          "data": {
            "text/plain": [
              "<Figure size 640x480 with 3 Axes>"
            ],
            "image/png": "[encoded data removed]"
          },
          "metadata": {}
        }
      ],
      "source": [
        "#entendeo se existem outlies\n",
        "plt.subplot(2,2,1)\n",
        "sns.boxplot(data=mkt[\"youtube\"], orient=\"h\").set(title=\"Youtube\")\n",
        "plt.subplot(2,2,2)\n",
        "sns.boxplot(data=mkt[\"facebook\"], orient=\"h\").set(title=\"facebook\")\n",
        "plt.subplot(2,2,3)\n",
        "sns.boxplot(data=mkt[\"newspaper\"],orient=\"h\").set(title=\"newspaper\")\n",
        "plt.tight_layout()"
      ]
    },
    {
      "cell_type": "code",
      "execution_count": null,
      "metadata": {
        "colab": {
          "base_uri": "https://localhost:8080/",
          "height": 175
        },
        "id": "4VkyfjWnYW8P",
        "outputId": "ba6c6132-0c9c-45dd-999c-dba0996b5880"
      },
      "outputs": [
        {
          "output_type": "execute_result",
          "data": {
            "text/plain": [
              "            youtube  facebook  newspaper     sales\n",
              "youtube    1.000000  0.086538   0.110759  0.782030\n",
              "facebook   0.086538  1.000000   0.293425  0.602918\n",
              "newspaper  0.110759  0.293425   1.000000  0.254987\n",
              "sales      0.782030  0.602918   0.254987  1.000000"
            ],
            "text/html": [
              "\n",
              "  <div id=\"df-f8c5b5cc-eee3-42c9-93fe-2de417f61236\">\n",
              "    <div class=\"colab-df-container\">\n",
              "      <div>\n",
              "<style scoped>\n",
              "    .dataframe tbody tr th:only-of-type {\n",
              "        vertical-align: middle;\n",
              "    }\n",
              "\n",
              "    .dataframe tbody tr th {\n",
              "        vertical-align: top;\n",
              "    }\n",
              "\n",
              "    .dataframe thead th {\n",
              "        text-align: right;\n",
              "    }\n",
              "</style>\n",
              "<table border=\"1\" class=\"dataframe\">\n",
              "  <thead>\n",
              "    <tr style=\"text-align: right;\">\n",
              "      <th></th>\n",
              "      <th>youtube</th>\n",
              "      <th>facebook</th>\n",
              "      <th>newspaper</th>\n",
              "      <th>sales</th>\n",
              "    </tr>\n",
              "  </thead>\n",
              "  <tbody>\n",
              "    <tr>\n",
              "      <th>youtube</th>\n",
              "      <td>1.000000</td>\n",
              "      <td>0.086538</td>\n",
              "      <td>0.110759</td>\n",
              "      <td>0.782030</td>\n",
              "    </tr>\n",
              "    <tr>\n",
              "      <th>facebook</th>\n",
              "      <td>0.086538</td>\n",
              "      <td>1.000000</td>\n",
              "      <td>0.293425</td>\n",
              "      <td>0.602918</td>\n",
              "    </tr>\n",
              "    <tr>\n",
              "      <th>newspaper</th>\n",
              "      <td>0.110759</td>\n",
              "      <td>0.293425</td>\n",
              "      <td>1.000000</td>\n",
              "      <td>0.254987</td>\n",
              "    </tr>\n",
              "    <tr>\n",
              "      <th>sales</th>\n",
              "      <td>0.782030</td>\n",
              "      <td>0.602918</td>\n",
              "      <td>0.254987</td>\n",
              "      <td>1.000000</td>\n",
              "    </tr>\n",
              "  </tbody>\n",
              "</table>\n",
              "</div>\n",
              "      <button class=\"colab-df-convert\" onclick=\"convertToInteractive('df-f8c5b5cc-eee3-42c9-93fe-2de417f61236')\"\n",
              "              title=\"Convert this dataframe to an interactive table.\"\n",
              "              style=\"display:none;\">\n",
              "        \n",
              "  <svg xmlns=\"http://www.w3.org/2000/svg\" height=\"24px\"viewBox=\"0 0 24 24\"\n",
              "       width=\"24px\">\n",
              "    <path d=\"M0 0h24v24H0V0z\" fill=\"none\"/>\n",
              "    <path d=\"M18.56 5.44l.94 2.06.94-2.06 2.06-.94-2.06-.94-.94-2.06-.94 2.06-2.06.94zm-11 1L8.5 8.5l.94-2.06 2.06-.94-2.06-.94L8.5 2.5l-.94 2.06-2.06.94zm10 10l.94 2.06.94-2.06 2.06-.94-2.06-.94-.94-2.06-.94 2.06-2.06.94z\"/><path d=\"M17.41 7.96l-1.37-1.37c-.4-.4-.92-.59-1.43-.59-.52 0-1.04.2-1.43.59L10.3 9.45l-7.72 7.72c-.78.78-.78 2.05 0 2.83L4 21.41c.39.39.9.59 1.41.59.51 0 1.02-.2 1.41-.59l7.78-7.78 2.81-2.81c.8-.78.8-2.07 0-2.86zM5.41 20L4 18.59l7.72-7.72 1.47 1.35L5.41 20z\"/>\n",
              "  </svg>\n",
              "      </button>\n",
              "      \n",
              "  <style>\n",
              "    .colab-df-container {\n",
              "      display:flex;\n",
              "      flex-wrap:wrap;\n",
              "      gap: 12px;\n",
              "    }\n",
              "\n",
              "    .colab-df-convert {\n",
              "      background-color: #E8F0FE;\n",
              "      border: none;\n",
              "      border-radius: 50%;\n",
              "      cursor: pointer;\n",
              "      display: none;\n",
              "      fill: #1967D2;\n",
              "      height: 32px;\n",
              "      padding: 0 0 0 0;\n",
              "      width: 32px;\n",
              "    }\n",
              "\n",
              "    .colab-df-convert:hover {\n",
              "      background-color: #E2EBFA;\n",
              "      box-shadow: 0px 1px 2px rgba(60, 64, 67, 0.3), 0px 1px 3px 1px rgba(60, 64, 67, 0.15);\n",
              "      fill: #174EA6;\n",
              "    }\n",
              "\n",
              "    [theme=dark] .colab-df-convert {\n",
              "      background-color: #3B4455;\n",
              "      fill: #D2E3FC;\n",
              "    }\n",
              "\n",
              "    [theme=dark] .colab-df-convert:hover {\n",
              "      background-color: #434B5C;\n",
              "      box-shadow: 0px 1px 3px 1px rgba(0, 0, 0, 0.15);\n",
              "      filter: drop-shadow(0px 1px 2px rgba(0, 0, 0, 0.3));\n",
              "      fill: #FFFFFF;\n",
              "    }\n",
              "  </style>\n",
              "\n",
              "      <script>\n",
              "        const buttonEl =\n",
              "          document.querySelector('#df-f8c5b5cc-eee3-42c9-93fe-2de417f61236 button.colab-df-convert');\n",
              "        buttonEl.style.display =\n",
              "          google.colab.kernel.accessAllowed ? 'block' : 'none';\n",
              "\n",
              "        async function convertToInteractive(key) {\n",
              "          const element = document.querySelector('#df-f8c5b5cc-eee3-42c9-93fe-2de417f61236');\n",
              "          const dataTable =\n",
              "            await google.colab.kernel.invokeFunction('convertToInteractive',\n",
              "                                                     [key], {});\n",
              "          if (!dataTable) return;\n",
              "\n",
              "          const docLinkHtml = 'Like what you see? Visit the ' +\n",
              "            '<a target=\"_blank\" href=https://colab.research.google.com/notebooks/data_table.ipynb>data table notebook</a>'\n",
              "            + ' to learn more about interactive tables.';\n",
              "          element.innerHTML = '';\n",
              "          dataTable['output_type'] = 'display_data';\n",
              "          await google.colab.output.renderOutput(dataTable, element);\n",
              "          const docLink = document.createElement('div');\n",
              "          docLink.innerHTML = docLinkHtml;\n",
              "          element.appendChild(docLink);\n",
              "        }\n",
              "      </script>\n",
              "    </div>\n",
              "  </div>\n",
              "  "
            ]
          },
          "metadata": {},
          "execution_count": 6
        }
      ],
      "source": [
        "#entendo as correlacoes entre o dadoso target \"sales\"\n",
        "mkt_corr=mkt.corr()\n",
        "mkt_corr"
      ]
    },
    {
      "cell_type": "code",
      "execution_count": null,
      "metadata": {
        "colab": {
          "base_uri": "https://localhost:8080/",
          "height": 452
        },
        "id": "6Io88GybYW8Q",
        "outputId": "fa6d63bf-5022-47f8-faf4-618367bff3ed"
      },
      "outputs": [
        {
          "output_type": "display_data",
          "data": {
            "text/plain": [
              "<Figure size 640x480 with 2 Axes>"
            ],
            "image/png": "[encoded data removed]"
          },
          "metadata": {}
        }
      ],
      "source": [
        "#gerando o heatmap dos coeficiente de correlacao\n",
        "#boa correlacao entre SALE c/ youtube e sales com facebook porem relacao baixa de sales com Newspaper\n",
        "mask = np.triu(np.ones_like(mkt_corr))\n",
        "\n",
        "sns.heatmap(mkt_corr, mask=mask, annot=True, cmap=sns.cubehelix_palette(as_cmap=True)).set(title=\"Correlacao HeatMap\")\n",
        "plt.show()"
      ]
    },
    {
      "cell_type": "code",
      "execution_count": null,
      "metadata": {
        "colab": {
          "base_uri": "https://localhost:8080/",
          "height": 486
        },
        "id": "7Ppg1JKwYW8Q",
        "outputId": "eeaf08ac-fc60-4275-c3a5-614f3c1c6a25"
      },
      "outputs": [
        {
          "output_type": "display_data",
          "data": {
            "text/plain": [
              "<Figure size 640x480 with 3 Axes>"
            ],
            "image/png": "[encoded data removed]"
          },
          "metadata": {}
        }
      ],
      "source": [
        "#entendendo as distribuicoes\n",
        "\n",
        "plt.subplot(2,2,1)\n",
        "sns.histplot(data=mkt[\"youtube\"]).set(title=\"Youtube\")\n",
        "plt.subplot(2,2,2)\n",
        "sns.histplot(data=mkt[\"facebook\"]).set(title=\"Facebook\")\n",
        "plt.subplot(2,2,3)\n",
        "sns.histplot(data=mkt[\"newspaper\"]).set(title=\"Newspaper\")\n",
        "plt.tight_layout()"
      ]
    },
    {
      "cell_type": "code",
      "execution_count": null,
      "metadata": {
        "colab": {
          "base_uri": "https://localhost:8080/",
          "height": 486
        },
        "id": "jZZDMDwzYW8R",
        "outputId": "3e81ba01-724e-4bde-a589-d878f6566a30"
      },
      "outputs": [
        {
          "output_type": "display_data",
          "data": {
            "text/plain": [
              "<Figure size 640x480 with 3 Axes>"
            ],
            "image/png": "[encoded data removed]"
          },
          "metadata": {}
        }
      ],
      "source": [
        "#entendendo grafico de dispercao\n",
        "\n",
        "plt.subplot(2,2,1)\n",
        "sns.regplot(data=mkt[\"youtube\"], x=mkt[\"youtube\"], y=mkt[\"sales\"],marker=\".\", fit_reg=True).set(title=\"Youtube\")\n",
        "plt.subplot(2,2,2)\n",
        "sns.regplot(data=mkt[\"facebook\"],x=mkt[\"facebook\"], y=mkt[\"sales\"],marker=\".\",fit_reg=True).set(title=\"facebook\")\n",
        "plt.subplot(2,2,3)\n",
        "sns.regplot(data=mkt[\"newspaper\"],x=mkt[\"newspaper\"], y=mkt[\"sales\"],marker=\".\",fit_reg=True).set(title=\"newspaper\")\n",
        "plt.tight_layout()"
      ]
    },
    {
      "cell_type": "code",
      "execution_count": null,
      "metadata": {
        "colab": {
          "base_uri": "https://localhost:8080/",
          "height": 486
        },
        "id": "w8LGyO1BYW8R",
        "outputId": "9376c5cc-c043-4e23-bbea-88a0b6c4e1d4"
      },
      "outputs": [
        {
          "output_type": "display_data",
          "data": {
            "text/plain": [
              "<Figure size 640x480 with 3 Axes>"
            ],
            "image/png": "[encoded data removed]"
          },
          "metadata": {}
        }
      ],
      "source": [
        "#visualizando os outliers\n",
        "plt.subplot(2,2,1)\n",
        "sns.boxplot(data=mkt[\"youtube\"], orient=\"h\").set(title=\"Youtube\")\n",
        "plt.subplot(2,2,2)\n",
        "sns.boxplot(data=mkt[\"facebook\"], orient=\"h\").set(title=\"facebook\")\n",
        "plt.subplot(2,2,3)\n",
        "sns.boxplot(data=mkt[\"newspaper\"],orient=\"h\").set(title=\"newspaper\")\n",
        "plt.tight_layout()"
      ]
    },
    {
      "cell_type": "code",
      "execution_count": null,
      "metadata": {
        "colab": {
          "base_uri": "https://localhost:8080/"
        },
        "id": "vewQBNGGYW8R",
        "outputId": "8c2973a4-7145-4c49-c94d-4739726be741"
      },
      "outputs": [
        {
          "output_type": "execute_result",
          "data": {
            "text/plain": [
              "46     107.28\n",
              "72     121.08\n",
              "136    101.76\n",
              "Name: newspaper, dtype: float64"
            ]
          },
          "metadata": {},
          "execution_count": 11
        }
      ],
      "source": [
        "#identificando outliers newspaper\n",
        "mkt.loc[mkt['newspaper'] > 100, 'newspaper']"
      ]
    },
    {
      "cell_type": "markdown",
      "metadata": {
        "id": "N4BCDkQGYW8S"
      },
      "source": [
        "# Modelagem dos dados\n",
        "* Primeiro passo dividiremos nosso dataset em x, y, sendo que Y sao e a coluna *TARGET*\n",
        "* Separando em _xtrain_, _xtest_, _ytrain_, _ytest_, numa proporcao de de *80%* treino e *20%* teste como 42 de *random state*\n",
        "* criacao de uma variavel chamada *LR* para o modelo e treinamento do modelo\n",
        "* avaliacao do R^2 do modelo treino denominado de *LRsq*\n",
        "* previsao do modelo LR de test usando usando o variavel *y_pred_train*\n",
        "* Treinando o modelo usando o _x_test_ e _y_test_\n",
        "* avaliacao  R^2 do modelo teste\n",
        "* predicao do modelo *y_pred_test*\n",
        "* comparacao com o do R^2 com o R^2 ajustado do modelo estatistico  OLS\n"
      ]
    },
    {
      "cell_type": "code",
      "execution_count": null,
      "metadata": {
        "id": "UhGKse-QYW8S"
      },
      "outputs": [],
      "source": [
        "#modelagem\n",
        "x=mkt.drop(columns=[\"sales\"])\n",
        "y=mkt[\"sales\"].to_frame(name=\"sales\")"
      ]
    },
    {
      "cell_type": "code",
      "execution_count": null,
      "metadata": {
        "id": "9Ips-DeXYW8S",
        "outputId": "cb1dfca2-bdb6-4791-91e4-136148062d30"
      },
      "outputs": [
        {
          "data": {
            "text/html": [
              "<div>\n",
              "<style scoped>\n",
              "    .dataframe tbody tr th:only-of-type {\n",
              "        vertical-align: middle;\n",
              "    }\n",
              "\n",
              "    .dataframe tbody tr th {\n",
              "        vertical-align: top;\n",
              "    }\n",
              "\n",
              "    .dataframe thead th {\n",
              "        text-align: right;\n",
              "    }\n",
              "</style>\n",
              "<table border=\"1\" class=\"dataframe\">\n",
              "  <thead>\n",
              "    <tr style=\"text-align: right;\">\n",
              "      <th></th>\n",
              "      <th>youtube</th>\n",
              "      <th>facebook</th>\n",
              "      <th>newspaper</th>\n",
              "    </tr>\n",
              "  </thead>\n",
              "  <tbody>\n",
              "    <tr>\n",
              "      <th>0</th>\n",
              "      <td>84.72</td>\n",
              "      <td>19.20</td>\n",
              "      <td>48.96</td>\n",
              "    </tr>\n",
              "    <tr>\n",
              "      <th>1</th>\n",
              "      <td>351.48</td>\n",
              "      <td>33.96</td>\n",
              "      <td>51.84</td>\n",
              "    </tr>\n",
              "    <tr>\n",
              "      <th>2</th>\n",
              "      <td>135.48</td>\n",
              "      <td>20.88</td>\n",
              "      <td>46.32</td>\n",
              "    </tr>\n",
              "    <tr>\n",
              "      <th>3</th>\n",
              "      <td>116.64</td>\n",
              "      <td>1.80</td>\n",
              "      <td>36.00</td>\n",
              "    </tr>\n",
              "    <tr>\n",
              "      <th>4</th>\n",
              "      <td>318.72</td>\n",
              "      <td>24.00</td>\n",
              "      <td>0.36</td>\n",
              "    </tr>\n",
              "    <tr>\n",
              "      <th>...</th>\n",
              "      <td>...</td>\n",
              "      <td>...</td>\n",
              "      <td>...</td>\n",
              "    </tr>\n",
              "    <tr>\n",
              "      <th>166</th>\n",
              "      <td>45.84</td>\n",
              "      <td>4.44</td>\n",
              "      <td>16.56</td>\n",
              "    </tr>\n",
              "    <tr>\n",
              "      <th>167</th>\n",
              "      <td>113.04</td>\n",
              "      <td>5.88</td>\n",
              "      <td>9.72</td>\n",
              "    </tr>\n",
              "    <tr>\n",
              "      <th>168</th>\n",
              "      <td>212.40</td>\n",
              "      <td>11.16</td>\n",
              "      <td>7.68</td>\n",
              "    </tr>\n",
              "    <tr>\n",
              "      <th>169</th>\n",
              "      <td>340.32</td>\n",
              "      <td>50.40</td>\n",
              "      <td>79.44</td>\n",
              "    </tr>\n",
              "    <tr>\n",
              "      <th>170</th>\n",
              "      <td>278.52</td>\n",
              "      <td>10.32</td>\n",
              "      <td>10.44</td>\n",
              "    </tr>\n",
              "  </tbody>\n",
              "</table>\n",
              "<p>171 rows × 3 columns</p>\n",
              "</div>"
            ],
            "text/plain": [
              "     youtube  facebook  newspaper\n",
              "0      84.72     19.20      48.96\n",
              "1     351.48     33.96      51.84\n",
              "2     135.48     20.88      46.32\n",
              "3     116.64      1.80      36.00\n",
              "4     318.72     24.00       0.36\n",
              "..       ...       ...        ...\n",
              "166    45.84      4.44      16.56\n",
              "167   113.04      5.88       9.72\n",
              "168   212.40     11.16       7.68\n",
              "169   340.32     50.40      79.44\n",
              "170   278.52     10.32      10.44\n",
              "\n",
              "[171 rows x 3 columns]"
            ]
          },
          "metadata": {},
          "output_type": "display_data"
        },
        {
          "data": {
            "text/html": [
              "<div>\n",
              "<style scoped>\n",
              "    .dataframe tbody tr th:only-of-type {\n",
              "        vertical-align: middle;\n",
              "    }\n",
              "\n",
              "    .dataframe tbody tr th {\n",
              "        vertical-align: top;\n",
              "    }\n",
              "\n",
              "    .dataframe thead th {\n",
              "        text-align: right;\n",
              "    }\n",
              "</style>\n",
              "<table border=\"1\" class=\"dataframe\">\n",
              "  <thead>\n",
              "    <tr style=\"text-align: right;\">\n",
              "      <th></th>\n",
              "      <th>sales</th>\n",
              "    </tr>\n",
              "  </thead>\n",
              "  <tbody>\n",
              "    <tr>\n",
              "      <th>0</th>\n",
              "      <td>12.60</td>\n",
              "    </tr>\n",
              "    <tr>\n",
              "      <th>1</th>\n",
              "      <td>25.68</td>\n",
              "    </tr>\n",
              "    <tr>\n",
              "      <th>2</th>\n",
              "      <td>14.28</td>\n",
              "    </tr>\n",
              "    <tr>\n",
              "      <th>3</th>\n",
              "      <td>11.52</td>\n",
              "    </tr>\n",
              "    <tr>\n",
              "      <th>4</th>\n",
              "      <td>20.88</td>\n",
              "    </tr>\n",
              "    <tr>\n",
              "      <th>...</th>\n",
              "      <td>...</td>\n",
              "    </tr>\n",
              "    <tr>\n",
              "      <th>166</th>\n",
              "      <td>9.12</td>\n",
              "    </tr>\n",
              "    <tr>\n",
              "      <th>167</th>\n",
              "      <td>11.64</td>\n",
              "    </tr>\n",
              "    <tr>\n",
              "      <th>168</th>\n",
              "      <td>15.36</td>\n",
              "    </tr>\n",
              "    <tr>\n",
              "      <th>169</th>\n",
              "      <td>30.60</td>\n",
              "    </tr>\n",
              "    <tr>\n",
              "      <th>170</th>\n",
              "      <td>16.08</td>\n",
              "    </tr>\n",
              "  </tbody>\n",
              "</table>\n",
              "<p>171 rows × 1 columns</p>\n",
              "</div>"
            ],
            "text/plain": [
              "     sales\n",
              "0    12.60\n",
              "1    25.68\n",
              "2    14.28\n",
              "3    11.52\n",
              "4    20.88\n",
              "..     ...\n",
              "166   9.12\n",
              "167  11.64\n",
              "168  15.36\n",
              "169  30.60\n",
              "170  16.08\n",
              "\n",
              "[171 rows x 1 columns]"
            ]
          },
          "metadata": {},
          "output_type": "display_data"
        }
      ],
      "source": [
        "#entendedo se a divisao foi feito de maneira correta\n",
        "display(x, y)"
      ]
    },
    {
      "cell_type": "code",
      "execution_count": null,
      "metadata": {
        "id": "KrHSjYlGYW8S"
      },
      "outputs": [],
      "source": [
        "#separando entre x teste, x treino y test, y treino\n",
        "x_train, x_test, y_train, y_test=train_test_split(x, y, test_size=0.2, random_state=42)"
      ]
    },
    {
      "cell_type": "code",
      "execution_count": null,
      "metadata": {
        "id": "N_Ni4wehYW8T"
      },
      "outputs": [],
      "source": [
        "#treinando os x_train e o y_train\n",
        "LR=LinearRegression().fit(x_train, y_train)"
      ]
    },
    {
      "cell_type": "code",
      "execution_count": null,
      "metadata": {
        "id": "RuoaJP87YW8T",
        "outputId": "ead65ff5-dd11-4fe1-bbf6-052d56ecbc80"
      },
      "outputs": [
        {
          "data": {
            "text/plain": [
              "0.9074962891333168"
            ]
          },
          "execution_count": 19,
          "metadata": {},
          "output_type": "execute_result"
        }
      ],
      "source": [
        "#calculando o R2 do train treino\n",
        "LR_sq=LR.score(x_train, y_train)\n",
        "LR_sq"
      ]
    },
    {
      "cell_type": "code",
      "execution_count": null,
      "metadata": {
        "id": "xX4oGSO8YW8T"
      },
      "outputs": [],
      "source": [
        "#predicao do Treino\n",
        "y_pred_train=LR.predict(x_train)"
      ]
    },
    {
      "cell_type": "code",
      "execution_count": null,
      "metadata": {
        "id": "TokX9Px-YW8U"
      },
      "outputs": [],
      "source": [
        "\n",
        "LR=LinearRegression().fit(x_test, y_test)"
      ]
    },
    {
      "cell_type": "code",
      "execution_count": null,
      "metadata": {
        "id": "oUwOdceyYW8U",
        "outputId": "3756d353-e5b2-46f2-94d1-002451812c0c"
      },
      "outputs": [
        {
          "data": {
            "text/plain": [
              "0.8925835445734595"
            ]
          },
          "execution_count": 22,
          "metadata": {},
          "output_type": "execute_result"
        }
      ],
      "source": [
        "#calulando R2 de test\n",
        "LR_sq=LR.score(x_test, y_test)\n",
        "LR_sq"
      ]
    },
    {
      "cell_type": "code",
      "execution_count": null,
      "metadata": {
        "id": "MBGghWCMYW8U"
      },
      "outputs": [],
      "source": [
        "#prevendo o resulto do Teste\n",
        "y_pred_test=LR.predict(x_test)"
      ]
    },
    {
      "cell_type": "code",
      "execution_count": null,
      "metadata": {
        "id": "h5oL2nd8YW8U",
        "outputId": "b3ae2e14-8d48-4787-e870-397a11d28e3d"
      },
      "outputs": [
        {
          "name": "stdout",
          "output_type": "stream",
          "text": [
            "                            OLS Regression Results                            \n",
            "==============================================================================\n",
            "Dep. Variable:                  sales   R-squared:                       0.900\n",
            "Model:                            OLS   Adj. R-squared:                  0.899\n",
            "Method:                 Least Squares   F-statistic:                     757.8\n",
            "Date:                Sat, 03 Jun 2023   Prob (F-statistic):           8.33e-85\n",
            "Time:                        23:51:56   Log-Likelihood:                -360.21\n",
            "No. Observations:                 171   AIC:                             726.4\n",
            "Df Residuals:                     168   BIC:                             735.8\n",
            "Df Model:                           2                                         \n",
            "Covariance Type:            nonrobust                                         \n",
            "==============================================================================\n",
            "                 coef    std err          t      P>|t|      [0.025      0.975]\n",
            "------------------------------------------------------------------------------\n",
            "Intercept      3.5937      0.376      9.555      0.000       2.851       4.336\n",
            "youtube        0.0453      0.002     30.060      0.000       0.042       0.048\n",
            "facebook       0.1901      0.009     22.045      0.000       0.173       0.207\n",
            "==============================================================================\n",
            "Omnibus:                       59.525   Durbin-Watson:                   2.077\n",
            "Prob(Omnibus):                  0.000   Jarque-Bera (JB):              174.220\n",
            "Skew:                          -1.411   Prob(JB):                     1.47e-38\n",
            "Kurtosis:                       7.061   Cond. No.                         507.\n",
            "==============================================================================\n",
            "\n",
            "Notes:\n",
            "[1] Standard Errors assume that the covariance matrix of the errors is correctly specified.\n"
          ]
        }
      ],
      "source": [
        "#comparando com modelo estatistico OLS, usando metodo BACKWARK\n",
        "function=\"sales~youtube+facebook\"\n",
        "model=smf.ols(formula=function, data=mkt).fit()\n",
        "print(model.summary())"
      ]
    },
    {
      "cell_type": "markdown",
      "metadata": {
        "id": "XvrxlPEgYW8U"
      },
      "source": [
        "# Gráfico e tabela de predição x teste\n",
        "* Comparação de valores do valor *TARGET(y)* com o valor predito pelo modelo\n",
        "* Mostrando os valores previstos pelo modelo\n"
      ]
    },
    {
      "cell_type": "code",
      "execution_count": null,
      "metadata": {
        "id": "zpOMi8T0YW8V",
        "outputId": "ebc1e973-5ea3-4a3f-d30c-31899868941a"
      },
      "outputs": [
        {
          "data": {
            "text/plain": [
              "<AxesSubplot:>"
            ]
          },
          "execution_count": 25,
          "metadata": {},
          "output_type": "execute_result"
        },
        {
          "data": {
            "image/png": "[encoded data removed]",
            "text/plain": [
              "<Figure size 640x480 with 1 Axes>"
            ]
          },
          "metadata": {},
          "output_type": "display_data"
        }
      ],
      "source": [
        "#comparacao com o dados fornecidos com o regressao linear e a terceira linha o residuo\n",
        "tabela = pd.DataFrame()\n",
        "tabela[\"y_teste\"] = y_test\n",
        "tabela[\"Previsoes Regressao Linear\"] = y_pred_test\n",
        "sns.lineplot(data=tabela)"
      ]
    },
    {
      "cell_type": "code",
      "execution_count": null,
      "metadata": {
        "id": "7DBNN2gpYW8V",
        "outputId": "cf04d119-0281-4d81-e002-58b608dcb8de"
      },
      "outputs": [
        {
          "data": {
            "text/html": [
              "<div>\n",
              "<style scoped>\n",
              "    .dataframe tbody tr th:only-of-type {\n",
              "        vertical-align: middle;\n",
              "    }\n",
              "\n",
              "    .dataframe tbody tr th {\n",
              "        vertical-align: top;\n",
              "    }\n",
              "\n",
              "    .dataframe thead th {\n",
              "        text-align: right;\n",
              "    }\n",
              "</style>\n",
              "<table border=\"1\" class=\"dataframe\">\n",
              "  <thead>\n",
              "    <tr style=\"text-align: right;\">\n",
              "      <th></th>\n",
              "      <th>y_teste</th>\n",
              "      <th>Previsoes Regressao Linear</th>\n",
              "    </tr>\n",
              "  </thead>\n",
              "  <tbody>\n",
              "    <tr>\n",
              "      <th>101</th>\n",
              "      <td>1.92</td>\n",
              "      <td>10.404581</td>\n",
              "    </tr>\n",
              "    <tr>\n",
              "      <th>55</th>\n",
              "      <td>26.04</td>\n",
              "      <td>24.528014</td>\n",
              "    </tr>\n",
              "    <tr>\n",
              "      <th>56</th>\n",
              "      <td>18.24</td>\n",
              "      <td>20.040934</td>\n",
              "    </tr>\n",
              "    <tr>\n",
              "      <th>139</th>\n",
              "      <td>20.52</td>\n",
              "      <td>21.990620</td>\n",
              "    </tr>\n",
              "    <tr>\n",
              "      <th>157</th>\n",
              "      <td>12.36</td>\n",
              "      <td>12.360362</td>\n",
              "    </tr>\n",
              "    <tr>\n",
              "      <th>78</th>\n",
              "      <td>10.44</td>\n",
              "      <td>9.007425</td>\n",
              "    </tr>\n",
              "    <tr>\n",
              "      <th>135</th>\n",
              "      <td>14.28</td>\n",
              "      <td>12.545734</td>\n",
              "    </tr>\n",
              "    <tr>\n",
              "      <th>104</th>\n",
              "      <td>23.52</td>\n",
              "      <td>23.587688</td>\n",
              "    </tr>\n",
              "    <tr>\n",
              "      <th>109</th>\n",
              "      <td>11.52</td>\n",
              "      <td>10.828551</td>\n",
              "    </tr>\n",
              "    <tr>\n",
              "      <th>108</th>\n",
              "      <td>24.96</td>\n",
              "      <td>26.479141</td>\n",
              "    </tr>\n",
              "    <tr>\n",
              "      <th>162</th>\n",
              "      <td>11.88</td>\n",
              "      <td>9.396773</td>\n",
              "    </tr>\n",
              "    <tr>\n",
              "      <th>137</th>\n",
              "      <td>9.60</td>\n",
              "      <td>11.549246</td>\n",
              "    </tr>\n",
              "    <tr>\n",
              "      <th>51</th>\n",
              "      <td>14.16</td>\n",
              "      <td>13.011277</td>\n",
              "    </tr>\n",
              "    <tr>\n",
              "      <th>15</th>\n",
              "      <td>10.20</td>\n",
              "      <td>10.623637</td>\n",
              "    </tr>\n",
              "    <tr>\n",
              "      <th>45</th>\n",
              "      <td>20.40</td>\n",
              "      <td>20.329265</td>\n",
              "    </tr>\n",
              "    <tr>\n",
              "      <th>29</th>\n",
              "      <td>28.56</td>\n",
              "      <td>25.736220</td>\n",
              "    </tr>\n",
              "    <tr>\n",
              "      <th>69</th>\n",
              "      <td>30.48</td>\n",
              "      <td>29.558814</td>\n",
              "    </tr>\n",
              "    <tr>\n",
              "      <th>30</th>\n",
              "      <td>22.08</td>\n",
              "      <td>20.925370</td>\n",
              "    </tr>\n",
              "    <tr>\n",
              "      <th>140</th>\n",
              "      <td>18.00</td>\n",
              "      <td>21.662675</td>\n",
              "    </tr>\n",
              "    <tr>\n",
              "      <th>24</th>\n",
              "      <td>25.44</td>\n",
              "      <td>24.265881</td>\n",
              "    </tr>\n",
              "    <tr>\n",
              "      <th>60</th>\n",
              "      <td>20.04</td>\n",
              "      <td>19.993096</td>\n",
              "    </tr>\n",
              "    <tr>\n",
              "      <th>167</th>\n",
              "      <td>11.64</td>\n",
              "      <td>9.492018</td>\n",
              "    </tr>\n",
              "    <tr>\n",
              "      <th>19</th>\n",
              "      <td>17.76</td>\n",
              "      <td>20.949343</td>\n",
              "    </tr>\n",
              "    <tr>\n",
              "      <th>16</th>\n",
              "      <td>17.88</td>\n",
              "      <td>18.403070</td>\n",
              "    </tr>\n",
              "    <tr>\n",
              "      <th>144</th>\n",
              "      <td>14.04</td>\n",
              "      <td>14.446163</td>\n",
              "    </tr>\n",
              "    <tr>\n",
              "      <th>18</th>\n",
              "      <td>27.84</td>\n",
              "      <td>25.211211</td>\n",
              "    </tr>\n",
              "    <tr>\n",
              "      <th>12</th>\n",
              "      <td>20.52</td>\n",
              "      <td>20.802127</td>\n",
              "    </tr>\n",
              "    <tr>\n",
              "      <th>114</th>\n",
              "      <td>12.48</td>\n",
              "      <td>11.272558</td>\n",
              "    </tr>\n",
              "    <tr>\n",
              "      <th>9</th>\n",
              "      <td>12.12</td>\n",
              "      <td>11.548679</td>\n",
              "    </tr>\n",
              "    <tr>\n",
              "      <th>113</th>\n",
              "      <td>24.12</td>\n",
              "      <td>23.294061</td>\n",
              "    </tr>\n",
              "    <tr>\n",
              "      <th>31</th>\n",
              "      <td>9.72</td>\n",
              "      <td>7.079214</td>\n",
              "    </tr>\n",
              "    <tr>\n",
              "      <th>90</th>\n",
              "      <td>7.92</td>\n",
              "      <td>7.686163</td>\n",
              "    </tr>\n",
              "    <tr>\n",
              "      <th>132</th>\n",
              "      <td>15.96</td>\n",
              "      <td>16.283053</td>\n",
              "    </tr>\n",
              "    <tr>\n",
              "      <th>76</th>\n",
              "      <td>23.04</td>\n",
              "      <td>21.683917</td>\n",
              "    </tr>\n",
              "    <tr>\n",
              "      <th>117</th>\n",
              "      <td>15.84</td>\n",
              "      <td>18.543120</td>\n",
              "    </tr>\n",
              "  </tbody>\n",
              "</table>\n",
              "</div>"
            ],
            "text/plain": [
              "     y_teste  Previsoes Regressao Linear\n",
              "101     1.92                   10.404581\n",
              "55     26.04                   24.528014\n",
              "56     18.24                   20.040934\n",
              "139    20.52                   21.990620\n",
              "157    12.36                   12.360362\n",
              "78     10.44                    9.007425\n",
              "135    14.28                   12.545734\n",
              "104    23.52                   23.587688\n",
              "109    11.52                   10.828551\n",
              "108    24.96                   26.479141\n",
              "162    11.88                    9.396773\n",
              "137     9.60                   11.549246\n",
              "51     14.16                   13.011277\n",
              "15     10.20                   10.623637\n",
              "45     20.40                   20.329265\n",
              "29     28.56                   25.736220\n",
              "69     30.48                   29.558814\n",
              "30     22.08                   20.925370\n",
              "140    18.00                   21.662675\n",
              "24     25.44                   24.265881\n",
              "60     20.04                   19.993096\n",
              "167    11.64                    9.492018\n",
              "19     17.76                   20.949343\n",
              "16     17.88                   18.403070\n",
              "144    14.04                   14.446163\n",
              "18     27.84                   25.211211\n",
              "12     20.52                   20.802127\n",
              "114    12.48                   11.272558\n",
              "9      12.12                   11.548679\n",
              "113    24.12                   23.294061\n",
              "31      9.72                    7.079214\n",
              "90      7.92                    7.686163\n",
              "132    15.96                   16.283053\n",
              "76     23.04                   21.683917\n",
              "117    15.84                   18.543120"
            ]
          },
          "execution_count": 26,
          "metadata": {},
          "output_type": "execute_result"
        }
      ],
      "source": [
        "tabela\n"
      ]
    },
    {
      "cell_type": "markdown",
      "metadata": {
        "id": "7_cLtVr8YW8V"
      },
      "source": [
        "# Normalizando o dados para comparação com modelo não normalizado\n",
        "* Utilizando o metodo *MinMaxScaler*\n",
        "* Definindo uma variavel scaler\n",
        "* Modelando os dados treinando o determinando o R^2"
      ]
    },
    {
      "cell_type": "code",
      "execution_count": null,
      "metadata": {
        "id": "PlzKqvWUYW8V"
      },
      "outputs": [],
      "source": [
        "#normalizando os valores para ver pode haver alguma diferenca no resultado final\n",
        "scaler=MinMaxScaler()"
      ]
    },
    {
      "cell_type": "code",
      "execution_count": null,
      "metadata": {
        "id": "QMReIexYYW8V",
        "outputId": "2af81a3e-c27d-4a75-c9f0-09ae57e1e810"
      },
      "outputs": [
        {
          "data": {
            "text/html": [
              "<div>\n",
              "<style scoped>\n",
              "    .dataframe tbody tr th:only-of-type {\n",
              "        vertical-align: middle;\n",
              "    }\n",
              "\n",
              "    .dataframe tbody tr th {\n",
              "        vertical-align: top;\n",
              "    }\n",
              "\n",
              "    .dataframe thead th {\n",
              "        text-align: right;\n",
              "    }\n",
              "</style>\n",
              "<table border=\"1\" class=\"dataframe\">\n",
              "  <thead>\n",
              "    <tr style=\"text-align: right;\">\n",
              "      <th></th>\n",
              "      <th>youtube</th>\n",
              "      <th>facebook</th>\n",
              "      <th>newspaper</th>\n",
              "      <th>sales</th>\n",
              "    </tr>\n",
              "  </thead>\n",
              "  <tbody>\n",
              "    <tr>\n",
              "      <th>0</th>\n",
              "      <td>0.236388</td>\n",
              "      <td>0.322581</td>\n",
              "      <td>0.402584</td>\n",
              "      <td>0.350394</td>\n",
              "    </tr>\n",
              "    <tr>\n",
              "      <th>1</th>\n",
              "      <td>0.988164</td>\n",
              "      <td>0.570565</td>\n",
              "      <td>0.426441</td>\n",
              "      <td>0.779528</td>\n",
              "    </tr>\n",
              "    <tr>\n",
              "      <th>2</th>\n",
              "      <td>0.379439</td>\n",
              "      <td>0.350806</td>\n",
              "      <td>0.380716</td>\n",
              "      <td>0.405512</td>\n",
              "    </tr>\n",
              "    <tr>\n",
              "      <th>3</th>\n",
              "      <td>0.326344</td>\n",
              "      <td>0.030242</td>\n",
              "      <td>0.295229</td>\n",
              "      <td>0.314961</td>\n",
              "    </tr>\n",
              "    <tr>\n",
              "      <th>4</th>\n",
              "      <td>0.895840</td>\n",
              "      <td>0.403226</td>\n",
              "      <td>0.000000</td>\n",
              "      <td>0.622047</td>\n",
              "    </tr>\n",
              "  </tbody>\n",
              "</table>\n",
              "</div>"
            ],
            "text/plain": [
              "    youtube  facebook  newspaper     sales\n",
              "0  0.236388  0.322581   0.402584  0.350394\n",
              "1  0.988164  0.570565   0.426441  0.779528\n",
              "2  0.379439  0.350806   0.380716  0.405512\n",
              "3  0.326344  0.030242   0.295229  0.314961\n",
              "4  0.895840  0.403226   0.000000  0.622047"
            ]
          },
          "execution_count": 28,
          "metadata": {},
          "output_type": "execute_result"
        }
      ],
      "source": [
        "mkt_norm=pd.DataFrame(scaler.fit_transform(mkt), index=mkt.index, columns=mkt.columns)\n",
        "\n",
        "mkt_norm.head()\n"
      ]
    },
    {
      "cell_type": "code",
      "execution_count": null,
      "metadata": {
        "id": "43mR7NFXYW8W"
      },
      "outputs": [],
      "source": [
        "x=mkt_norm.drop(columns=[\"sales\"])\n",
        "y=mkt_norm[\"sales\"].to_frame(name=\"sales\")\n"
      ]
    },
    {
      "cell_type": "code",
      "execution_count": null,
      "metadata": {
        "id": "2DQ1YsQ_YW8W",
        "outputId": "5ba6540c-2302-48d9-a688-3421f36fbd92"
      },
      "outputs": [
        {
          "data": {
            "text/plain": [
              "0.9074962891333168"
            ]
          },
          "execution_count": 30,
          "metadata": {},
          "output_type": "execute_result"
        }
      ],
      "source": [
        "#Fit do modelo\n",
        "norm=LinearRegression()\n",
        "x_test,x_train,y_test,y_train=train_test_split(x,y, test_size=0.2, random_state=42)\n",
        "norm.fit(x_train, y_train)\n",
        "norm.fit(x_test, y_test)\n",
        "normsq=norm.score(x_test, y_test)\n",
        "normsq"
      ]
    },
    {
      "cell_type": "markdown",
      "metadata": {
        "id": "nglsqIzAYW8W"
      },
      "source": []
    }
  ],
  "metadata": {
    "kernelspec": {
      "display_name": "base",
      "language": "python",
      "name": "python3"
    },
    "language_info": {
      "codemirror_mode": {
        "name": "ipython",
        "version": 3
      },
      "file_extension": ".py",
      "mimetype": "text/x-python",
      "name": "python",
      "nbconvert_exporter": "python",
      "pygments_lexer": "ipython3",
      "version": "3.9.13"
    },
    "orig_nbformat": 4,
    "colab": {
      "provenance": [],
      "toc_visible": true,
      "include_colab_link": true
    }
  },
  "nbformat": 4,
  "nbformat_minor": 0
}