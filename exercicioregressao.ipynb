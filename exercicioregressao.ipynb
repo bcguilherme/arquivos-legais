{
  "cells": [
    {
      "cell_type": "markdown",
      "metadata": {
        "id": "view-in-github",
        "colab_type": "text"
      },
      "source": [
        "<a href=\"https://colab.research.google.com/github/bcguilherme/arquivos-legais/blob/main/exercicioregressao.ipynb\" target=\"_parent\"><img src=\"https://colab.research.google.com/assets/colab-badge.svg\" alt=\"Open In Colab\"/></a>"
      ]
    },
    {
      "cell_type": "code",
      "execution_count": null,
      "metadata": {
        "id": "fNl_gLlyIYsz"
      },
      "outputs": [],
      "source": [
        "#importando libs\n",
        "import pandas as pd\n",
        "import statsmodels.api as sm\n",
        "import statsmodels.formula.api as smf\n",
        "import seaborn as sns\n",
        "import statistics as sts\n"
      ]
    },
    {
      "cell_type": "code",
      "execution_count": null,
      "metadata": {
        "id": "yDNQVZXkIYs1",
        "outputId": "ce263539-91db-4b70-8ab0-51a12b5e8d69"
      },
      "outputs": [
        {
          "data": {
            "text/plain": [
              "(27, 3)"
            ]
          },
          "execution_count": 26,
          "metadata": {},
          "output_type": "execute_result"
        }
      ],
      "source": [
        "#importando dataset\n",
        "notas=pd.read_excel(\"/Users/chenyenpin/Downloads/aprovacaoalunos.xlsx\")\n",
        "notas.shape\n"
      ]
    },
    {
      "cell_type": "code",
      "execution_count": null,
      "metadata": {
        "id": "wGKsdeL7IYs2",
        "outputId": "56db5e32-e7ed-4b37-98b8-b9562f27c1e4"
      },
      "outputs": [
        {
          "data": {
            "text/plain": [
              "UF          0\n",
              "ano_2015    0\n",
              "ano_2016    0\n",
              "dtype: int64"
            ]
          },
          "execution_count": 27,
          "metadata": {},
          "output_type": "execute_result"
        }
      ],
      "source": [
        "#sabendo se tem dados faltantes ou NA\n",
        "notas.isna().sum()"
      ]
    },
    {
      "cell_type": "code",
      "execution_count": null,
      "metadata": {
        "id": "pfIJ23IOIYs3",
        "outputId": "9cb1dd36-eae9-497c-baa0-029150e862f7"
      },
      "outputs": [
        {
          "data": {
            "text/html": [
              "<div>\n",
              "<style scoped>\n",
              "    .dataframe tbody tr th:only-of-type {\n",
              "        vertical-align: middle;\n",
              "    }\n",
              "\n",
              "    .dataframe tbody tr th {\n",
              "        vertical-align: top;\n",
              "    }\n",
              "\n",
              "    .dataframe thead th {\n",
              "        text-align: right;\n",
              "    }\n",
              "</style>\n",
              "<table border=\"1\" class=\"dataframe\">\n",
              "  <thead>\n",
              "    <tr style=\"text-align: right;\">\n",
              "      <th></th>\n",
              "      <th>UF</th>\n",
              "      <th>2015</th>\n",
              "      <th>2016</th>\n",
              "    </tr>\n",
              "  </thead>\n",
              "  <tbody>\n",
              "    <tr>\n",
              "      <th>0</th>\n",
              "      <td>Rondonia</td>\n",
              "      <td>77</td>\n",
              "      <td>85</td>\n",
              "    </tr>\n",
              "    <tr>\n",
              "      <th>1</th>\n",
              "      <td>Acre</td>\n",
              "      <td>79</td>\n",
              "      <td>81</td>\n",
              "    </tr>\n",
              "    <tr>\n",
              "      <th>2</th>\n",
              "      <td>Amazonas</td>\n",
              "      <td>83</td>\n",
              "      <td>85</td>\n",
              "    </tr>\n",
              "    <tr>\n",
              "      <th>3</th>\n",
              "      <td>Roraima</td>\n",
              "      <td>81</td>\n",
              "      <td>82</td>\n",
              "    </tr>\n",
              "    <tr>\n",
              "      <th>4</th>\n",
              "      <td>Para</td>\n",
              "      <td>73</td>\n",
              "      <td>76</td>\n",
              "    </tr>\n",
              "    <tr>\n",
              "      <th>5</th>\n",
              "      <td>Amapa</td>\n",
              "      <td>76</td>\n",
              "      <td>75</td>\n",
              "    </tr>\n",
              "    <tr>\n",
              "      <th>6</th>\n",
              "      <td>Tocantins</td>\n",
              "      <td>81</td>\n",
              "      <td>82</td>\n",
              "    </tr>\n",
              "    <tr>\n",
              "      <th>7</th>\n",
              "      <td>Maranhao</td>\n",
              "      <td>81</td>\n",
              "      <td>81</td>\n",
              "    </tr>\n",
              "    <tr>\n",
              "      <th>8</th>\n",
              "      <td>Piaui</td>\n",
              "      <td>80</td>\n",
              "      <td>81</td>\n",
              "    </tr>\n",
              "    <tr>\n",
              "      <th>9</th>\n",
              "      <td>Ceara</td>\n",
              "      <td>86</td>\n",
              "      <td>85</td>\n",
              "    </tr>\n",
              "  </tbody>\n",
              "</table>\n",
              "</div>"
            ],
            "text/plain": [
              "           UF  2015  2016\n",
              "0    Rondonia    77    85\n",
              "1        Acre    79    81\n",
              "2    Amazonas    83    85\n",
              "3     Roraima    81    82\n",
              "4        Para    73    76\n",
              "5       Amapa    76    75\n",
              "6  Tocantins     81    82\n",
              "7    Maranhao    81    81\n",
              "8       Piaui    80    81\n",
              "9       Ceara    86    85"
            ]
          },
          "execution_count": 28,
          "metadata": {},
          "output_type": "execute_result"
        }
      ],
      "source": [
        "notas\n",
        "notas.columns=[\"UF\",\"2015\",\"2016\"]\n",
        "notas.head(10)\n"
      ]
    },
    {
      "cell_type": "code",
      "execution_count": null,
      "metadata": {
        "id": "R0QxoAcMIYs3",
        "outputId": "956c013d-610d-4788-bca7-01ca20badcb0"
      },
      "outputs": [
        {
          "data": {
            "text/html": [
              "<div>\n",
              "<style scoped>\n",
              "    .dataframe tbody tr th:only-of-type {\n",
              "        vertical-align: middle;\n",
              "    }\n",
              "\n",
              "    .dataframe tbody tr th {\n",
              "        vertical-align: top;\n",
              "    }\n",
              "\n",
              "    .dataframe thead th {\n",
              "        text-align: right;\n",
              "    }\n",
              "</style>\n",
              "<table border=\"1\" class=\"dataframe\">\n",
              "  <thead>\n",
              "    <tr style=\"text-align: right;\">\n",
              "      <th></th>\n",
              "      <th>2015</th>\n",
              "      <th>2016</th>\n",
              "    </tr>\n",
              "  </thead>\n",
              "  <tbody>\n",
              "    <tr>\n",
              "      <th>count</th>\n",
              "      <td>27.000000</td>\n",
              "      <td>27.000000</td>\n",
              "    </tr>\n",
              "    <tr>\n",
              "      <th>mean</th>\n",
              "      <td>79.333333</td>\n",
              "      <td>80.185185</td>\n",
              "    </tr>\n",
              "    <tr>\n",
              "      <th>std</th>\n",
              "      <td>4.969136</td>\n",
              "      <td>4.820126</td>\n",
              "    </tr>\n",
              "    <tr>\n",
              "      <th>min</th>\n",
              "      <td>68.000000</td>\n",
              "      <td>70.000000</td>\n",
              "    </tr>\n",
              "    <tr>\n",
              "      <th>25%</th>\n",
              "      <td>76.000000</td>\n",
              "      <td>76.500000</td>\n",
              "    </tr>\n",
              "    <tr>\n",
              "      <th>50%</th>\n",
              "      <td>80.000000</td>\n",
              "      <td>81.000000</td>\n",
              "    </tr>\n",
              "    <tr>\n",
              "      <th>75%</th>\n",
              "      <td>81.500000</td>\n",
              "      <td>82.500000</td>\n",
              "    </tr>\n",
              "    <tr>\n",
              "      <th>max</th>\n",
              "      <td>89.000000</td>\n",
              "      <td>91.000000</td>\n",
              "    </tr>\n",
              "  </tbody>\n",
              "</table>\n",
              "</div>"
            ],
            "text/plain": [
              "            2015       2016\n",
              "count  27.000000  27.000000\n",
              "mean   79.333333  80.185185\n",
              "std     4.969136   4.820126\n",
              "min    68.000000  70.000000\n",
              "25%    76.000000  76.500000\n",
              "50%    80.000000  81.000000\n",
              "75%    81.500000  82.500000\n",
              "max    89.000000  91.000000"
            ]
          },
          "execution_count": 29,
          "metadata": {},
          "output_type": "execute_result"
        }
      ],
      "source": [
        "#entedendo as notas\n",
        "notas.describe()"
      ]
    },
    {
      "cell_type": "code",
      "execution_count": null,
      "metadata": {
        "id": "9MiVauflIYs3"
      },
      "outputs": [],
      "source": [
        "#substituindo as abreviaturas por nome completo\n",
        "notas.loc[(notas[\"UF\"]).isin([\"RN\",\"MG\",\"ES\",\"RJ\",\"SP\",\"SC\",\"RS\",\"MS\",\"MT\",\"DF\"]),\"UF\"]=\"Rio Grande do Norte\",\"Minas Gerais\", \"Espirito Santo\",\"Rio de Janeiro\",\"Sao Paulo\",\"Santa Catarina\",\"Rio Grande do Sul\",\"Mato Grosso do Sul\",\"Mato Grosso\",\"Distrito Federal\""
      ]
    },
    {
      "cell_type": "code",
      "execution_count": null,
      "metadata": {
        "id": "2jRMLFinIYs4",
        "outputId": "097aaee7-1fd6-4e40-d116-b723c05c673f"
      },
      "outputs": [
        {
          "data": {
            "text/html": [
              "<div>\n",
              "<style scoped>\n",
              "    .dataframe tbody tr th:only-of-type {\n",
              "        vertical-align: middle;\n",
              "    }\n",
              "\n",
              "    .dataframe tbody tr th {\n",
              "        vertical-align: top;\n",
              "    }\n",
              "\n",
              "    .dataframe thead th {\n",
              "        text-align: right;\n",
              "    }\n",
              "</style>\n",
              "<table border=\"1\" class=\"dataframe\">\n",
              "  <thead>\n",
              "    <tr style=\"text-align: right;\">\n",
              "      <th></th>\n",
              "      <th>UF</th>\n",
              "      <th>2015</th>\n",
              "      <th>2016</th>\n",
              "    </tr>\n",
              "  </thead>\n",
              "  <tbody>\n",
              "  </tbody>\n",
              "</table>\n",
              "</div>"
            ],
            "text/plain": [
              "Empty DataFrame\n",
              "Columns: [UF, 2015, 2016]\n",
              "Index: []"
            ]
          },
          "execution_count": 31,
          "metadata": {},
          "output_type": "execute_result"
        }
      ],
      "source": [
        "#procurando notas fora do pdrao abaixo de 0 ou acima de 100\n",
        "notas.loc[(notas[\"2015\"])<0 | (notas[\"2016\"]>100)]"
      ]
    },
    {
      "cell_type": "code",
      "execution_count": null,
      "metadata": {
        "id": "4MMGyYKSIYs4",
        "outputId": "f4bf6d51-1ede-4cee-cb60-d423683161f2"
      },
      "outputs": [
        {
          "data": {
            "text/plain": [
              "<AxesSubplot:xlabel='2015', ylabel='Count'>"
            ]
          },
          "execution_count": 32,
          "metadata": {},
          "output_type": "execute_result"
        },
        {
          "data": {
            "image/png": "[encoded data removed]",
            "text/plain": [
              "<Figure size 640x480 with 1 Axes>"
            ]
          },
          "metadata": {},
          "output_type": "display_data"
        }
      ],
      "source": [
        "#distribuicao das notas em grafico\n",
        "sns.histplot(notas[\"2015\"], kde=True, color=\"black\", bins=8)"
      ]
    },
    {
      "cell_type": "code",
      "execution_count": null,
      "metadata": {
        "id": "0Y2WCNqDIYs5",
        "outputId": "bc405369-84fd-4a9d-b0de-92a7f0d57f08"
      },
      "outputs": [
        {
          "data": {
            "text/plain": [
              "<AxesSubplot:xlabel='2016', ylabel='Count'>"
            ]
          },
          "execution_count": 33,
          "metadata": {},
          "output_type": "execute_result"
        },
        {
          "data": {
            "image/png": "[encoded data removed]",
            "text/plain": [
              "<Figure size 640x480 with 1 Axes>"
            ]
          },
          "metadata": {},
          "output_type": "display_data"
        }
      ],
      "source": [
        "sns.histplot(notas[\"2016\"], kde=True, color=\"Black\" ,bins=8)"
      ]
    },
    {
      "cell_type": "code",
      "execution_count": null,
      "metadata": {
        "id": "DP8_LEnoIYs5",
        "outputId": "3a4e4954-1151-4b80-aed2-f86336b05298"
      },
      "outputs": [
        {
          "data": {
            "text/plain": [
              "<AxesSubplot:xlabel='2016', ylabel='2015'>"
            ]
          },
          "execution_count": 34,
          "metadata": {},
          "output_type": "execute_result"
        },
        {
          "data": {
            "image/png": "[encoded data removed]",
            "text/plain": [
              "<Figure size 640x480 with 1 Axes>"
            ]
          },
          "metadata": {},
          "output_type": "display_data"
        }
      ],
      "source": [
        "sns.regplot(data=notas, x=\"2016\", y=\"2015\",x_jitter=0.3, fit_reg=True, color='black', marker=\".\")"
      ]
    },
    {
      "cell_type": "code",
      "execution_count": null,
      "metadata": {
        "id": "LgpK7ic7IYs6",
        "outputId": "e78d0741-f971-48e4-ca86-bb733cead4e1"
      },
      "outputs": [
        {
          "data": {
            "text/html": [
              "<div>\n",
              "<style scoped>\n",
              "    .dataframe tbody tr th:only-of-type {\n",
              "        vertical-align: middle;\n",
              "    }\n",
              "\n",
              "    .dataframe tbody tr th {\n",
              "        vertical-align: top;\n",
              "    }\n",
              "\n",
              "    .dataframe thead th {\n",
              "        text-align: right;\n",
              "    }\n",
              "</style>\n",
              "<table border=\"1\" class=\"dataframe\">\n",
              "  <thead>\n",
              "    <tr style=\"text-align: right;\">\n",
              "      <th></th>\n",
              "      <th>2015</th>\n",
              "      <th>2016</th>\n",
              "    </tr>\n",
              "  </thead>\n",
              "  <tbody>\n",
              "    <tr>\n",
              "      <th>2015</th>\n",
              "      <td>1.000000</td>\n",
              "      <td>0.894957</td>\n",
              "    </tr>\n",
              "    <tr>\n",
              "      <th>2016</th>\n",
              "      <td>0.894957</td>\n",
              "      <td>1.000000</td>\n",
              "    </tr>\n",
              "  </tbody>\n",
              "</table>\n",
              "</div>"
            ],
            "text/plain": [
              "          2015      2016\n",
              "2015  1.000000  0.894957\n",
              "2016  0.894957  1.000000"
            ]
          },
          "execution_count": 35,
          "metadata": {},
          "output_type": "execute_result"
        }
      ],
      "source": [
        "#entendendo a correlacao entre os anos\n",
        "corr=notas.corr()\n",
        "corr"
      ]
    },
    {
      "cell_type": "code",
      "execution_count": null,
      "metadata": {
        "id": "2s-IIbYoIYs6",
        "outputId": "b486084f-1840-4f55-bd2e-0a037cc99968"
      },
      "outputs": [
        {
          "name": "stdout",
          "output_type": "stream",
          "text": [
            "4.820126371125371\n",
            "4.969135507541296\n"
          ]
        }
      ],
      "source": [
        "#calculando inclinacao da reta m=r(desviopadrao x/ desviopadrao y)\n",
        "std_x=sts.stdev(notas[\"2016\"])\n",
        "print(std_x)\n",
        "std_y=sts.stdev(notas[\"2015\"])\n",
        "print(std_y)\n",
        "corr=0.894957"
      ]
    },
    {
      "cell_type": "code",
      "execution_count": null,
      "metadata": {
        "id": "bl6XDvP1IYs7",
        "outputId": "7292523d-cedc-48c8-c19f-9639443e15b0"
      },
      "outputs": [
        {
          "name": "stdout",
          "output_type": "stream",
          "text": [
            "0.9226236542392439\n"
          ]
        }
      ],
      "source": [
        "#m=r*(std_y/std_x)\n",
        "m=corr*(std_y/std_x)\n",
        "print(m)"
      ]
    },
    {
      "cell_type": "code",
      "execution_count": null,
      "metadata": {
        "id": "lFZkmfz3IYs7",
        "outputId": "0fdfc39c-ccbf-47a4-8b73-4773a5c06fe2"
      },
      "outputs": [
        {
          "name": "stdout",
          "output_type": "stream",
          "text": [
            "5.3525847619272895\n"
          ]
        }
      ],
      "source": [
        "#intercept = b\n",
        "media_y=sts.mean(notas[\"2015\"])\n",
        "media_x=sts.mean(notas[\"2016\"])\n",
        "b=media_y-(media_x * m)\n",
        "print(b)\n"
      ]
    },
    {
      "cell_type": "code",
      "execution_count": null,
      "metadata": {
        "id": "DWTGnePRIYs7"
      },
      "outputs": [],
      "source": [
        "y=notas[\"2016\"]\n",
        "x=sm.add_constant(notas[\"2015\"])"
      ]
    },
    {
      "cell_type": "code",
      "execution_count": null,
      "metadata": {
        "id": "FJy06Q8eIYs8"
      },
      "outputs": [],
      "source": []
    },
    {
      "cell_type": "code",
      "execution_count": null,
      "metadata": {
        "id": "7U6EeYriIYs8"
      },
      "outputs": [],
      "source": [
        "resultado_regeressao = sm.OLS(y,x).fit()"
      ]
    },
    {
      "cell_type": "code",
      "execution_count": null,
      "metadata": {
        "id": "CviBJAoFIYs8",
        "outputId": "edb5b2bd-6331-4a38-a2b6-35a2a5b1b242"
      },
      "outputs": [
        {
          "name": "stdout",
          "output_type": "stream",
          "text": [
            "                            OLS Regression Results                            \n",
            "==============================================================================\n",
            "Dep. Variable:                   2016   R-squared:                       0.801\n",
            "Model:                            OLS   Adj. R-squared:                  0.793\n",
            "Method:                 Least Squares   F-statistic:                     100.6\n",
            "Date:                Tue, 30 May 2023   Prob (F-statistic):           3.02e-10\n",
            "Time:                        11:58:04   Log-Likelihood:                -58.476\n",
            "No. Observations:                  27   AIC:                             121.0\n",
            "Df Residuals:                      25   BIC:                             123.5\n",
            "Df Model:                           1                                         \n",
            "Covariance Type:            nonrobust                                         \n",
            "==============================================================================\n",
            "                 coef    std err          t      P>|t|      [0.025      0.975]\n",
            "------------------------------------------------------------------------------\n",
            "const         11.3143      6.880      1.645      0.113      -2.855      25.483\n",
            "2015           0.8681      0.087     10.030      0.000       0.690       1.046\n",
            "==============================================================================\n",
            "Omnibus:                        8.744   Durbin-Watson:                   1.616\n",
            "Prob(Omnibus):                  0.013   Jarque-Bera (JB):               11.774\n",
            "Skew:                           0.487   Prob(JB):                      0.00278\n",
            "Kurtosis:                       6.085   Cond. No.                     1.30e+03\n",
            "==============================================================================\n",
            "\n",
            "Notes:\n",
            "[1] Standard Errors assume that the covariance matrix of the errors is correctly specified.\n",
            "[2] The condition number is large, 1.3e+03. This might indicate that there are\n",
            "strong multicollinearity or other numerical problems.\n"
          ]
        }
      ],
      "source": [
        "print(resultado_regeressao.summary())"
      ]
    },
    {
      "cell_type": "code",
      "execution_count": null,
      "metadata": {
        "id": "h8OUzIljIYs8",
        "outputId": "471047ec-f4b4-4e54-bf50-e1c64e982151"
      },
      "outputs": [
        {
          "data": {
            "text/html": [
              "<div>\n",
              "<style scoped>\n",
              "    .dataframe tbody tr th:only-of-type {\n",
              "        vertical-align: middle;\n",
              "    }\n",
              "\n",
              "    .dataframe tbody tr th {\n",
              "        vertical-align: top;\n",
              "    }\n",
              "\n",
              "    .dataframe thead th {\n",
              "        text-align: right;\n",
              "    }\n",
              "</style>\n",
              "<table border=\"1\" class=\"dataframe\">\n",
              "  <thead>\n",
              "    <tr style=\"text-align: right;\">\n",
              "      <th></th>\n",
              "      <th>UF</th>\n",
              "      <th>2015</th>\n",
              "      <th>2016</th>\n",
              "      <th>Y_Prevista</th>\n",
              "    </tr>\n",
              "  </thead>\n",
              "  <tbody>\n",
              "    <tr>\n",
              "      <th>0</th>\n",
              "      <td>Rondonia</td>\n",
              "      <td>77</td>\n",
              "      <td>85</td>\n",
              "      <td>78.159571</td>\n",
              "    </tr>\n",
              "    <tr>\n",
              "      <th>1</th>\n",
              "      <td>Acre</td>\n",
              "      <td>79</td>\n",
              "      <td>81</td>\n",
              "      <td>79.895812</td>\n",
              "    </tr>\n",
              "    <tr>\n",
              "      <th>2</th>\n",
              "      <td>Amazonas</td>\n",
              "      <td>83</td>\n",
              "      <td>85</td>\n",
              "      <td>83.368294</td>\n",
              "    </tr>\n",
              "    <tr>\n",
              "      <th>3</th>\n",
              "      <td>Roraima</td>\n",
              "      <td>81</td>\n",
              "      <td>82</td>\n",
              "      <td>81.632053</td>\n",
              "    </tr>\n",
              "    <tr>\n",
              "      <th>4</th>\n",
              "      <td>Para</td>\n",
              "      <td>73</td>\n",
              "      <td>76</td>\n",
              "      <td>74.687089</td>\n",
              "    </tr>\n",
              "    <tr>\n",
              "      <th>5</th>\n",
              "      <td>Amapa</td>\n",
              "      <td>76</td>\n",
              "      <td>75</td>\n",
              "      <td>77.291450</td>\n",
              "    </tr>\n",
              "    <tr>\n",
              "      <th>6</th>\n",
              "      <td>Tocantins</td>\n",
              "      <td>81</td>\n",
              "      <td>82</td>\n",
              "      <td>81.632053</td>\n",
              "    </tr>\n",
              "    <tr>\n",
              "      <th>7</th>\n",
              "      <td>Maranhao</td>\n",
              "      <td>81</td>\n",
              "      <td>81</td>\n",
              "      <td>81.632053</td>\n",
              "    </tr>\n",
              "    <tr>\n",
              "      <th>8</th>\n",
              "      <td>Piaui</td>\n",
              "      <td>80</td>\n",
              "      <td>81</td>\n",
              "      <td>80.763932</td>\n",
              "    </tr>\n",
              "    <tr>\n",
              "      <th>9</th>\n",
              "      <td>Ceara</td>\n",
              "      <td>86</td>\n",
              "      <td>85</td>\n",
              "      <td>85.972655</td>\n",
              "    </tr>\n",
              "    <tr>\n",
              "      <th>10</th>\n",
              "      <td>Rio Grande do Norte</td>\n",
              "      <td>74</td>\n",
              "      <td>75</td>\n",
              "      <td>75.555209</td>\n",
              "    </tr>\n",
              "    <tr>\n",
              "      <th>11</th>\n",
              "      <td>Paraiba</td>\n",
              "      <td>79</td>\n",
              "      <td>78</td>\n",
              "      <td>79.895812</td>\n",
              "    </tr>\n",
              "    <tr>\n",
              "      <th>12</th>\n",
              "      <td>Pernambuco</td>\n",
              "      <td>89</td>\n",
              "      <td>91</td>\n",
              "      <td>88.577016</td>\n",
              "    </tr>\n",
              "    <tr>\n",
              "      <th>13</th>\n",
              "      <td>Alagoas</td>\n",
              "      <td>75</td>\n",
              "      <td>77</td>\n",
              "      <td>76.423330</td>\n",
              "    </tr>\n",
              "    <tr>\n",
              "      <th>14</th>\n",
              "      <td>Sergipe</td>\n",
              "      <td>71</td>\n",
              "      <td>74</td>\n",
              "      <td>72.950848</td>\n",
              "    </tr>\n",
              "    <tr>\n",
              "      <th>15</th>\n",
              "      <td>Bahia</td>\n",
              "      <td>76</td>\n",
              "      <td>75</td>\n",
              "      <td>77.291450</td>\n",
              "    </tr>\n",
              "    <tr>\n",
              "      <th>16</th>\n",
              "      <td>Minas Gerais</td>\n",
              "      <td>81</td>\n",
              "      <td>81</td>\n",
              "      <td>81.632053</td>\n",
              "    </tr>\n",
              "    <tr>\n",
              "      <th>17</th>\n",
              "      <td>Espirito Santo</td>\n",
              "      <td>80</td>\n",
              "      <td>81</td>\n",
              "      <td>80.763932</td>\n",
              "    </tr>\n",
              "    <tr>\n",
              "      <th>18</th>\n",
              "      <td>Rio de Janeiro</td>\n",
              "      <td>83</td>\n",
              "      <td>78</td>\n",
              "      <td>83.368294</td>\n",
              "    </tr>\n",
              "    <tr>\n",
              "      <th>19</th>\n",
              "      <td>Sao Paulo</td>\n",
              "      <td>88</td>\n",
              "      <td>87</td>\n",
              "      <td>87.708896</td>\n",
              "    </tr>\n",
              "    <tr>\n",
              "      <th>20</th>\n",
              "      <td>Parana</td>\n",
              "      <td>81</td>\n",
              "      <td>81</td>\n",
              "      <td>81.632053</td>\n",
              "    </tr>\n",
              "    <tr>\n",
              "      <th>21</th>\n",
              "      <td>Santa Catarina</td>\n",
              "      <td>80</td>\n",
              "      <td>82</td>\n",
              "      <td>80.763932</td>\n",
              "    </tr>\n",
              "    <tr>\n",
              "      <th>22</th>\n",
              "      <td>Rio Grande do Sul</td>\n",
              "      <td>76</td>\n",
              "      <td>74</td>\n",
              "      <td>77.291450</td>\n",
              "    </tr>\n",
              "    <tr>\n",
              "      <th>23</th>\n",
              "      <td>Mato Grosso do Sul</td>\n",
              "      <td>76</td>\n",
              "      <td>78</td>\n",
              "      <td>77.291450</td>\n",
              "    </tr>\n",
              "    <tr>\n",
              "      <th>24</th>\n",
              "      <td>Mato Grosso</td>\n",
              "      <td>68</td>\n",
              "      <td>70</td>\n",
              "      <td>70.346487</td>\n",
              "    </tr>\n",
              "    <tr>\n",
              "      <th>25</th>\n",
              "      <td>Goias</td>\n",
              "      <td>86</td>\n",
              "      <td>87</td>\n",
              "      <td>85.972655</td>\n",
              "    </tr>\n",
              "    <tr>\n",
              "      <th>26</th>\n",
              "      <td>Distrito Federal</td>\n",
              "      <td>82</td>\n",
              "      <td>83</td>\n",
              "      <td>82.500173</td>\n",
              "    </tr>\n",
              "  </tbody>\n",
              "</table>\n",
              "</div>"
            ],
            "text/plain": [
              "                     UF  2015  2016  Y_Prevista\n",
              "0              Rondonia    77    85   78.159571\n",
              "1                  Acre    79    81   79.895812\n",
              "2              Amazonas    83    85   83.368294\n",
              "3               Roraima    81    82   81.632053\n",
              "4                  Para    73    76   74.687089\n",
              "5                 Amapa    76    75   77.291450\n",
              "6            Tocantins     81    82   81.632053\n",
              "7              Maranhao    81    81   81.632053\n",
              "8                 Piaui    80    81   80.763932\n",
              "9                 Ceara    86    85   85.972655\n",
              "10  Rio Grande do Norte    74    75   75.555209\n",
              "11              Paraiba    79    78   79.895812\n",
              "12           Pernambuco    89    91   88.577016\n",
              "13              Alagoas    75    77   76.423330\n",
              "14              Sergipe    71    74   72.950848\n",
              "15                Bahia    76    75   77.291450\n",
              "16         Minas Gerais    81    81   81.632053\n",
              "17       Espirito Santo    80    81   80.763932\n",
              "18       Rio de Janeiro    83    78   83.368294\n",
              "19            Sao Paulo    88    87   87.708896\n",
              "20               Parana    81    81   81.632053\n",
              "21       Santa Catarina    80    82   80.763932\n",
              "22    Rio Grande do Sul    76    74   77.291450\n",
              "23   Mato Grosso do Sul    76    78   77.291450\n",
              "24          Mato Grosso    68    70   70.346487\n",
              "25                Goias    86    87   85.972655\n",
              "26     Distrito Federal    82    83   82.500173"
            ]
          },
          "execution_count": 42,
          "metadata": {},
          "output_type": "execute_result"
        }
      ],
      "source": [
        "#prevendo regressao linear\n",
        "notas[\"Y_Prevista\"]=resultado_regeressao.predict()\n",
        "notas"
      ]
    },
    {
      "cell_type": "code",
      "execution_count": null,
      "metadata": {
        "id": "JS2epgCSIYs8",
        "outputId": "f9c55595-80bd-4fc1-8865-912ff106223e"
      },
      "outputs": [
        {
          "name": "stderr",
          "output_type": "stream",
          "text": [
            "/var/folders/s2/z2r_n2517y18_q1zxtj3m5lw0000gn/T/ipykernel_50589/889001216.py:1: FutureWarning: Dropping of nuisance columns in DataFrame reductions (with 'numeric_only=None') is deprecated; in a future version this will raise TypeError.  Select only valid columns before calling the reduction.\n",
            "  notas.median()\n"
          ]
        },
        {
          "data": {
            "text/plain": [
              "2015          80.000000\n",
              "2016          81.000000\n",
              "Y_Prevista    80.763932\n",
              "dtype: float64"
            ]
          },
          "execution_count": 43,
          "metadata": {},
          "output_type": "execute_result"
        }
      ],
      "source": [
        "\n",
        "notas.median()"
      ]
    },
    {
      "cell_type": "code",
      "execution_count": null,
      "metadata": {
        "id": "nnb_EMk-IYs9",
        "outputId": "4d3b2faa-203c-4738-ab4d-550868db572e"
      },
      "outputs": [
        {
          "data": {
            "text/html": [
              "<div>\n",
              "<style scoped>\n",
              "    .dataframe tbody tr th:only-of-type {\n",
              "        vertical-align: middle;\n",
              "    }\n",
              "\n",
              "    .dataframe tbody tr th {\n",
              "        vertical-align: top;\n",
              "    }\n",
              "\n",
              "    .dataframe thead th {\n",
              "        text-align: right;\n",
              "    }\n",
              "</style>\n",
              "<table border=\"1\" class=\"dataframe\">\n",
              "  <thead>\n",
              "    <tr style=\"text-align: right;\">\n",
              "      <th></th>\n",
              "      <th>UF</th>\n",
              "      <th>2015</th>\n",
              "      <th>2016</th>\n",
              "      <th>Y_Prevista</th>\n",
              "      <th>Erro</th>\n",
              "    </tr>\n",
              "  </thead>\n",
              "  <tbody>\n",
              "    <tr>\n",
              "      <th>0</th>\n",
              "      <td>Rondonia</td>\n",
              "      <td>77</td>\n",
              "      <td>85</td>\n",
              "      <td>78.159571</td>\n",
              "      <td>-6.840429</td>\n",
              "    </tr>\n",
              "    <tr>\n",
              "      <th>1</th>\n",
              "      <td>Acre</td>\n",
              "      <td>79</td>\n",
              "      <td>81</td>\n",
              "      <td>79.895812</td>\n",
              "      <td>-1.104188</td>\n",
              "    </tr>\n",
              "    <tr>\n",
              "      <th>2</th>\n",
              "      <td>Amazonas</td>\n",
              "      <td>83</td>\n",
              "      <td>85</td>\n",
              "      <td>83.368294</td>\n",
              "      <td>-1.631706</td>\n",
              "    </tr>\n",
              "    <tr>\n",
              "      <th>3</th>\n",
              "      <td>Roraima</td>\n",
              "      <td>81</td>\n",
              "      <td>82</td>\n",
              "      <td>81.632053</td>\n",
              "      <td>-0.367947</td>\n",
              "    </tr>\n",
              "    <tr>\n",
              "      <th>4</th>\n",
              "      <td>Para</td>\n",
              "      <td>73</td>\n",
              "      <td>76</td>\n",
              "      <td>74.687089</td>\n",
              "      <td>-1.312911</td>\n",
              "    </tr>\n",
              "    <tr>\n",
              "      <th>5</th>\n",
              "      <td>Amapa</td>\n",
              "      <td>76</td>\n",
              "      <td>75</td>\n",
              "      <td>77.291450</td>\n",
              "      <td>2.291450</td>\n",
              "    </tr>\n",
              "    <tr>\n",
              "      <th>6</th>\n",
              "      <td>Tocantins</td>\n",
              "      <td>81</td>\n",
              "      <td>82</td>\n",
              "      <td>81.632053</td>\n",
              "      <td>-0.367947</td>\n",
              "    </tr>\n",
              "    <tr>\n",
              "      <th>7</th>\n",
              "      <td>Maranhao</td>\n",
              "      <td>81</td>\n",
              "      <td>81</td>\n",
              "      <td>81.632053</td>\n",
              "      <td>0.632053</td>\n",
              "    </tr>\n",
              "    <tr>\n",
              "      <th>8</th>\n",
              "      <td>Piaui</td>\n",
              "      <td>80</td>\n",
              "      <td>81</td>\n",
              "      <td>80.763932</td>\n",
              "      <td>-0.236068</td>\n",
              "    </tr>\n",
              "    <tr>\n",
              "      <th>9</th>\n",
              "      <td>Ceara</td>\n",
              "      <td>86</td>\n",
              "      <td>85</td>\n",
              "      <td>85.972655</td>\n",
              "      <td>0.972655</td>\n",
              "    </tr>\n",
              "    <tr>\n",
              "      <th>10</th>\n",
              "      <td>Rio Grande do Norte</td>\n",
              "      <td>74</td>\n",
              "      <td>75</td>\n",
              "      <td>75.555209</td>\n",
              "      <td>0.555209</td>\n",
              "    </tr>\n",
              "    <tr>\n",
              "      <th>11</th>\n",
              "      <td>Paraiba</td>\n",
              "      <td>79</td>\n",
              "      <td>78</td>\n",
              "      <td>79.895812</td>\n",
              "      <td>1.895812</td>\n",
              "    </tr>\n",
              "    <tr>\n",
              "      <th>12</th>\n",
              "      <td>Pernambuco</td>\n",
              "      <td>89</td>\n",
              "      <td>91</td>\n",
              "      <td>88.577016</td>\n",
              "      <td>-2.422984</td>\n",
              "    </tr>\n",
              "    <tr>\n",
              "      <th>13</th>\n",
              "      <td>Alagoas</td>\n",
              "      <td>75</td>\n",
              "      <td>77</td>\n",
              "      <td>76.423330</td>\n",
              "      <td>-0.576670</td>\n",
              "    </tr>\n",
              "    <tr>\n",
              "      <th>14</th>\n",
              "      <td>Sergipe</td>\n",
              "      <td>71</td>\n",
              "      <td>74</td>\n",
              "      <td>72.950848</td>\n",
              "      <td>-1.049152</td>\n",
              "    </tr>\n",
              "    <tr>\n",
              "      <th>15</th>\n",
              "      <td>Bahia</td>\n",
              "      <td>76</td>\n",
              "      <td>75</td>\n",
              "      <td>77.291450</td>\n",
              "      <td>2.291450</td>\n",
              "    </tr>\n",
              "    <tr>\n",
              "      <th>16</th>\n",
              "      <td>Minas Gerais</td>\n",
              "      <td>81</td>\n",
              "      <td>81</td>\n",
              "      <td>81.632053</td>\n",
              "      <td>0.632053</td>\n",
              "    </tr>\n",
              "    <tr>\n",
              "      <th>17</th>\n",
              "      <td>Espirito Santo</td>\n",
              "      <td>80</td>\n",
              "      <td>81</td>\n",
              "      <td>80.763932</td>\n",
              "      <td>-0.236068</td>\n",
              "    </tr>\n",
              "    <tr>\n",
              "      <th>18</th>\n",
              "      <td>Rio de Janeiro</td>\n",
              "      <td>83</td>\n",
              "      <td>78</td>\n",
              "      <td>83.368294</td>\n",
              "      <td>5.368294</td>\n",
              "    </tr>\n",
              "    <tr>\n",
              "      <th>19</th>\n",
              "      <td>Sao Paulo</td>\n",
              "      <td>88</td>\n",
              "      <td>87</td>\n",
              "      <td>87.708896</td>\n",
              "      <td>0.708896</td>\n",
              "    </tr>\n",
              "    <tr>\n",
              "      <th>20</th>\n",
              "      <td>Parana</td>\n",
              "      <td>81</td>\n",
              "      <td>81</td>\n",
              "      <td>81.632053</td>\n",
              "      <td>0.632053</td>\n",
              "    </tr>\n",
              "    <tr>\n",
              "      <th>21</th>\n",
              "      <td>Santa Catarina</td>\n",
              "      <td>80</td>\n",
              "      <td>82</td>\n",
              "      <td>80.763932</td>\n",
              "      <td>-1.236068</td>\n",
              "    </tr>\n",
              "    <tr>\n",
              "      <th>22</th>\n",
              "      <td>Rio Grande do Sul</td>\n",
              "      <td>76</td>\n",
              "      <td>74</td>\n",
              "      <td>77.291450</td>\n",
              "      <td>3.291450</td>\n",
              "    </tr>\n",
              "    <tr>\n",
              "      <th>23</th>\n",
              "      <td>Mato Grosso do Sul</td>\n",
              "      <td>76</td>\n",
              "      <td>78</td>\n",
              "      <td>77.291450</td>\n",
              "      <td>-0.708550</td>\n",
              "    </tr>\n",
              "    <tr>\n",
              "      <th>24</th>\n",
              "      <td>Mato Grosso</td>\n",
              "      <td>68</td>\n",
              "      <td>70</td>\n",
              "      <td>70.346487</td>\n",
              "      <td>0.346487</td>\n",
              "    </tr>\n",
              "    <tr>\n",
              "      <th>25</th>\n",
              "      <td>Goias</td>\n",
              "      <td>86</td>\n",
              "      <td>87</td>\n",
              "      <td>85.972655</td>\n",
              "      <td>-1.027345</td>\n",
              "    </tr>\n",
              "    <tr>\n",
              "      <th>26</th>\n",
              "      <td>Distrito Federal</td>\n",
              "      <td>82</td>\n",
              "      <td>83</td>\n",
              "      <td>82.500173</td>\n",
              "      <td>-0.499827</td>\n",
              "    </tr>\n",
              "  </tbody>\n",
              "</table>\n",
              "</div>"
            ],
            "text/plain": [
              "                     UF  2015  2016  Y_Prevista      Erro\n",
              "0              Rondonia    77    85   78.159571 -6.840429\n",
              "1                  Acre    79    81   79.895812 -1.104188\n",
              "2              Amazonas    83    85   83.368294 -1.631706\n",
              "3               Roraima    81    82   81.632053 -0.367947\n",
              "4                  Para    73    76   74.687089 -1.312911\n",
              "5                 Amapa    76    75   77.291450  2.291450\n",
              "6            Tocantins     81    82   81.632053 -0.367947\n",
              "7              Maranhao    81    81   81.632053  0.632053\n",
              "8                 Piaui    80    81   80.763932 -0.236068\n",
              "9                 Ceara    86    85   85.972655  0.972655\n",
              "10  Rio Grande do Norte    74    75   75.555209  0.555209\n",
              "11              Paraiba    79    78   79.895812  1.895812\n",
              "12           Pernambuco    89    91   88.577016 -2.422984\n",
              "13              Alagoas    75    77   76.423330 -0.576670\n",
              "14              Sergipe    71    74   72.950848 -1.049152\n",
              "15                Bahia    76    75   77.291450  2.291450\n",
              "16         Minas Gerais    81    81   81.632053  0.632053\n",
              "17       Espirito Santo    80    81   80.763932 -0.236068\n",
              "18       Rio de Janeiro    83    78   83.368294  5.368294\n",
              "19            Sao Paulo    88    87   87.708896  0.708896\n",
              "20               Parana    81    81   81.632053  0.632053\n",
              "21       Santa Catarina    80    82   80.763932 -1.236068\n",
              "22    Rio Grande do Sul    76    74   77.291450  3.291450\n",
              "23   Mato Grosso do Sul    76    78   77.291450 -0.708550\n",
              "24          Mato Grosso    68    70   70.346487  0.346487\n",
              "25                Goias    86    87   85.972655 -1.027345\n",
              "26     Distrito Federal    82    83   82.500173 -0.499827"
            ]
          },
          "execution_count": 44,
          "metadata": {},
          "output_type": "execute_result"
        }
      ],
      "source": [
        "#prevendo residuo\n",
        "notas[\"Erro\"]=notas[\"Y_Prevista\"]-notas[\"2016\"]\n",
        "notas"
      ]
    },
    {
      "cell_type": "code",
      "execution_count": null,
      "metadata": {
        "id": "_2SjsdM-IYs9"
      },
      "outputs": [],
      "source": []
    },
    {
      "cell_type": "code",
      "execution_count": null,
      "metadata": {
        "id": "PeR-moIyIYs9",
        "outputId": "f3d2eec1-ee94-474c-c80a-ef1dab7cd28e"
      },
      "outputs": [
        {
          "data": {
            "text/html": [
              "<div>\n",
              "<style scoped>\n",
              "    .dataframe tbody tr th:only-of-type {\n",
              "        vertical-align: middle;\n",
              "    }\n",
              "\n",
              "    .dataframe tbody tr th {\n",
              "        vertical-align: top;\n",
              "    }\n",
              "\n",
              "    .dataframe thead th {\n",
              "        text-align: right;\n",
              "    }\n",
              "</style>\n",
              "<table border=\"1\" class=\"dataframe\">\n",
              "  <thead>\n",
              "    <tr style=\"text-align: right;\">\n",
              "      <th></th>\n",
              "      <th>tempo</th>\n",
              "      <th>vendas</th>\n",
              "    </tr>\n",
              "  </thead>\n",
              "  <tbody>\n",
              "    <tr>\n",
              "      <th>0</th>\n",
              "      <td>1</td>\n",
              "      <td>91</td>\n",
              "    </tr>\n",
              "    <tr>\n",
              "      <th>1</th>\n",
              "      <td>3</td>\n",
              "      <td>110</td>\n",
              "    </tr>\n",
              "    <tr>\n",
              "      <th>2</th>\n",
              "      <td>4</td>\n",
              "      <td>106</td>\n",
              "    </tr>\n",
              "    <tr>\n",
              "      <th>3</th>\n",
              "      <td>4</td>\n",
              "      <td>116</td>\n",
              "    </tr>\n",
              "    <tr>\n",
              "      <th>4</th>\n",
              "      <td>6</td>\n",
              "      <td>119</td>\n",
              "    </tr>\n",
              "    <tr>\n",
              "      <th>5</th>\n",
              "      <td>8</td>\n",
              "      <td>129</td>\n",
              "    </tr>\n",
              "    <tr>\n",
              "      <th>6</th>\n",
              "      <td>10</td>\n",
              "      <td>139</td>\n",
              "    </tr>\n",
              "    <tr>\n",
              "      <th>7</th>\n",
              "      <td>10</td>\n",
              "      <td>143</td>\n",
              "    </tr>\n",
              "    <tr>\n",
              "      <th>8</th>\n",
              "      <td>11</td>\n",
              "      <td>138</td>\n",
              "    </tr>\n",
              "    <tr>\n",
              "      <th>9</th>\n",
              "      <td>13</td>\n",
              "      <td>159</td>\n",
              "    </tr>\n",
              "  </tbody>\n",
              "</table>\n",
              "</div>"
            ],
            "text/plain": [
              "   tempo  vendas\n",
              "0      1      91\n",
              "1      3     110\n",
              "2      4     106\n",
              "3      4     116\n",
              "4      6     119\n",
              "5      8     129\n",
              "6     10     139\n",
              "7     10     143\n",
              "8     11     138\n",
              "9     13     159"
            ]
          },
          "execution_count": 51,
          "metadata": {},
          "output_type": "execute_result"
        }
      ],
      "source": [
        "tempo=[1,3,4,4,6,8,10,10,11,13]\n",
        "vendas=[91,110,106,116,119,129,139,143,138,159]\n",
        "list_tuple=list(zip(tempo, vendas))\n",
        "dataset=pd.DataFrame(list_tuple, columns=[\"tempo\", \"vendas\"])\n",
        "dataset"
      ]
    },
    {
      "cell_type": "code",
      "execution_count": null,
      "metadata": {
        "id": "Bs-jHNEAIYs9",
        "outputId": "89d3bbfd-fd5e-4e88-8041-6f7a7a1c4cb4"
      },
      "outputs": [
        {
          "data": {
            "text/plain": [
              "<AxesSubplot:xlabel='tempo', ylabel='vendas'>"
            ]
          },
          "execution_count": 70,
          "metadata": {},
          "output_type": "execute_result"
        },
        {
          "data": {
            "image/png": "[encoded data removed]",
            "text/plain": [
              "<Figure size 640x480 with 1 Axes>"
            ]
          },
          "metadata": {},
          "output_type": "display_data"
        }
      ],
      "source": [
        "sns.regplot(data=dataset, x=\"tempo\", y=\"vendas\",  fit_reg=True, color=\"black\")"
      ]
    },
    {
      "cell_type": "code",
      "execution_count": null,
      "metadata": {
        "id": "hcZP-Il6IYs-",
        "outputId": "4e2cde0e-68f5-4e6b-b966-e2d47f64d8d5"
      },
      "outputs": [
        {
          "data": {
            "text/html": [
              "<div>\n",
              "<style scoped>\n",
              "    .dataframe tbody tr th:only-of-type {\n",
              "        vertical-align: middle;\n",
              "    }\n",
              "\n",
              "    .dataframe tbody tr th {\n",
              "        vertical-align: top;\n",
              "    }\n",
              "\n",
              "    .dataframe thead th {\n",
              "        text-align: right;\n",
              "    }\n",
              "</style>\n",
              "<table border=\"1\" class=\"dataframe\">\n",
              "  <thead>\n",
              "    <tr style=\"text-align: right;\">\n",
              "      <th></th>\n",
              "      <th>tempo</th>\n",
              "      <th>vendas</th>\n",
              "    </tr>\n",
              "  </thead>\n",
              "  <tbody>\n",
              "    <tr>\n",
              "      <th>tempo</th>\n",
              "      <td>1.000000</td>\n",
              "      <td>0.976883</td>\n",
              "    </tr>\n",
              "    <tr>\n",
              "      <th>vendas</th>\n",
              "      <td>0.976883</td>\n",
              "      <td>1.000000</td>\n",
              "    </tr>\n",
              "  </tbody>\n",
              "</table>\n",
              "</div>"
            ],
            "text/plain": [
              "           tempo    vendas\n",
              "tempo   1.000000  0.976883\n",
              "vendas  0.976883  1.000000"
            ]
          },
          "execution_count": 57,
          "metadata": {},
          "output_type": "execute_result"
        }
      ],
      "source": [
        "dataset.corr()"
      ]
    },
    {
      "cell_type": "code",
      "execution_count": null,
      "metadata": {
        "id": "LUBcdkxjIYs-"
      },
      "outputs": [],
      "source": [
        "y=dataset[\"vendas\"]\n",
        "x=sm.add_constant(dataset[\"tempo\"])"
      ]
    },
    {
      "cell_type": "code",
      "execution_count": null,
      "metadata": {
        "id": "J3v9Ho_5IYs-"
      },
      "outputs": [],
      "source": [
        "regressor_result=sm.OLS(y,x).fit()"
      ]
    },
    {
      "cell_type": "code",
      "execution_count": null,
      "metadata": {
        "id": "xSp6MgmjIYs-",
        "outputId": "4f50c905-7253-46f0-e434-0735b622c4f9"
      },
      "outputs": [
        {
          "name": "stdout",
          "output_type": "stream",
          "text": [
            "                            OLS Regression Results                            \n",
            "==============================================================================\n",
            "Dep. Variable:                 vendas   R-squared:                       0.954\n",
            "Model:                            OLS   Adj. R-squared:                  0.949\n",
            "Method:                 Least Squares   F-statistic:                     167.1\n",
            "Date:                Tue, 30 May 2023   Prob (F-statistic):           1.22e-06\n",
            "Time:                        14:37:28   Log-Likelihood:                -28.355\n",
            "No. Observations:                  10   AIC:                             60.71\n",
            "Df Residuals:                       8   BIC:                             61.32\n",
            "Df Model:                           1                                         \n",
            "Covariance Type:            nonrobust                                         \n",
            "==============================================================================\n",
            "                 coef    std err          t      P>|t|      [0.025      0.975]\n",
            "------------------------------------------------------------------------------\n",
            "const         90.0000      3.075     29.265      0.000      82.908      97.092\n",
            "tempo          5.0000      0.387     12.925      0.000       4.108       5.892\n",
            "==============================================================================\n",
            "Omnibus:                        0.928   Durbin-Watson:                   3.224\n",
            "Prob(Omnibus):                  0.629   Jarque-Bera (JB):                0.616\n",
            "Skew:                          -0.060   Prob(JB):                        0.735\n",
            "Kurtosis:                       1.790   Cond. No.                         17.0\n",
            "==============================================================================\n",
            "\n",
            "Notes:\n",
            "[1] Standard Errors assume that the covariance matrix of the errors is correctly specified.\n"
          ]
        },
        {
          "name": "stderr",
          "output_type": "stream",
          "text": [
            "/Users/chenyenpin/opt/anaconda3/lib/python3.9/site-packages/scipy/stats/_stats_py.py:1769: UserWarning: kurtosistest only valid for n>=20 ... continuing anyway, n=10\n",
            "  warnings.warn(\"kurtosistest only valid for n>=20 ... continuing \"\n"
          ]
        }
      ],
      "source": [
        "print(regressor_result.summary())"
      ]
    },
    {
      "cell_type": "code",
      "execution_count": null,
      "metadata": {
        "id": "j6PzgMHrIYs_",
        "outputId": "e4387ff9-ac76-4a53-b50c-631f95a9b1c5"
      },
      "outputs": [
        {
          "data": {
            "text/html": [
              "<div>\n",
              "<style scoped>\n",
              "    .dataframe tbody tr th:only-of-type {\n",
              "        vertical-align: middle;\n",
              "    }\n",
              "\n",
              "    .dataframe tbody tr th {\n",
              "        vertical-align: top;\n",
              "    }\n",
              "\n",
              "    .dataframe thead th {\n",
              "        text-align: right;\n",
              "    }\n",
              "</style>\n",
              "<table border=\"1\" class=\"dataframe\">\n",
              "  <thead>\n",
              "    <tr style=\"text-align: right;\">\n",
              "      <th></th>\n",
              "      <th>tempo</th>\n",
              "      <th>vendas</th>\n",
              "      <th>Y_preview</th>\n",
              "    </tr>\n",
              "  </thead>\n",
              "  <tbody>\n",
              "    <tr>\n",
              "      <th>0</th>\n",
              "      <td>1</td>\n",
              "      <td>91</td>\n",
              "      <td>95.0</td>\n",
              "    </tr>\n",
              "    <tr>\n",
              "      <th>1</th>\n",
              "      <td>3</td>\n",
              "      <td>110</td>\n",
              "      <td>105.0</td>\n",
              "    </tr>\n",
              "    <tr>\n",
              "      <th>2</th>\n",
              "      <td>4</td>\n",
              "      <td>106</td>\n",
              "      <td>110.0</td>\n",
              "    </tr>\n",
              "    <tr>\n",
              "      <th>3</th>\n",
              "      <td>4</td>\n",
              "      <td>116</td>\n",
              "      <td>110.0</td>\n",
              "    </tr>\n",
              "    <tr>\n",
              "      <th>4</th>\n",
              "      <td>6</td>\n",
              "      <td>119</td>\n",
              "      <td>120.0</td>\n",
              "    </tr>\n",
              "  </tbody>\n",
              "</table>\n",
              "</div>"
            ],
            "text/plain": [
              "   tempo  vendas  Y_preview\n",
              "0      1      91       95.0\n",
              "1      3     110      105.0\n",
              "2      4     106      110.0\n",
              "3      4     116      110.0\n",
              "4      6     119      120.0"
            ]
          },
          "execution_count": 68,
          "metadata": {},
          "output_type": "execute_result"
        }
      ],
      "source": [
        "dataset[\"Y_preview\"]=regressor_result.predict()\n",
        "dataset.head()"
      ]
    },
    {
      "cell_type": "code",
      "execution_count": null,
      "metadata": {
        "id": "2HUxqTTmIYs_",
        "outputId": "f143704c-2a69-4813-a2e7-ad7ec8d6bceb"
      },
      "outputs": [
        {
          "data": {
            "text/html": [
              "<div>\n",
              "<style scoped>\n",
              "    .dataframe tbody tr th:only-of-type {\n",
              "        vertical-align: middle;\n",
              "    }\n",
              "\n",
              "    .dataframe tbody tr th {\n",
              "        vertical-align: top;\n",
              "    }\n",
              "\n",
              "    .dataframe thead th {\n",
              "        text-align: right;\n",
              "    }\n",
              "</style>\n",
              "<table border=\"1\" class=\"dataframe\">\n",
              "  <thead>\n",
              "    <tr style=\"text-align: right;\">\n",
              "      <th></th>\n",
              "      <th>tempo</th>\n",
              "      <th>vendas</th>\n",
              "      <th>Y_preview</th>\n",
              "      <th>Residuo</th>\n",
              "    </tr>\n",
              "  </thead>\n",
              "  <tbody>\n",
              "    <tr>\n",
              "      <th>0</th>\n",
              "      <td>1</td>\n",
              "      <td>91</td>\n",
              "      <td>95.0</td>\n",
              "      <td>-4.0</td>\n",
              "    </tr>\n",
              "    <tr>\n",
              "      <th>1</th>\n",
              "      <td>3</td>\n",
              "      <td>110</td>\n",
              "      <td>105.0</td>\n",
              "      <td>5.0</td>\n",
              "    </tr>\n",
              "    <tr>\n",
              "      <th>2</th>\n",
              "      <td>4</td>\n",
              "      <td>106</td>\n",
              "      <td>110.0</td>\n",
              "      <td>-4.0</td>\n",
              "    </tr>\n",
              "    <tr>\n",
              "      <th>3</th>\n",
              "      <td>4</td>\n",
              "      <td>116</td>\n",
              "      <td>110.0</td>\n",
              "      <td>6.0</td>\n",
              "    </tr>\n",
              "    <tr>\n",
              "      <th>4</th>\n",
              "      <td>6</td>\n",
              "      <td>119</td>\n",
              "      <td>120.0</td>\n",
              "      <td>-1.0</td>\n",
              "    </tr>\n",
              "    <tr>\n",
              "      <th>5</th>\n",
              "      <td>8</td>\n",
              "      <td>129</td>\n",
              "      <td>130.0</td>\n",
              "      <td>-1.0</td>\n",
              "    </tr>\n",
              "    <tr>\n",
              "      <th>6</th>\n",
              "      <td>10</td>\n",
              "      <td>139</td>\n",
              "      <td>140.0</td>\n",
              "      <td>-1.0</td>\n",
              "    </tr>\n",
              "    <tr>\n",
              "      <th>7</th>\n",
              "      <td>10</td>\n",
              "      <td>143</td>\n",
              "      <td>140.0</td>\n",
              "      <td>3.0</td>\n",
              "    </tr>\n",
              "    <tr>\n",
              "      <th>8</th>\n",
              "      <td>11</td>\n",
              "      <td>138</td>\n",
              "      <td>145.0</td>\n",
              "      <td>-7.0</td>\n",
              "    </tr>\n",
              "    <tr>\n",
              "      <th>9</th>\n",
              "      <td>13</td>\n",
              "      <td>159</td>\n",
              "      <td>155.0</td>\n",
              "      <td>4.0</td>\n",
              "    </tr>\n",
              "  </tbody>\n",
              "</table>\n",
              "</div>"
            ],
            "text/plain": [
              "   tempo  vendas  Y_preview  Residuo\n",
              "0      1      91       95.0     -4.0\n",
              "1      3     110      105.0      5.0\n",
              "2      4     106      110.0     -4.0\n",
              "3      4     116      110.0      6.0\n",
              "4      6     119      120.0     -1.0\n",
              "5      8     129      130.0     -1.0\n",
              "6     10     139      140.0     -1.0\n",
              "7     10     143      140.0      3.0\n",
              "8     11     138      145.0     -7.0\n",
              "9     13     159      155.0      4.0"
            ]
          },
          "execution_count": 69,
          "metadata": {},
          "output_type": "execute_result"
        }
      ],
      "source": [
        "\n",
        "dataset[\"Residuo\"]=dataset[\"vendas\"]-dataset[\"Y_preview\"]\n",
        "dataset.sort_values()"
      ]
    },
    {
      "cell_type": "code",
      "execution_count": null,
      "metadata": {
        "id": "VEt-3T6HIYs_"
      },
      "outputs": [],
      "source": [
        "limite=pd.read_excel(\"/Users/chenyenpin/Downloads/2_11/Limite_Credito.xlsx\")\n",
        "limite.sort_values(by=[\"Idade\"])\n",
        "limite.columns=[\"Idade\",\"Rendimento_Total\",\"Salario\",\"Limite_Credito_Imediato\",\"Limite_Cheque_Especial\"]"
      ]
    },
    {
      "cell_type": "code",
      "execution_count": null,
      "metadata": {
        "id": "WwKdLP6PIYs_",
        "outputId": "a918a650-1bb2-47da-9447-69763e703bb1"
      },
      "outputs": [
        {
          "data": {
            "text/html": [
              "<div>\n",
              "<style scoped>\n",
              "    .dataframe tbody tr th:only-of-type {\n",
              "        vertical-align: middle;\n",
              "    }\n",
              "\n",
              "    .dataframe tbody tr th {\n",
              "        vertical-align: top;\n",
              "    }\n",
              "\n",
              "    .dataframe thead th {\n",
              "        text-align: right;\n",
              "    }\n",
              "</style>\n",
              "<table border=\"1\" class=\"dataframe\">\n",
              "  <thead>\n",
              "    <tr style=\"text-align: right;\">\n",
              "      <th></th>\n",
              "      <th>Idade</th>\n",
              "      <th>Rendimento_Total</th>\n",
              "      <th>Salario</th>\n",
              "      <th>Limite_Credito_Imediato</th>\n",
              "      <th>Limite_Cheque_Especial</th>\n",
              "    </tr>\n",
              "  </thead>\n",
              "  <tbody>\n",
              "    <tr>\n",
              "      <th>Idade</th>\n",
              "      <td>1.000000</td>\n",
              "      <td>0.066396</td>\n",
              "      <td>0.063227</td>\n",
              "      <td>0.064149</td>\n",
              "      <td>0.075883</td>\n",
              "    </tr>\n",
              "    <tr>\n",
              "      <th>Rendimento_Total</th>\n",
              "      <td>0.066396</td>\n",
              "      <td>1.000000</td>\n",
              "      <td>0.960551</td>\n",
              "      <td>0.031041</td>\n",
              "      <td>0.858120</td>\n",
              "    </tr>\n",
              "    <tr>\n",
              "      <th>Salario</th>\n",
              "      <td>0.063227</td>\n",
              "      <td>0.960551</td>\n",
              "      <td>1.000000</td>\n",
              "      <td>0.081792</td>\n",
              "      <td>0.888839</td>\n",
              "    </tr>\n",
              "    <tr>\n",
              "      <th>Limite_Credito_Imediato</th>\n",
              "      <td>0.064149</td>\n",
              "      <td>0.031041</td>\n",
              "      <td>0.081792</td>\n",
              "      <td>1.000000</td>\n",
              "      <td>0.226990</td>\n",
              "    </tr>\n",
              "    <tr>\n",
              "      <th>Limite_Cheque_Especial</th>\n",
              "      <td>0.075883</td>\n",
              "      <td>0.858120</td>\n",
              "      <td>0.888839</td>\n",
              "      <td>0.226990</td>\n",
              "      <td>1.000000</td>\n",
              "    </tr>\n",
              "  </tbody>\n",
              "</table>\n",
              "</div>"
            ],
            "text/plain": [
              "                            Idade  Rendimento_Total   Salario  \\\n",
              "Idade                    1.000000          0.066396  0.063227   \n",
              "Rendimento_Total         0.066396          1.000000  0.960551   \n",
              "Salario                  0.063227          0.960551  1.000000   \n",
              "Limite_Credito_Imediato  0.064149          0.031041  0.081792   \n",
              "Limite_Cheque_Especial   0.075883          0.858120  0.888839   \n",
              "\n",
              "                         Limite_Credito_Imediato  Limite_Cheque_Especial  \n",
              "Idade                                   0.064149                0.075883  \n",
              "Rendimento_Total                        0.031041                0.858120  \n",
              "Salario                                 0.081792                0.888839  \n",
              "Limite_Credito_Imediato                 1.000000                0.226990  \n",
              "Limite_Cheque_Especial                  0.226990                1.000000  "
            ]
          },
          "execution_count": 88,
          "metadata": {},
          "output_type": "execute_result"
        }
      ],
      "source": [
        "limite.corr()"
      ]
    },
    {
      "cell_type": "code",
      "execution_count": null,
      "metadata": {
        "id": "WR2J0aBXIYtA",
        "outputId": "6698ce8f-9a88-48a2-f8d5-244fe937626c"
      },
      "outputs": [
        {
          "data": {
            "text/plain": [
              "<seaborn.axisgrid.PairGrid at 0x7f9ebecc92b0>"
            ]
          },
          "execution_count": 81,
          "metadata": {},
          "output_type": "execute_result"
        },
        {
          "data": {
            "image/png": "[encoded data removed]",
            "text/plain": [
              "<Figure size 1250x1250 with 30 Axes>"
            ]
          },
          "metadata": {},
          "output_type": "display_data"
        }
      ],
      "source": [
        "sns.pairplot(limite)"
      ]
    },
    {
      "cell_type": "code",
      "execution_count": null,
      "metadata": {
        "id": "vZ19he_yIYtA",
        "outputId": "8b8ed6be-7405-47ff-f6be-7a505b4884de"
      },
      "outputs": [
        {
          "data": {
            "text/html": [
              "<div>\n",
              "<style scoped>\n",
              "    .dataframe tbody tr th:only-of-type {\n",
              "        vertical-align: middle;\n",
              "    }\n",
              "\n",
              "    .dataframe tbody tr th {\n",
              "        vertical-align: top;\n",
              "    }\n",
              "\n",
              "    .dataframe thead th {\n",
              "        text-align: right;\n",
              "    }\n",
              "</style>\n",
              "<table border=\"1\" class=\"dataframe\">\n",
              "  <thead>\n",
              "    <tr style=\"text-align: right;\">\n",
              "      <th></th>\n",
              "      <th>Idade</th>\n",
              "      <th>Rendimento_Total</th>\n",
              "      <th>Salario</th>\n",
              "      <th>Limite_Credito_Imediato</th>\n",
              "      <th>Limite_Cheque_Especial</th>\n",
              "    </tr>\n",
              "  </thead>\n",
              "  <tbody>\n",
              "    <tr>\n",
              "      <th>0</th>\n",
              "      <td>70</td>\n",
              "      <td>10736</td>\n",
              "      <td>5214</td>\n",
              "      <td>400</td>\n",
              "      <td>500</td>\n",
              "    </tr>\n",
              "    <tr>\n",
              "      <th>1</th>\n",
              "      <td>68</td>\n",
              "      <td>5000</td>\n",
              "      <td>5000</td>\n",
              "      <td>380</td>\n",
              "      <td>600</td>\n",
              "    </tr>\n",
              "  </tbody>\n",
              "</table>\n",
              "</div>"
            ],
            "text/plain": [
              "   Idade  Rendimento_Total  Salario  Limite_Credito_Imediato  \\\n",
              "0     70             10736     5214                      400   \n",
              "1     68              5000     5000                      380   \n",
              "\n",
              "   Limite_Cheque_Especial  \n",
              "0                     500  \n",
              "1                     600  "
            ]
          },
          "execution_count": 90,
          "metadata": {},
          "output_type": "execute_result"
        }
      ],
      "source": [
        "limite.head(2)"
      ]
    },
    {
      "cell_type": "code",
      "execution_count": null,
      "metadata": {
        "id": "ltA9W3_TIYtA",
        "outputId": "6e874e75-cc5f-42ff-ae55-ca0d77b0aa4d"
      },
      "outputs": [
        {
          "name": "stdout",
          "output_type": "stream",
          "text": [
            "                              OLS Regression Results                              \n",
            "==================================================================================\n",
            "Dep. Variable:     Limite_Cheque_Especial   R-squared:                       0.816\n",
            "Model:                                OLS   Adj. R-squared:                  0.799\n",
            "Method:                     Least Squares   F-statistic:                     47.65\n",
            "Date:                    Tue, 30 May 2023   Prob (F-statistic):           2.92e-15\n",
            "Time:                            15:39:02   Log-Likelihood:                -445.61\n",
            "No. Observations:                      48   AIC:                             901.2\n",
            "Df Residuals:                          43   BIC:                             910.6\n",
            "Df Model:                               4                                         \n",
            "Covariance Type:                nonrobust                                         \n",
            "===========================================================================================\n",
            "                              coef    std err          t      P>|t|      [0.025      0.975]\n",
            "-------------------------------------------------------------------------------------------\n",
            "Intercept               -2851.7932   1889.470     -1.509      0.139   -6662.272     958.685\n",
            "Idade                       3.7798     26.772      0.141      0.888     -50.212      57.772\n",
            "Rendimento_Total            0.0753      0.116      0.649      0.519      -0.158       0.309\n",
            "Salario                     0.4770      0.157      3.031      0.004       0.160       0.794\n",
            "Limite_Credito_Imediato     1.0602      0.436      2.429      0.019       0.180       1.940\n",
            "==============================================================================\n",
            "Omnibus:                        2.177   Durbin-Watson:                   1.791\n",
            "Prob(Omnibus):                  0.337   Jarque-Bera (JB):                1.346\n",
            "Skew:                          -0.098   Prob(JB):                        0.510\n",
            "Kurtosis:                       3.797   Cond. No.                     1.06e+05\n",
            "==============================================================================\n",
            "\n",
            "Notes:\n",
            "[1] Standard Errors assume that the covariance matrix of the errors is correctly specified.\n",
            "[2] The condition number is large, 1.06e+05. This might indicate that there are\n",
            "strong multicollinearity or other numerical problems.\n"
          ]
        }
      ],
      "source": [
        "function=\"Limite_Cheque_Especial~Idade+Rendimento_Total+Salario+Limite_Credito_Imediato\"\n",
        "model=smf.ols(formula=function,data=limite).fit()\n",
        "print(model.summary())"
      ]
    },
    {
      "cell_type": "code",
      "execution_count": null,
      "metadata": {
        "id": "HEDVXYrCIYtA"
      },
      "outputs": [],
      "source": []
    },
    {
      "cell_type": "code",
      "execution_count": null,
      "metadata": {
        "id": "4J71O3v4IYtB"
      },
      "outputs": [],
      "source": []
    },
    {
      "cell_type": "code",
      "execution_count": null,
      "metadata": {
        "id": "eMKCKWeZIYtB",
        "outputId": "e836a51c-f97a-4d9c-d35e-754fdb543114"
      },
      "outputs": [
        {
          "name": "stdout",
          "output_type": "stream",
          "text": [
            "                              OLS Regression Results                              \n",
            "==================================================================================\n",
            "Dep. Variable:     Limite_Cheque_Especial   R-squared:                       0.816\n",
            "Model:                                OLS   Adj. R-squared:                  0.803\n",
            "Method:                     Least Squares   F-statistic:                     64.97\n",
            "Date:                    Tue, 30 May 2023   Prob (F-statistic):           3.34e-16\n",
            "Time:                            15:23:10   Log-Likelihood:                -445.62\n",
            "No. Observations:                      48   AIC:                             899.2\n",
            "Df Residuals:                          44   BIC:                             906.7\n",
            "Df Model:                               3                                         \n",
            "Covariance Type:                nonrobust                                         \n",
            "===========================================================================================\n",
            "                              coef    std err          t      P>|t|      [0.025      0.975]\n",
            "-------------------------------------------------------------------------------------------\n",
            "Intercept               -2632.8485   1067.330     -2.467      0.018   -4783.910    -481.787\n",
            "Rendimento_Total            0.0758      0.115      0.662      0.512      -0.155       0.307\n",
            "Salario                     0.4767      0.156      3.063      0.004       0.163       0.790\n",
            "Limite_Credito_Imediato     1.0642      0.431      2.471      0.017       0.196       1.932\n",
            "==============================================================================\n",
            "Omnibus:                        2.073   Durbin-Watson:                   1.776\n",
            "Prob(Omnibus):                  0.355   Jarque-Bera (JB):                1.245\n",
            "Skew:                          -0.075   Prob(JB):                        0.537\n",
            "Kurtosis:                       3.775   Cond. No.                     6.08e+04\n",
            "==============================================================================\n",
            "\n",
            "Notes:\n",
            "[1] Standard Errors assume that the covariance matrix of the errors is correctly specified.\n",
            "[2] The condition number is large, 6.08e+04. This might indicate that there are\n",
            "strong multicollinearity or other numerical problems.\n"
          ]
        }
      ],
      "source": [
        "function=\"Limite_Cheque_Especial~Rendimento_Total+Salario+Limite_Credito_Imediato\"\n",
        "model=smf.ols(formula=function,data=limite).fit()\n",
        "print(model.summary())"
      ]
    },
    {
      "cell_type": "code",
      "execution_count": null,
      "metadata": {
        "id": "E4DNheSNIYtB",
        "outputId": "5945595d-361e-4c06-96b5-dde77f92d4d5"
      },
      "outputs": [
        {
          "name": "stdout",
          "output_type": "stream",
          "text": [
            "                              OLS Regression Results                              \n",
            "==================================================================================\n",
            "Dep. Variable:     Limite_Cheque_Especial   R-squared:                       0.814\n",
            "Model:                                OLS   Adj. R-squared:                  0.806\n",
            "Method:                     Least Squares   F-statistic:                     98.47\n",
            "Date:                    Tue, 30 May 2023   Prob (F-statistic):           3.66e-17\n",
            "Time:                            15:20:27   Log-Likelihood:                -445.86\n",
            "No. Observations:                      48   AIC:                             897.7\n",
            "Df Residuals:                          45   BIC:                             903.3\n",
            "Df Model:                               2                                         \n",
            "Covariance Type:                nonrobust                                         \n",
            "===========================================================================================\n",
            "                              coef    std err          t      P>|t|      [0.025      0.975]\n",
            "-------------------------------------------------------------------------------------------\n",
            "Intercept               -2636.5605   1060.626     -2.486      0.017   -4772.770    -500.351\n",
            "Salario                     0.5757      0.042     13.582      0.000       0.490       0.661\n",
            "Limite_Credito_Imediato     1.0153      0.422      2.408      0.020       0.166       1.865\n",
            "==============================================================================\n",
            "Omnibus:                        1.010   Durbin-Watson:                   1.779\n",
            "Prob(Omnibus):                  0.604   Jarque-Bera (JB):                0.330\n",
            "Skew:                           0.014   Prob(JB):                        0.848\n",
            "Kurtosis:                       3.405   Cond. No.                     3.83e+04\n",
            "==============================================================================\n",
            "\n",
            "Notes:\n",
            "[1] Standard Errors assume that the covariance matrix of the errors is correctly specified.\n",
            "[2] The condition number is large, 3.83e+04. This might indicate that there are\n",
            "strong multicollinearity or other numerical problems.\n"
          ]
        }
      ],
      "source": [
        "function=\"Limite_Cheque_Especial~Salario+Limite_Credito_Imediato\"\n",
        "model=smf.ols(formula=function,data=limite).fit()\n",
        "print(model.summary())"
      ]
    },
    {
      "cell_type": "code",
      "execution_count": null,
      "metadata": {
        "id": "LkqVqK-oIYtN",
        "outputId": "757efa96-2efb-41c5-90c8-b16d57b360d7"
      },
      "outputs": [
        {
          "data": {
            "text/html": [
              "<div>\n",
              "<style scoped>\n",
              "    .dataframe tbody tr th:only-of-type {\n",
              "        vertical-align: middle;\n",
              "    }\n",
              "\n",
              "    .dataframe tbody tr th {\n",
              "        vertical-align: top;\n",
              "    }\n",
              "\n",
              "    .dataframe thead th {\n",
              "        text-align: right;\n",
              "    }\n",
              "</style>\n",
              "<table border=\"1\" class=\"dataframe\">\n",
              "  <thead>\n",
              "    <tr style=\"text-align: right;\">\n",
              "      <th></th>\n",
              "      <th>Investimento</th>\n",
              "      <th>Mkt</th>\n",
              "      <th>Gastos_Administrativo</th>\n",
              "      <th>Lucro</th>\n",
              "    </tr>\n",
              "  </thead>\n",
              "  <tbody>\n",
              "    <tr>\n",
              "      <th>0</th>\n",
              "      <td>0</td>\n",
              "      <td>45173</td>\n",
              "      <td>116984</td>\n",
              "      <td>14681</td>\n",
              "    </tr>\n",
              "    <tr>\n",
              "      <th>1</th>\n",
              "      <td>542</td>\n",
              "      <td>0</td>\n",
              "      <td>51743</td>\n",
              "      <td>35673</td>\n",
              "    </tr>\n",
              "    <tr>\n",
              "      <th>2</th>\n",
              "      <td>0</td>\n",
              "      <td>0</td>\n",
              "      <td>135427</td>\n",
              "      <td>42560</td>\n",
              "    </tr>\n",
              "    <tr>\n",
              "      <th>3</th>\n",
              "      <td>1315</td>\n",
              "      <td>297114</td>\n",
              "      <td>115816</td>\n",
              "      <td>49491</td>\n",
              "    </tr>\n",
              "    <tr>\n",
              "      <th>4</th>\n",
              "      <td>1000</td>\n",
              "      <td>1904</td>\n",
              "      <td>124153</td>\n",
              "      <td>64926</td>\n",
              "    </tr>\n",
              "    <tr>\n",
              "      <th>5</th>\n",
              "      <td>20178</td>\n",
              "      <td>28335</td>\n",
              "      <td>154806</td>\n",
              "      <td>65200</td>\n",
              "    </tr>\n",
              "    <tr>\n",
              "      <th>6</th>\n",
              "      <td>15506</td>\n",
              "      <td>35534</td>\n",
              "      <td>127382</td>\n",
              "      <td>69759</td>\n",
              "    </tr>\n",
              "    <tr>\n",
              "      <th>7</th>\n",
              "      <td>38417</td>\n",
              "      <td>148001</td>\n",
              "      <td>96190</td>\n",
              "      <td>71498</td>\n",
              "    </tr>\n",
              "    <tr>\n",
              "      <th>8</th>\n",
              "      <td>27893</td>\n",
              "      <td>164471</td>\n",
              "      <td>84711</td>\n",
              "      <td>77799</td>\n",
              "    </tr>\n",
              "    <tr>\n",
              "      <th>9</th>\n",
              "      <td>41128</td>\n",
              "      <td>172796</td>\n",
              "      <td>118546</td>\n",
              "      <td>78240</td>\n",
              "    </tr>\n",
              "    <tr>\n",
              "      <th>10</th>\n",
              "      <td>38559</td>\n",
              "      <td>174999</td>\n",
              "      <td>82982</td>\n",
              "      <td>81006</td>\n",
              "    </tr>\n",
              "    <tr>\n",
              "      <th>11</th>\n",
              "      <td>10230</td>\n",
              "      <td>185265</td>\n",
              "      <td>65948</td>\n",
              "      <td>81229</td>\n",
              "    </tr>\n",
              "    <tr>\n",
              "      <th>12</th>\n",
              "      <td>44070</td>\n",
              "      <td>197029</td>\n",
              "      <td>51283</td>\n",
              "      <td>89949</td>\n",
              "    </tr>\n",
              "    <tr>\n",
              "      <th>13</th>\n",
              "      <td>28664</td>\n",
              "      <td>201127</td>\n",
              "      <td>127056</td>\n",
              "      <td>90708</td>\n",
              "    </tr>\n",
              "    <tr>\n",
              "      <th>14</th>\n",
              "      <td>46014</td>\n",
              "      <td>205518</td>\n",
              "      <td>85047</td>\n",
              "      <td>96480</td>\n",
              "    </tr>\n",
              "    <tr>\n",
              "      <th>15</th>\n",
              "      <td>86426</td>\n",
              "      <td>210798</td>\n",
              "      <td>157694</td>\n",
              "      <td>96713</td>\n",
              "    </tr>\n",
              "    <tr>\n",
              "      <th>16</th>\n",
              "      <td>35494</td>\n",
              "      <td>214635</td>\n",
              "      <td>103057</td>\n",
              "      <td>96779</td>\n",
              "    </tr>\n",
              "    <tr>\n",
              "      <th>17</th>\n",
              "      <td>53409</td>\n",
              "      <td>46085</td>\n",
              "      <td>129220</td>\n",
              "      <td>97428</td>\n",
              "    </tr>\n",
              "    <tr>\n",
              "      <th>18</th>\n",
              "      <td>81136</td>\n",
              "      <td>88218</td>\n",
              "      <td>152702</td>\n",
              "      <td>97484</td>\n",
              "    </tr>\n",
              "    <tr>\n",
              "      <th>19</th>\n",
              "      <td>31994</td>\n",
              "      <td>91131</td>\n",
              "      <td>115641</td>\n",
              "      <td>99938</td>\n",
              "    </tr>\n",
              "    <tr>\n",
              "      <th>20</th>\n",
              "      <td>65605</td>\n",
              "      <td>107138</td>\n",
              "      <td>153032</td>\n",
              "      <td>101005</td>\n",
              "    </tr>\n",
              "    <tr>\n",
              "      <th>21</th>\n",
              "      <td>46052</td>\n",
              "      <td>118148</td>\n",
              "      <td>182646</td>\n",
              "      <td>103282</td>\n",
              "    </tr>\n",
              "    <tr>\n",
              "      <th>22</th>\n",
              "      <td>72108</td>\n",
              "      <td>353184</td>\n",
              "      <td>127865</td>\n",
              "      <td>105008</td>\n",
              "    </tr>\n",
              "    <tr>\n",
              "      <th>23</th>\n",
              "      <td>55329</td>\n",
              "      <td>134050</td>\n",
              "      <td>144136</td>\n",
              "      <td>105734</td>\n",
              "    </tr>\n",
              "    <tr>\n",
              "      <th>24</th>\n",
              "      <td>94665</td>\n",
              "      <td>137963</td>\n",
              "      <td>139553</td>\n",
              "      <td>107404</td>\n",
              "    </tr>\n",
              "    <tr>\n",
              "      <th>25</th>\n",
              "      <td>77044</td>\n",
              "      <td>140575</td>\n",
              "      <td>99281</td>\n",
              "      <td>108552</td>\n",
              "    </tr>\n",
              "    <tr>\n",
              "      <th>26</th>\n",
              "      <td>87533</td>\n",
              "      <td>304769</td>\n",
              "      <td>105751</td>\n",
              "      <td>108734</td>\n",
              "    </tr>\n",
              "    <tr>\n",
              "      <th>27</th>\n",
              "      <td>73995</td>\n",
              "      <td>303319</td>\n",
              "      <td>122783</td>\n",
              "      <td>110352</td>\n",
              "    </tr>\n",
              "    <tr>\n",
              "      <th>28</th>\n",
              "      <td>98389</td>\n",
              "      <td>299737</td>\n",
              "      <td>153773</td>\n",
              "      <td>111313</td>\n",
              "    </tr>\n",
              "    <tr>\n",
              "      <th>29</th>\n",
              "      <td>56254</td>\n",
              "      <td>298664</td>\n",
              "      <td>113867</td>\n",
              "      <td>118474</td>\n",
              "    </tr>\n",
              "    <tr>\n",
              "      <th>30</th>\n",
              "      <td>86420</td>\n",
              "      <td>0</td>\n",
              "      <td>153514</td>\n",
              "      <td>122777</td>\n",
              "    </tr>\n",
              "    <tr>\n",
              "      <th>31</th>\n",
              "      <td>41749</td>\n",
              "      <td>294920</td>\n",
              "      <td>114176</td>\n",
              "      <td>124267</td>\n",
              "    </tr>\n",
              "    <tr>\n",
              "      <th>32</th>\n",
              "      <td>94657</td>\n",
              "      <td>282574</td>\n",
              "      <td>145078</td>\n",
              "      <td>125370</td>\n",
              "    </tr>\n",
              "    <tr>\n",
              "      <th>33</th>\n",
              "      <td>78013</td>\n",
              "      <td>264346</td>\n",
              "      <td>121598</td>\n",
              "      <td>126993</td>\n",
              "    </tr>\n",
              "    <tr>\n",
              "      <th>34</th>\n",
              "      <td>114524</td>\n",
              "      <td>261776</td>\n",
              "      <td>122617</td>\n",
              "      <td>129917</td>\n",
              "    </tr>\n",
              "    <tr>\n",
              "      <th>35</th>\n",
              "      <td>69943</td>\n",
              "      <td>256513</td>\n",
              "      <td>156547</td>\n",
              "      <td>132603</td>\n",
              "    </tr>\n",
              "    <tr>\n",
              "      <th>36</th>\n",
              "      <td>71992</td>\n",
              "      <td>252665</td>\n",
              "      <td>135495</td>\n",
              "      <td>134307</td>\n",
              "    </tr>\n",
              "    <tr>\n",
              "      <th>37</th>\n",
              "      <td>93864</td>\n",
              "      <td>249839</td>\n",
              "      <td>127320</td>\n",
              "      <td>141586</td>\n",
              "    </tr>\n",
              "    <tr>\n",
              "      <th>38</th>\n",
              "      <td>100672</td>\n",
              "      <td>249745</td>\n",
              "      <td>91791</td>\n",
              "      <td>144259</td>\n",
              "    </tr>\n",
              "    <tr>\n",
              "      <th>39</th>\n",
              "      <td>81913</td>\n",
              "      <td>229161</td>\n",
              "      <td>110594</td>\n",
              "      <td>146122</td>\n",
              "    </tr>\n",
              "    <tr>\n",
              "      <th>40</th>\n",
              "      <td>123335</td>\n",
              "      <td>304982</td>\n",
              "      <td>108679</td>\n",
              "      <td>149760</td>\n",
              "    </tr>\n",
              "    <tr>\n",
              "      <th>41</th>\n",
              "      <td>60543</td>\n",
              "      <td>311613</td>\n",
              "      <td>148719</td>\n",
              "      <td>152212</td>\n",
              "    </tr>\n",
              "    <tr>\n",
              "      <th>42</th>\n",
              "      <td>130298</td>\n",
              "      <td>323877</td>\n",
              "      <td>145530</td>\n",
              "      <td>155753</td>\n",
              "    </tr>\n",
              "    <tr>\n",
              "      <th>43</th>\n",
              "      <td>104615</td>\n",
              "      <td>27717</td>\n",
              "      <td>147199</td>\n",
              "      <td>156123</td>\n",
              "    </tr>\n",
              "    <tr>\n",
              "      <th>44</th>\n",
              "      <td>131877</td>\n",
              "      <td>362861</td>\n",
              "      <td>99815</td>\n",
              "      <td>156991</td>\n",
              "    </tr>\n",
              "    <tr>\n",
              "      <th>45</th>\n",
              "      <td>112107</td>\n",
              "      <td>366168</td>\n",
              "      <td>91392</td>\n",
              "      <td>166188</td>\n",
              "    </tr>\n",
              "    <tr>\n",
              "      <th>46</th>\n",
              "      <td>144372</td>\n",
              "      <td>383200</td>\n",
              "      <td>118672</td>\n",
              "      <td>182902</td>\n",
              "    </tr>\n",
              "    <tr>\n",
              "      <th>47</th>\n",
              "      <td>123442</td>\n",
              "      <td>407935</td>\n",
              "      <td>101146</td>\n",
              "      <td>191050</td>\n",
              "    </tr>\n",
              "    <tr>\n",
              "      <th>48</th>\n",
              "      <td>142598</td>\n",
              "      <td>443899</td>\n",
              "      <td>151378</td>\n",
              "      <td>191792</td>\n",
              "    </tr>\n",
              "    <tr>\n",
              "      <th>49</th>\n",
              "      <td>135349</td>\n",
              "      <td>471784</td>\n",
              "      <td>136898</td>\n",
              "      <td>192262</td>\n",
              "    </tr>\n",
              "  </tbody>\n",
              "</table>\n",
              "</div>"
            ],
            "text/plain": [
              "    Investimento     Mkt  Gastos_Administrativo   Lucro\n",
              "0              0   45173                 116984   14681\n",
              "1            542       0                  51743   35673\n",
              "2              0       0                 135427   42560\n",
              "3           1315  297114                 115816   49491\n",
              "4           1000    1904                 124153   64926\n",
              "5          20178   28335                 154806   65200\n",
              "6          15506   35534                 127382   69759\n",
              "7          38417  148001                  96190   71498\n",
              "8          27893  164471                  84711   77799\n",
              "9          41128  172796                 118546   78240\n",
              "10         38559  174999                  82982   81006\n",
              "11         10230  185265                  65948   81229\n",
              "12         44070  197029                  51283   89949\n",
              "13         28664  201127                 127056   90708\n",
              "14         46014  205518                  85047   96480\n",
              "15         86426  210798                 157694   96713\n",
              "16         35494  214635                 103057   96779\n",
              "17         53409   46085                 129220   97428\n",
              "18         81136   88218                 152702   97484\n",
              "19         31994   91131                 115641   99938\n",
              "20         65605  107138                 153032  101005\n",
              "21         46052  118148                 182646  103282\n",
              "22         72108  353184                 127865  105008\n",
              "23         55329  134050                 144136  105734\n",
              "24         94665  137963                 139553  107404\n",
              "25         77044  140575                  99281  108552\n",
              "26         87533  304769                 105751  108734\n",
              "27         73995  303319                 122783  110352\n",
              "28         98389  299737                 153773  111313\n",
              "29         56254  298664                 113867  118474\n",
              "30         86420       0                 153514  122777\n",
              "31         41749  294920                 114176  124267\n",
              "32         94657  282574                 145078  125370\n",
              "33         78013  264346                 121598  126993\n",
              "34        114524  261776                 122617  129917\n",
              "35         69943  256513                 156547  132603\n",
              "36         71992  252665                 135495  134307\n",
              "37         93864  249839                 127320  141586\n",
              "38        100672  249745                  91791  144259\n",
              "39         81913  229161                 110594  146122\n",
              "40        123335  304982                 108679  149760\n",
              "41         60543  311613                 148719  152212\n",
              "42        130298  323877                 145530  155753\n",
              "43        104615   27717                 147199  156123\n",
              "44        131877  362861                  99815  156991\n",
              "45        112107  366168                  91392  166188\n",
              "46        144372  383200                 118672  182902\n",
              "47        123442  407935                 101146  191050\n",
              "48        142598  443899                 151378  191792\n",
              "49        135349  471784                 136898  192262"
            ]
          },
          "execution_count": 113,
          "metadata": {},
          "output_type": "execute_result"
        }
      ],
      "source": [
        "lucro=pd.read_excel(\"/Users/chenyenpin/Downloads/Lucro.xlsx\")\n",
        "lucro.describe()\n",
        "lucro.columns=[\"Investimento\", \"Mkt\",\"Gastos_Administrativo\",\"Lucro\"]\n",
        "lucro"
      ]
    },
    {
      "cell_type": "code",
      "execution_count": null,
      "metadata": {
        "id": "3UA5qBsbIYtN",
        "outputId": "d1b33d86-3828-414a-cbb3-e8f6f8d90fa9"
      },
      "outputs": [
        {
          "data": {
            "text/html": [
              "<div>\n",
              "<style scoped>\n",
              "    .dataframe tbody tr th:only-of-type {\n",
              "        vertical-align: middle;\n",
              "    }\n",
              "\n",
              "    .dataframe tbody tr th {\n",
              "        vertical-align: top;\n",
              "    }\n",
              "\n",
              "    .dataframe thead th {\n",
              "        text-align: right;\n",
              "    }\n",
              "</style>\n",
              "<table border=\"1\" class=\"dataframe\">\n",
              "  <thead>\n",
              "    <tr style=\"text-align: right;\">\n",
              "      <th></th>\n",
              "      <th>Investimento</th>\n",
              "      <th>Mkt</th>\n",
              "      <th>Gastos_Administrativo</th>\n",
              "      <th>Lucro</th>\n",
              "    </tr>\n",
              "  </thead>\n",
              "  <tbody>\n",
              "    <tr>\n",
              "      <th>Investimento</th>\n",
              "      <td>1.000000</td>\n",
              "      <td>0.661913</td>\n",
              "      <td>0.243497</td>\n",
              "      <td>0.896767</td>\n",
              "    </tr>\n",
              "    <tr>\n",
              "      <th>Mkt</th>\n",
              "      <td>0.661913</td>\n",
              "      <td>1.000000</td>\n",
              "      <td>-0.046715</td>\n",
              "      <td>0.716677</td>\n",
              "    </tr>\n",
              "    <tr>\n",
              "      <th>Gastos_Administrativo</th>\n",
              "      <td>0.243497</td>\n",
              "      <td>-0.046715</td>\n",
              "      <td>1.000000</td>\n",
              "      <td>0.200720</td>\n",
              "    </tr>\n",
              "    <tr>\n",
              "      <th>Lucro</th>\n",
              "      <td>0.896767</td>\n",
              "      <td>0.716677</td>\n",
              "      <td>0.200720</td>\n",
              "      <td>1.000000</td>\n",
              "    </tr>\n",
              "  </tbody>\n",
              "</table>\n",
              "</div>"
            ],
            "text/plain": [
              "                       Investimento       Mkt  Gastos_Administrativo     Lucro\n",
              "Investimento               1.000000  0.661913               0.243497  0.896767\n",
              "Mkt                        0.661913  1.000000              -0.046715  0.716677\n",
              "Gastos_Administrativo      0.243497 -0.046715               1.000000  0.200720\n",
              "Lucro                      0.896767  0.716677               0.200720  1.000000"
            ]
          },
          "execution_count": 120,
          "metadata": {},
          "output_type": "execute_result"
        }
      ],
      "source": [
        "lucro.corr()"
      ]
    },
    {
      "cell_type": "code",
      "execution_count": null,
      "metadata": {
        "id": "hmZ_BIp0IYtN",
        "outputId": "ad87afb6-7d77-4a27-875e-610c7c651d2f"
      },
      "outputs": [
        {
          "data": {
            "text/plain": [
              "<seaborn.axisgrid.PairGrid at 0x7f9ea394aac0>"
            ]
          },
          "execution_count": 123,
          "metadata": {},
          "output_type": "execute_result"
        },
        {
          "data": {
            "image/png": "[encoded data removed]",
            "text/plain": [
              "<Figure size 1000x1000 with 20 Axes>"
            ]
          },
          "metadata": {},
          "output_type": "display_data"
        }
      ],
      "source": [
        "sns.pairplot(lucro)"
      ]
    },
    {
      "cell_type": "code",
      "execution_count": null,
      "metadata": {
        "id": "mhTK78soIYtO",
        "outputId": "95214e04-995f-4f64-d0e4-b948da9437b2"
      },
      "outputs": [
        {
          "name": "stdout",
          "output_type": "stream",
          "text": [
            "                            OLS Regression Results                            \n",
            "==============================================================================\n",
            "Dep. Variable:                  Lucro   R-squared:                       0.832\n",
            "Model:                            OLS   Adj. R-squared:                  0.821\n",
            "Method:                 Least Squares   F-statistic:                     75.97\n",
            "Date:                Tue, 30 May 2023   Prob (F-statistic):           7.60e-18\n",
            "Time:                        15:37:14   Log-Likelihood:                -556.05\n",
            "No. Observations:                  50   AIC:                             1120.\n",
            "Df Residuals:                      46   BIC:                             1128.\n",
            "Df Model:                           3                                         \n",
            "Covariance Type:            nonrobust                                         \n",
            "=========================================================================================\n",
            "                            coef    std err          t      P>|t|      [0.025      0.975]\n",
            "-----------------------------------------------------------------------------------------\n",
            "Intercept              4.217e+04    1.2e+04      3.516      0.001     1.8e+04    6.63e+04\n",
            "Investimento              0.7203      0.085      8.495      0.000       0.550       0.891\n",
            "Mkt                       0.0748      0.027      2.746      0.009       0.020       0.130\n",
            "Gastos_Administrativo     0.0465      0.094      0.497      0.622      -0.142       0.235\n",
            "==============================================================================\n",
            "Omnibus:                        0.478   Durbin-Watson:                   2.180\n",
            "Prob(Omnibus):                  0.788   Jarque-Bera (JB):                0.625\n",
            "Skew:                          -0.122   Prob(JB):                        0.732\n",
            "Kurtosis:                       2.510   Cond. No.                     1.37e+06\n",
            "==============================================================================\n",
            "\n",
            "Notes:\n",
            "[1] Standard Errors assume that the covariance matrix of the errors is correctly specified.\n",
            "[2] The condition number is large, 1.37e+06. This might indicate that there are\n",
            "strong multicollinearity or other numerical problems.\n"
          ]
        }
      ],
      "source": [
        "#modelo backward\n",
        "modelo=\"Lucro~Investimento+Mkt+Gastos_Administrativo\"\n",
        "treino=smf.ols(formula=modelo,data=lucro).fit()\n",
        "print(treino.summary())"
      ]
    },
    {
      "cell_type": "code",
      "execution_count": null,
      "metadata": {
        "id": "UMPJdsHlIYtP",
        "outputId": "8a6b7495-9a39-40a1-8a36-6e8f662119b3"
      },
      "outputs": [
        {
          "name": "stdout",
          "output_type": "stream",
          "text": [
            "                            OLS Regression Results                            \n",
            "==============================================================================\n",
            "Dep. Variable:                  Lucro   R-squared:                       0.831\n",
            "Model:                            OLS   Adj. R-squared:                  0.824\n",
            "Method:                 Least Squares   F-statistic:                     115.7\n",
            "Date:                Tue, 30 May 2023   Prob (F-statistic):           7.01e-19\n",
            "Time:                        15:38:24   Log-Likelihood:                -556.18\n",
            "No. Observations:                  50   AIC:                             1118.\n",
            "Df Residuals:                      47   BIC:                             1124.\n",
            "Df Model:                           2                                         \n",
            "Covariance Type:            nonrobust                                         \n",
            "================================================================================\n",
            "                   coef    std err          t      P>|t|      [0.025      0.975]\n",
            "--------------------------------------------------------------------------------\n",
            "Intercept     4.758e+04   5004.534      9.507      0.000    3.75e+04    5.76e+04\n",
            "Investimento     0.7357      0.078      9.402      0.000       0.578       0.893\n",
            "Mkt              0.0709      0.026      2.740      0.009       0.019       0.123\n",
            "==============================================================================\n",
            "Omnibus:                        0.458   Durbin-Watson:                   2.167\n",
            "Prob(Omnibus):                  0.795   Jarque-Bera (JB):                0.595\n",
            "Skew:                          -0.053   Prob(JB):                        0.743\n",
            "Kurtosis:                       2.476   Cond. No.                     5.30e+05\n",
            "==============================================================================\n",
            "\n",
            "Notes:\n",
            "[1] Standard Errors assume that the covariance matrix of the errors is correctly specified.\n",
            "[2] The condition number is large, 5.3e+05. This might indicate that there are\n",
            "strong multicollinearity or other numerical problems.\n"
          ]
        }
      ],
      "source": [
        "modelo=\"Lucro~Investimento+Mkt\"\n",
        "treino=smf.ols(formula=modelo,data=lucro).fit()\n",
        "print(treino.summary())"
      ]
    }
  ],
  "metadata": {
    "kernelspec": {
      "display_name": "base",
      "language": "python",
      "name": "python3"
    },
    "language_info": {
      "codemirror_mode": {
        "name": "ipython",
        "version": 3
      },
      "file_extension": ".py",
      "mimetype": "text/x-python",
      "name": "python",
      "nbconvert_exporter": "python",
      "pygments_lexer": "ipython3",
      "version": "3.9.13"
    },
    "orig_nbformat": 4,
    "colab": {
      "provenance": [],
      "include_colab_link": true
    }
  },
  "nbformat": 4,
  "nbformat_minor": 0
}