{
  "cells": [
    {
      "cell_type": "markdown",
      "metadata": {
        "id": "view-in-github",
        "colab_type": "text"
      },
      "source": [
        "<a href=\"https://colab.research.google.com/github/bcguilherme/arquivos-legais/blob/main/case4_1.ipynb\" target=\"_parent\"><img src=\"https://colab.research.google.com/assets/colab-badge.svg\" alt=\"Open In Colab\"/></a>"
      ]
    },
    {
      "cell_type": "markdown",
      "metadata": {
        "id": "SxBHhcOk9HGI"
      },
      "source": [
        "# Importando as bibliotecas\n"
      ]
    },
    {
      "cell_type": "code",
      "execution_count": null,
      "metadata": {
        "id": "LEmD7C289HGM"
      },
      "outputs": [],
      "source": [
        "import pandas as pd\n",
        "import seaborn as sns\n",
        "import matplotlib.pyplot as plt\n",
        "from sklearn.preprocessing import MinMaxScaler\n",
        "from sklearn.model_selection import train_test_split\n",
        "from sklearn.linear_model import LinearRegression\n",
        "from sklearn import metrics\n",
        "from sklearn.metrics import r2_score\n",
        "import statistics as sts\n",
        "import numpy as np\n",
        "import statsmodels.formula.api as smf"
      ]
    },
    {
      "cell_type": "markdown",
      "metadata": {
        "id": "tRYdPyRq9HGO"
      },
      "source": [
        "# Fase 1. Analise DESCRITIVA dos dados."
      ]
    },
    {
      "cell_type": "markdown",
      "metadata": {
        "id": "2m-6eKJw9HGO"
      },
      "source": [
        "Nessa fase exploraremos o nosso data set usando a biblioteca Pandas.\n",
        "* O primeiro passo a se realiza é a realizar a importacao do arquivo utilizando a a funcao .read_\"tipo do formato\"(\"loca/nomedoarquivo.extensao do arquivo\") , caso nessa etapa no data frame nao for exportado com o devido espacamento ou divisao das colunas, deveremos indetificar qual e o tipo de separacao que existe, passando o paramentro sep=\"a separacao\"\n",
        "* Apos importar o nosso dataset, poderemos a iniciar as primeiras exploracoes usando .HEAD(), que nos trara as primeiras 5 linhas do nosso data set, ou a quantidade de linha que quisermos caso queiramos ter mais mais que 5 ou menos que 5 linhas\n",
        "* Nas celulas abaixo, vamos utilizar os seguintes comandos.INFO, ISNULL, DUPLICATED, ISNA\n",
        "1. Utilizaremos a função info para conhecer os tipos dos dados e a quantidade de valores não nulos.\n",
        "2. Podemos utilizar o comando isnull().sum() para verificar se existem valores nulos no dataset.\n",
        "3. O comando isna().sum(), nos traz valores ausentes e somatoria das mesmas.\n",
        "4. Podemos utilizar o comando duplicated().sum() para verificar se existem valores duplicados."
      ]
    },
    {
      "cell_type": "code",
      "execution_count": null,
      "metadata": {
        "id": "lqqBf6f-9HGP",
        "outputId": "f2ce607d-966a-4490-967e-c97862089af4"
      },
      "outputs": [
        {
          "data": {
            "text/html": [
              "<div>\n",
              "<style scoped>\n",
              "    .dataframe tbody tr th:only-of-type {\n",
              "        vertical-align: middle;\n",
              "    }\n",
              "\n",
              "    .dataframe tbody tr th {\n",
              "        vertical-align: top;\n",
              "    }\n",
              "\n",
              "    .dataframe thead th {\n",
              "        text-align: right;\n",
              "    }\n",
              "</style>\n",
              "<table border=\"1\" class=\"dataframe\">\n",
              "  <thead>\n",
              "    <tr style=\"text-align: right;\">\n",
              "      <th></th>\n",
              "      <th>youtube</th>\n",
              "      <th>facebook</th>\n",
              "      <th>newspaper</th>\n",
              "      <th>sales</th>\n",
              "    </tr>\n",
              "  </thead>\n",
              "  <tbody>\n",
              "    <tr>\n",
              "      <th>0</th>\n",
              "      <td>84.72</td>\n",
              "      <td>19.20</td>\n",
              "      <td>48.96</td>\n",
              "      <td>12.60</td>\n",
              "    </tr>\n",
              "    <tr>\n",
              "      <th>1</th>\n",
              "      <td>351.48</td>\n",
              "      <td>33.96</td>\n",
              "      <td>51.84</td>\n",
              "      <td>25.68</td>\n",
              "    </tr>\n",
              "    <tr>\n",
              "      <th>2</th>\n",
              "      <td>135.48</td>\n",
              "      <td>20.88</td>\n",
              "      <td>46.32</td>\n",
              "      <td>14.28</td>\n",
              "    </tr>\n",
              "    <tr>\n",
              "      <th>3</th>\n",
              "      <td>116.64</td>\n",
              "      <td>1.80</td>\n",
              "      <td>36.00</td>\n",
              "      <td>11.52</td>\n",
              "    </tr>\n",
              "    <tr>\n",
              "      <th>4</th>\n",
              "      <td>318.72</td>\n",
              "      <td>24.00</td>\n",
              "      <td>0.36</td>\n",
              "      <td>20.88</td>\n",
              "    </tr>\n",
              "  </tbody>\n",
              "</table>\n",
              "</div>"
            ],
            "text/plain": [
              "   youtube  facebook  newspaper  sales\n",
              "0    84.72     19.20      48.96  12.60\n",
              "1   351.48     33.96      51.84  25.68\n",
              "2   135.48     20.88      46.32  14.28\n",
              "3   116.64      1.80      36.00  11.52\n",
              "4   318.72     24.00       0.36  20.88"
            ]
          },
          "execution_count": 2,
          "metadata": {},
          "output_type": "execute_result"
        }
      ],
      "source": [
        "#importando arquivo\n",
        "mkt=pd.read_csv(\"/Users/chenyenpin/Downloads/MKT.csv\")\n",
        "mkt.head()"
      ]
    },
    {
      "cell_type": "code",
      "execution_count": null,
      "metadata": {
        "id": "ktmy0Co09HGR",
        "outputId": "273d6e42-a899-4206-9edb-cb206189da7d"
      },
      "outputs": [
        {
          "name": "stdout",
          "output_type": "stream",
          "text": [
            "<class 'pandas.core.frame.DataFrame'>\n",
            "RangeIndex: 171 entries, 0 to 170\n",
            "Data columns (total 4 columns):\n",
            " #   Column     Non-Null Count  Dtype  \n",
            "---  ------     --------------  -----  \n",
            " 0   youtube    171 non-null    float64\n",
            " 1   facebook   171 non-null    float64\n",
            " 2   newspaper  171 non-null    float64\n",
            " 3   sales      171 non-null    float64\n",
            "dtypes: float64(4)\n",
            "memory usage: 5.5 KB\n"
          ]
        }
      ],
      "source": [
        "#buscado info do dataset\n",
        "mkt.info()"
      ]
    },
    {
      "cell_type": "code",
      "execution_count": null,
      "metadata": {
        "id": "bVI6YU-99HGR",
        "outputId": "790983dc-b486-480c-b604-5f71348ba4a0"
      },
      "outputs": [
        {
          "data": {
            "text/plain": [
              "youtube      0\n",
              "facebook     0\n",
              "newspaper    0\n",
              "sales        0\n",
              "dtype: int64"
            ]
          },
          "execution_count": 4,
          "metadata": {},
          "output_type": "execute_result"
        }
      ],
      "source": [
        "mkt.isna().sum()"
      ]
    },
    {
      "cell_type": "code",
      "execution_count": null,
      "metadata": {
        "id": "f_DZcgIP9HGS",
        "outputId": "1d2d1c15-9cca-44e2-9a49-6b57e36c6c74"
      },
      "outputs": [
        {
          "data": {
            "text/plain": [
              "youtube      0\n",
              "facebook     0\n",
              "newspaper    0\n",
              "sales        0\n",
              "dtype: int64"
            ]
          },
          "execution_count": 5,
          "metadata": {},
          "output_type": "execute_result"
        }
      ],
      "source": [
        "mkt.isnull().sum()"
      ]
    },
    {
      "cell_type": "code",
      "execution_count": null,
      "metadata": {
        "id": "yccgI1h89HGS",
        "outputId": "23056089-736b-4cfb-e8cb-ba271ebcfae6"
      },
      "outputs": [
        {
          "data": {
            "text/plain": [
              "0"
            ]
          },
          "execution_count": 6,
          "metadata": {},
          "output_type": "execute_result"
        }
      ],
      "source": [
        "mkt.duplicated().sum()"
      ]
    },
    {
      "cell_type": "markdown",
      "metadata": {
        "id": "mWnWHfAU9HGS"
      },
      "source": [
        "#  Fase 2. Analise EXPLORATORIA dos dados\n"
      ]
    },
    {
      "cell_type": "markdown",
      "metadata": {
        "id": "qRc34EXS9HGT"
      },
      "source": [
        "* OBS:COMO NAO HOUVE VALORES DUPLICADOS, NA, NULL, ou fora do padrao. Nao vai ser preciso fazer qualquer tramaneto referente.\n",
        "* Entendendo os valores passando o comando describe(), porem dentro desse comando passaremos os percentils de 1%, 10%, 25%, 50%, 75%, 90%, 99%) alem dos valores padroes que do describe ja nos traz que sao a media, mediana, minimo\n",
        "* Usando boxplots na identificar caso haja algum valor fora do normal( outliers)\n",
        "* Determinando a correlacao dos dados\n",
        "* Plotando grafico de correlacao usando HEATMAP\n",
        "* Entendendo como estao as distribuicoes dos valores usando graficos de barras\n",
        "* Analisando os as densidades dos dados num grafico de dispersao\n",
        "* Identificacao dos outliers usando a filtro loc[]>100, para o newspaper, e a decisao de nao retira-los pois nela pois a media e a mediana se encontram em valores muito proximos, levando a entender que esses valores nao interfiram tanto nas distribuicoes.\n",
        "  "
      ]
    },
    {
      "cell_type": "code",
      "execution_count": null,
      "metadata": {
        "id": "y8D8oGA_9HGT",
        "outputId": "367bde58-0073-42e7-c522-a1a7754c33d0"
      },
      "outputs": [
        {
          "data": {
            "text/html": [
              "<div>\n",
              "<style scoped>\n",
              "    .dataframe tbody tr th:only-of-type {\n",
              "        vertical-align: middle;\n",
              "    }\n",
              "\n",
              "    .dataframe tbody tr th {\n",
              "        vertical-align: top;\n",
              "    }\n",
              "\n",
              "    .dataframe thead th {\n",
              "        text-align: right;\n",
              "    }\n",
              "</style>\n",
              "<table border=\"1\" class=\"dataframe\">\n",
              "  <thead>\n",
              "    <tr style=\"text-align: right;\">\n",
              "      <th></th>\n",
              "      <th>count</th>\n",
              "      <th>mean</th>\n",
              "      <th>std</th>\n",
              "      <th>min</th>\n",
              "      <th>1%</th>\n",
              "      <th>10%</th>\n",
              "      <th>25%</th>\n",
              "      <th>50%</th>\n",
              "      <th>75%</th>\n",
              "      <th>90%</th>\n",
              "      <th>99%</th>\n",
              "      <th>max</th>\n",
              "    </tr>\n",
              "  </thead>\n",
              "  <tbody>\n",
              "    <tr>\n",
              "      <th>youtube</th>\n",
              "      <td>171.0</td>\n",
              "      <td>178.021053</td>\n",
              "      <td>102.449597</td>\n",
              "      <td>0.84</td>\n",
              "      <td>6.012</td>\n",
              "      <td>30.72</td>\n",
              "      <td>91.08</td>\n",
              "      <td>179.76</td>\n",
              "      <td>262.98</td>\n",
              "      <td>315.24</td>\n",
              "      <td>351.732</td>\n",
              "      <td>355.68</td>\n",
              "    </tr>\n",
              "    <tr>\n",
              "      <th>facebook</th>\n",
              "      <td>171.0</td>\n",
              "      <td>27.671579</td>\n",
              "      <td>17.913532</td>\n",
              "      <td>0.00</td>\n",
              "      <td>0.444</td>\n",
              "      <td>4.08</td>\n",
              "      <td>11.70</td>\n",
              "      <td>26.76</td>\n",
              "      <td>43.68</td>\n",
              "      <td>52.20</td>\n",
              "      <td>59.280</td>\n",
              "      <td>59.52</td>\n",
              "    </tr>\n",
              "    <tr>\n",
              "      <th>newspaper</th>\n",
              "      <td>171.0</td>\n",
              "      <td>35.240000</td>\n",
              "      <td>24.902918</td>\n",
              "      <td>0.36</td>\n",
              "      <td>1.752</td>\n",
              "      <td>7.08</td>\n",
              "      <td>13.74</td>\n",
              "      <td>31.08</td>\n",
              "      <td>50.88</td>\n",
              "      <td>70.44</td>\n",
              "      <td>103.416</td>\n",
              "      <td>121.08</td>\n",
              "    </tr>\n",
              "    <tr>\n",
              "      <th>sales</th>\n",
              "      <td>171.0</td>\n",
              "      <td>16.922807</td>\n",
              "      <td>6.314608</td>\n",
              "      <td>1.92</td>\n",
              "      <td>5.604</td>\n",
              "      <td>9.60</td>\n",
              "      <td>12.54</td>\n",
              "      <td>15.48</td>\n",
              "      <td>20.82</td>\n",
              "      <td>26.04</td>\n",
              "      <td>30.852</td>\n",
              "      <td>32.40</td>\n",
              "    </tr>\n",
              "  </tbody>\n",
              "</table>\n",
              "</div>"
            ],
            "text/plain": [
              "           count        mean         std   min     1%    10%    25%     50%  \\\n",
              "youtube    171.0  178.021053  102.449597  0.84  6.012  30.72  91.08  179.76   \n",
              "facebook   171.0   27.671579   17.913532  0.00  0.444   4.08  11.70   26.76   \n",
              "newspaper  171.0   35.240000   24.902918  0.36  1.752   7.08  13.74   31.08   \n",
              "sales      171.0   16.922807    6.314608  1.92  5.604   9.60  12.54   15.48   \n",
              "\n",
              "              75%     90%      99%     max  \n",
              "youtube    262.98  315.24  351.732  355.68  \n",
              "facebook    43.68   52.20   59.280   59.52  \n",
              "newspaper   50.88   70.44  103.416  121.08  \n",
              "sales       20.82   26.04   30.852   32.40  "
            ]
          },
          "execution_count": 7,
          "metadata": {},
          "output_type": "execute_result"
        }
      ],
      "source": [
        "#entendendo valores\n",
        "mkt.describe(percentiles=[0.01, 0.1, 0.25, 0.5, 0.75, 0.9, 0.99]).T"
      ]
    },
    {
      "cell_type": "code",
      "execution_count": null,
      "metadata": {
        "id": "XAds0YCs9HGT",
        "outputId": "0125cdbb-82d9-457b-fd98-e0296f6ef5bd"
      },
      "outputs": [
        {
          "data": {
            "image/png": "[encoded data removed]",
            "text/plain": [
              "<Figure size 640x480 with 3 Axes>"
            ]
          },
          "metadata": {},
          "output_type": "display_data"
        }
      ],
      "source": [
        "#entendeo se existem outlies\n",
        "plt.subplot(2,2,1)\n",
        "sns.boxplot(data=mkt[\"youtube\"], orient=\"h\").set(title=\"Youtube\")\n",
        "plt.subplot(2,2,2)\n",
        "sns.boxplot(data=mkt[\"facebook\"], orient=\"h\").set(title=\"facebook\")\n",
        "plt.subplot(2,2,3)\n",
        "sns.boxplot(data=mkt[\"newspaper\"],orient=\"h\").set(title=\"newspaper\")\n",
        "plt.tight_layout()"
      ]
    },
    {
      "cell_type": "code",
      "execution_count": null,
      "metadata": {
        "id": "UwooUxXx9HGU",
        "outputId": "1d4ca897-77ee-469e-bd05-7218a1fe96a6"
      },
      "outputs": [
        {
          "data": {
            "text/html": [
              "<div>\n",
              "<style scoped>\n",
              "    .dataframe tbody tr th:only-of-type {\n",
              "        vertical-align: middle;\n",
              "    }\n",
              "\n",
              "    .dataframe tbody tr th {\n",
              "        vertical-align: top;\n",
              "    }\n",
              "\n",
              "    .dataframe thead th {\n",
              "        text-align: right;\n",
              "    }\n",
              "</style>\n",
              "<table border=\"1\" class=\"dataframe\">\n",
              "  <thead>\n",
              "    <tr style=\"text-align: right;\">\n",
              "      <th></th>\n",
              "      <th>youtube</th>\n",
              "      <th>facebook</th>\n",
              "      <th>newspaper</th>\n",
              "      <th>sales</th>\n",
              "    </tr>\n",
              "  </thead>\n",
              "  <tbody>\n",
              "    <tr>\n",
              "      <th>youtube</th>\n",
              "      <td>1.000000</td>\n",
              "      <td>0.086538</td>\n",
              "      <td>0.110759</td>\n",
              "      <td>0.782030</td>\n",
              "    </tr>\n",
              "    <tr>\n",
              "      <th>facebook</th>\n",
              "      <td>0.086538</td>\n",
              "      <td>1.000000</td>\n",
              "      <td>0.293425</td>\n",
              "      <td>0.602918</td>\n",
              "    </tr>\n",
              "    <tr>\n",
              "      <th>newspaper</th>\n",
              "      <td>0.110759</td>\n",
              "      <td>0.293425</td>\n",
              "      <td>1.000000</td>\n",
              "      <td>0.254987</td>\n",
              "    </tr>\n",
              "    <tr>\n",
              "      <th>sales</th>\n",
              "      <td>0.782030</td>\n",
              "      <td>0.602918</td>\n",
              "      <td>0.254987</td>\n",
              "      <td>1.000000</td>\n",
              "    </tr>\n",
              "  </tbody>\n",
              "</table>\n",
              "</div>"
            ],
            "text/plain": [
              "            youtube  facebook  newspaper     sales\n",
              "youtube    1.000000  0.086538   0.110759  0.782030\n",
              "facebook   0.086538  1.000000   0.293425  0.602918\n",
              "newspaper  0.110759  0.293425   1.000000  0.254987\n",
              "sales      0.782030  0.602918   0.254987  1.000000"
            ]
          },
          "execution_count": 9,
          "metadata": {},
          "output_type": "execute_result"
        }
      ],
      "source": [
        "#entendo as correlacoes entre o dadoso target \"sales\"\n",
        "mkt_corr=mkt.corr()\n",
        "mkt_corr"
      ]
    },
    {
      "cell_type": "code",
      "execution_count": null,
      "metadata": {
        "id": "KlGIsP3X9HGU",
        "outputId": "c2c67439-4e3c-44f9-af71-b62aac805ad7"
      },
      "outputs": [
        {
          "data": {
            "image/png": "[encoded data removed]",
            "text/plain": [
              "<Figure size 640x480 with 2 Axes>"
            ]
          },
          "metadata": {},
          "output_type": "display_data"
        }
      ],
      "source": [
        "#gerando o heatmap dos coeficiente de correlacao\n",
        "#boa correlacao entre SALE c/ youtube e sales com facebook porem relacao baixa de sales com Newspaper\n",
        "mask = np.triu(np.ones_like(mkt_corr))\n",
        "\n",
        "sns.heatmap(mkt_corr, mask=mask, annot=True, cmap=sns.cubehelix_palette(as_cmap=True)).set(title=\"Correlacao HeatMap\")\n",
        "plt.show()"
      ]
    },
    {
      "cell_type": "code",
      "execution_count": null,
      "metadata": {
        "id": "3DVXS41B9HGV",
        "outputId": "2a549f9a-2744-4290-f9f3-d1035d5305e7"
      },
      "outputs": [
        {
          "data": {
            "image/png": "[encoded data removed]",
            "text/plain": [
              "<Figure size 640x480 with 3 Axes>"
            ]
          },
          "metadata": {},
          "output_type": "display_data"
        }
      ],
      "source": [
        "#entendendo as distribuicoes\n",
        "\n",
        "plt.subplot(2,2,1)\n",
        "sns.histplot(data=mkt[\"youtube\"]).set(title=\"Youtube\")\n",
        "plt.subplot(2,2,2)\n",
        "sns.histplot(data=mkt[\"facebook\"]).set(title=\"Facebook\")\n",
        "plt.subplot(2,2,3)\n",
        "sns.histplot(data=mkt[\"newspaper\"]).set(title=\"Newspaper\")\n",
        "plt.tight_layout()"
      ]
    },
    {
      "cell_type": "code",
      "execution_count": null,
      "metadata": {
        "id": "cW_V2OQl9HGW",
        "outputId": "dadcdde1-67fd-4dad-d463-c93e68ac7dda"
      },
      "outputs": [
        {
          "data": {
            "image/png": "[encoded data removed]",
            "text/plain": [
              "<Figure size 640x480 with 3 Axes>"
            ]
          },
          "metadata": {},
          "output_type": "display_data"
        }
      ],
      "source": [
        "#entendendo grafico de dispercao\n",
        "\n",
        "plt.subplot(2,2,1)\n",
        "sns.regplot(data=mkt[\"youtube\"], x=mkt[\"youtube\"], y=mkt[\"sales\"],marker=\".\", fit_reg=True).set(title=\"Youtube\")\n",
        "plt.subplot(2,2,2)\n",
        "sns.regplot(data=mkt[\"facebook\"],x=mkt[\"facebook\"], y=mkt[\"sales\"],marker=\".\",fit_reg=True).set(title=\"facebook\")\n",
        "plt.subplot(2,2,3)\n",
        "sns.regplot(data=mkt[\"newspaper\"],x=mkt[\"newspaper\"], y=mkt[\"sales\"],marker=\".\",fit_reg=True).set(title=\"newspaper\")\n",
        "plt.tight_layout()"
      ]
    },
    {
      "cell_type": "code",
      "execution_count": null,
      "metadata": {
        "id": "6c1EwTaP9HGW",
        "outputId": "9020d7b5-3eda-4efc-88ef-055757bd0b5c"
      },
      "outputs": [
        {
          "data": {
            "image/png": "[encoded data removed]",
            "text/plain": [
              "<Figure size 640x480 with 3 Axes>"
            ]
          },
          "metadata": {},
          "output_type": "display_data"
        }
      ],
      "source": [
        "#visualizando os outliers\n",
        "plt.subplot(2,2,1)\n",
        "sns.boxplot(data=mkt[\"youtube\"], orient=\"h\").set(title=\"Youtube\")\n",
        "plt.subplot(2,2,2)\n",
        "sns.boxplot(data=mkt[\"facebook\"], orient=\"h\").set(title=\"facebook\")\n",
        "plt.subplot(2,2,3)\n",
        "sns.boxplot(data=mkt[\"newspaper\"],orient=\"h\").set(title=\"newspaper\")\n",
        "plt.tight_layout()"
      ]
    },
    {
      "cell_type": "code",
      "execution_count": null,
      "metadata": {
        "id": "x6ZdsX2e9HGW",
        "outputId": "1b13c66c-4f5a-4281-a0cc-1178fb278984"
      },
      "outputs": [
        {
          "data": {
            "text/plain": [
              "46     107.28\n",
              "72     121.08\n",
              "136    101.76\n",
              "Name: newspaper, dtype: float64"
            ]
          },
          "execution_count": 14,
          "metadata": {},
          "output_type": "execute_result"
        }
      ],
      "source": [
        "#identificando outliers newspaper\n",
        "mkt.loc[mkt['newspaper'] > 100, 'newspaper']"
      ]
    },
    {
      "cell_type": "markdown",
      "metadata": {
        "id": "89Ftd1jZ9HGX"
      },
      "source": [
        "# Modelagem dos dados\n",
        "* Primeiro passo dividiremos nosso dataset em x, y, sendo que Y sao e a coluna *TARGET*\n",
        "* Separando em _x_train_, _x_test_, _y_train_, _y_test_, numa proporcao de de *80%* treino e *20%* teste como 42 de *random state*\n",
        "* criacao de uma variavel chamada *LR* para o modelo e treinamento do modelo\n",
        "* avaliacao do R^2 do modelo treino denominado de *LRsq*\n",
        "* previsao do modelo LR de test usando usando o variavel *y_pred_train*\n",
        "* Treinando o modelo usando o _x_test_ e _y_test_\n",
        "* avaliacao  R^2 do modelo teste\n",
        "* predicao do modelo *y_pred_test\n",
        "* comparacao com o do R^2 com o R^2 ajustado do modelo estatistico  OLS"
      ]
    },
    {
      "cell_type": "code",
      "execution_count": null,
      "metadata": {
        "id": "mu1zAw9u9HGX"
      },
      "outputs": [],
      "source": [
        "#modelagem\n",
        "x=mkt.drop(columns=[\"sales\"])\n",
        "y=mkt[\"sales\"].to_frame(name=\"sales\")"
      ]
    },
    {
      "cell_type": "code",
      "execution_count": null,
      "metadata": {
        "id": "ZS7lgZQr9HGX",
        "outputId": "81cf83f4-fc41-4dff-9ea3-4f150efdb1ec"
      },
      "outputs": [
        {
          "data": {
            "text/html": [
              "<div>\n",
              "<style scoped>\n",
              "    .dataframe tbody tr th:only-of-type {\n",
              "        vertical-align: middle;\n",
              "    }\n",
              "\n",
              "    .dataframe tbody tr th {\n",
              "        vertical-align: top;\n",
              "    }\n",
              "\n",
              "    .dataframe thead th {\n",
              "        text-align: right;\n",
              "    }\n",
              "</style>\n",
              "<table border=\"1\" class=\"dataframe\">\n",
              "  <thead>\n",
              "    <tr style=\"text-align: right;\">\n",
              "      <th></th>\n",
              "      <th>youtube</th>\n",
              "      <th>facebook</th>\n",
              "      <th>newspaper</th>\n",
              "    </tr>\n",
              "  </thead>\n",
              "  <tbody>\n",
              "    <tr>\n",
              "      <th>0</th>\n",
              "      <td>84.72</td>\n",
              "      <td>19.20</td>\n",
              "      <td>48.96</td>\n",
              "    </tr>\n",
              "    <tr>\n",
              "      <th>1</th>\n",
              "      <td>351.48</td>\n",
              "      <td>33.96</td>\n",
              "      <td>51.84</td>\n",
              "    </tr>\n",
              "    <tr>\n",
              "      <th>2</th>\n",
              "      <td>135.48</td>\n",
              "      <td>20.88</td>\n",
              "      <td>46.32</td>\n",
              "    </tr>\n",
              "    <tr>\n",
              "      <th>3</th>\n",
              "      <td>116.64</td>\n",
              "      <td>1.80</td>\n",
              "      <td>36.00</td>\n",
              "    </tr>\n",
              "    <tr>\n",
              "      <th>4</th>\n",
              "      <td>318.72</td>\n",
              "      <td>24.00</td>\n",
              "      <td>0.36</td>\n",
              "    </tr>\n",
              "    <tr>\n",
              "      <th>...</th>\n",
              "      <td>...</td>\n",
              "      <td>...</td>\n",
              "      <td>...</td>\n",
              "    </tr>\n",
              "    <tr>\n",
              "      <th>166</th>\n",
              "      <td>45.84</td>\n",
              "      <td>4.44</td>\n",
              "      <td>16.56</td>\n",
              "    </tr>\n",
              "    <tr>\n",
              "      <th>167</th>\n",
              "      <td>113.04</td>\n",
              "      <td>5.88</td>\n",
              "      <td>9.72</td>\n",
              "    </tr>\n",
              "    <tr>\n",
              "      <th>168</th>\n",
              "      <td>212.40</td>\n",
              "      <td>11.16</td>\n",
              "      <td>7.68</td>\n",
              "    </tr>\n",
              "    <tr>\n",
              "      <th>169</th>\n",
              "      <td>340.32</td>\n",
              "      <td>50.40</td>\n",
              "      <td>79.44</td>\n",
              "    </tr>\n",
              "    <tr>\n",
              "      <th>170</th>\n",
              "      <td>278.52</td>\n",
              "      <td>10.32</td>\n",
              "      <td>10.44</td>\n",
              "    </tr>\n",
              "  </tbody>\n",
              "</table>\n",
              "<p>171 rows × 3 columns</p>\n",
              "</div>"
            ],
            "text/plain": [
              "     youtube  facebook  newspaper\n",
              "0      84.72     19.20      48.96\n",
              "1     351.48     33.96      51.84\n",
              "2     135.48     20.88      46.32\n",
              "3     116.64      1.80      36.00\n",
              "4     318.72     24.00       0.36\n",
              "..       ...       ...        ...\n",
              "166    45.84      4.44      16.56\n",
              "167   113.04      5.88       9.72\n",
              "168   212.40     11.16       7.68\n",
              "169   340.32     50.40      79.44\n",
              "170   278.52     10.32      10.44\n",
              "\n",
              "[171 rows x 3 columns]"
            ]
          },
          "metadata": {},
          "output_type": "display_data"
        },
        {
          "data": {
            "text/html": [
              "<div>\n",
              "<style scoped>\n",
              "    .dataframe tbody tr th:only-of-type {\n",
              "        vertical-align: middle;\n",
              "    }\n",
              "\n",
              "    .dataframe tbody tr th {\n",
              "        vertical-align: top;\n",
              "    }\n",
              "\n",
              "    .dataframe thead th {\n",
              "        text-align: right;\n",
              "    }\n",
              "</style>\n",
              "<table border=\"1\" class=\"dataframe\">\n",
              "  <thead>\n",
              "    <tr style=\"text-align: right;\">\n",
              "      <th></th>\n",
              "      <th>sales</th>\n",
              "    </tr>\n",
              "  </thead>\n",
              "  <tbody>\n",
              "    <tr>\n",
              "      <th>0</th>\n",
              "      <td>12.60</td>\n",
              "    </tr>\n",
              "    <tr>\n",
              "      <th>1</th>\n",
              "      <td>25.68</td>\n",
              "    </tr>\n",
              "    <tr>\n",
              "      <th>2</th>\n",
              "      <td>14.28</td>\n",
              "    </tr>\n",
              "    <tr>\n",
              "      <th>3</th>\n",
              "      <td>11.52</td>\n",
              "    </tr>\n",
              "    <tr>\n",
              "      <th>4</th>\n",
              "      <td>20.88</td>\n",
              "    </tr>\n",
              "    <tr>\n",
              "      <th>...</th>\n",
              "      <td>...</td>\n",
              "    </tr>\n",
              "    <tr>\n",
              "      <th>166</th>\n",
              "      <td>9.12</td>\n",
              "    </tr>\n",
              "    <tr>\n",
              "      <th>167</th>\n",
              "      <td>11.64</td>\n",
              "    </tr>\n",
              "    <tr>\n",
              "      <th>168</th>\n",
              "      <td>15.36</td>\n",
              "    </tr>\n",
              "    <tr>\n",
              "      <th>169</th>\n",
              "      <td>30.60</td>\n",
              "    </tr>\n",
              "    <tr>\n",
              "      <th>170</th>\n",
              "      <td>16.08</td>\n",
              "    </tr>\n",
              "  </tbody>\n",
              "</table>\n",
              "<p>171 rows × 1 columns</p>\n",
              "</div>"
            ],
            "text/plain": [
              "     sales\n",
              "0    12.60\n",
              "1    25.68\n",
              "2    14.28\n",
              "3    11.52\n",
              "4    20.88\n",
              "..     ...\n",
              "166   9.12\n",
              "167  11.64\n",
              "168  15.36\n",
              "169  30.60\n",
              "170  16.08\n",
              "\n",
              "[171 rows x 1 columns]"
            ]
          },
          "metadata": {},
          "output_type": "display_data"
        }
      ],
      "source": [
        "#entendedo se a divisao foi feito de maneira correta\n",
        "display(x, y)"
      ]
    },
    {
      "cell_type": "code",
      "execution_count": null,
      "metadata": {
        "id": "OrKsMC4A9HGX"
      },
      "outputs": [],
      "source": [
        "#separando entre x teste, x treino y test, y treino\n",
        "x_train, x_test, y_train, y_test=train_test_split(x, y, test_size=0.2, random_state=42)"
      ]
    },
    {
      "cell_type": "code",
      "execution_count": null,
      "metadata": {
        "id": "Oko0ZZ619HGY"
      },
      "outputs": [],
      "source": [
        "#treinando os x_train e o y_train\n",
        "LR=LinearRegression().fit(x_train, y_train)"
      ]
    },
    {
      "cell_type": "code",
      "execution_count": null,
      "metadata": {
        "id": "W2wbQf_v9HGY",
        "outputId": "2af1fd54-4691-41eb-d2e9-ce6ea1a118bb"
      },
      "outputs": [
        {
          "data": {
            "text/plain": [
              "0.9074962891333168"
            ]
          },
          "execution_count": 19,
          "metadata": {},
          "output_type": "execute_result"
        }
      ],
      "source": [
        "#calculando o R2 do train treino\n",
        "LR_sq=LR.score(x_train, y_train)\n",
        "LR_sq"
      ]
    },
    {
      "cell_type": "code",
      "execution_count": null,
      "metadata": {
        "id": "4R-czbyh9HGZ"
      },
      "outputs": [],
      "source": [
        "#predicao do Treino\n",
        "y_pred_train=LR.predict(x_train)"
      ]
    },
    {
      "cell_type": "code",
      "execution_count": null,
      "metadata": {
        "id": "QBuejuM59HGZ"
      },
      "outputs": [],
      "source": [
        "\n",
        "LR=LinearRegression().fit(x_test, y_test)"
      ]
    },
    {
      "cell_type": "code",
      "execution_count": null,
      "metadata": {
        "id": "Flv51oI-9HGZ",
        "outputId": "7d243722-b3da-42c0-a272-a9299a1ac22f"
      },
      "outputs": [
        {
          "data": {
            "text/plain": [
              "0.8925835445734595"
            ]
          },
          "execution_count": 22,
          "metadata": {},
          "output_type": "execute_result"
        }
      ],
      "source": [
        "#calulando R2 de test\n",
        "LR_sq=LR.score(x_test, y_test)\n",
        "LR_sq"
      ]
    },
    {
      "cell_type": "code",
      "execution_count": null,
      "metadata": {
        "id": "Ru5kBFs79HGZ"
      },
      "outputs": [],
      "source": [
        "#prevendo o resulto do Teste\n",
        "y_pred_test=LR.predict(x_test)"
      ]
    },
    {
      "cell_type": "code",
      "execution_count": null,
      "metadata": {
        "id": "8mF6MJ3K9HGa",
        "outputId": "9bc69c04-fcc6-4ae7-cdc8-3217ba017795"
      },
      "outputs": [
        {
          "name": "stdout",
          "output_type": "stream",
          "text": [
            "                            OLS Regression Results                            \n",
            "==============================================================================\n",
            "Dep. Variable:                  sales   R-squared:                       0.900\n",
            "Model:                            OLS   Adj. R-squared:                  0.899\n",
            "Method:                 Least Squares   F-statistic:                     757.8\n",
            "Date:                Sat, 03 Jun 2023   Prob (F-statistic):           8.33e-85\n",
            "Time:                        23:51:56   Log-Likelihood:                -360.21\n",
            "No. Observations:                 171   AIC:                             726.4\n",
            "Df Residuals:                     168   BIC:                             735.8\n",
            "Df Model:                           2                                         \n",
            "Covariance Type:            nonrobust                                         \n",
            "==============================================================================\n",
            "                 coef    std err          t      P>|t|      [0.025      0.975]\n",
            "------------------------------------------------------------------------------\n",
            "Intercept      3.5937      0.376      9.555      0.000       2.851       4.336\n",
            "youtube        0.0453      0.002     30.060      0.000       0.042       0.048\n",
            "facebook       0.1901      0.009     22.045      0.000       0.173       0.207\n",
            "==============================================================================\n",
            "Omnibus:                       59.525   Durbin-Watson:                   2.077\n",
            "Prob(Omnibus):                  0.000   Jarque-Bera (JB):              174.220\n",
            "Skew:                          -1.411   Prob(JB):                     1.47e-38\n",
            "Kurtosis:                       7.061   Cond. No.                         507.\n",
            "==============================================================================\n",
            "\n",
            "Notes:\n",
            "[1] Standard Errors assume that the covariance matrix of the errors is correctly specified.\n"
          ]
        }
      ],
      "source": [
        "#comparando com modelo estatistico OLS, usando metodo BACKWARK\n",
        "function=\"sales~youtube+facebook\"\n",
        "model=smf.ols(formula=function, data=mkt).fit()\n",
        "print(model.summary())"
      ]
    },
    {
      "cell_type": "markdown",
      "metadata": {
        "id": "rXq9LBJU9HGa"
      },
      "source": [
        "# Grafico e tabela de predicao x teste\n",
        "* Comparacao de valores do valor *TARGET(y)* com o valor predito pelo modelo\n",
        "* Mostrando os valores previstos pelo modelo\n"
      ]
    },
    {
      "cell_type": "code",
      "execution_count": null,
      "metadata": {
        "id": "AxKlnjY49HGa",
        "outputId": "412b7cdf-5172-4eec-ff30-00618c781932"
      },
      "outputs": [
        {
          "data": {
            "text/plain": [
              "<AxesSubplot:>"
            ]
          },
          "execution_count": 25,
          "metadata": {},
          "output_type": "execute_result"
        },
        {
          "data": {
            "image/png": "[encoded data removed]",
            "text/plain": [
              "<Figure size 640x480 with 1 Axes>"
            ]
          },
          "metadata": {},
          "output_type": "display_data"
        }
      ],
      "source": [
        "#comparacao com o dados fornecidos com o regressao linear e a terceira linha o residuo\n",
        "tabela = pd.DataFrame()\n",
        "tabela[\"y_teste\"] = y_test\n",
        "tabela[\"Previsoes Regressao Linear\"] = y_pred_test\n",
        "sns.lineplot(data=tabela)"
      ]
    },
    {
      "cell_type": "code",
      "execution_count": null,
      "metadata": {
        "id": "6iW35C9C9HGa",
        "outputId": "04c84b88-18ae-4222-8da4-bf15ab6284c9"
      },
      "outputs": [
        {
          "data": {
            "text/html": [
              "<div>\n",
              "<style scoped>\n",
              "    .dataframe tbody tr th:only-of-type {\n",
              "        vertical-align: middle;\n",
              "    }\n",
              "\n",
              "    .dataframe tbody tr th {\n",
              "        vertical-align: top;\n",
              "    }\n",
              "\n",
              "    .dataframe thead th {\n",
              "        text-align: right;\n",
              "    }\n",
              "</style>\n",
              "<table border=\"1\" class=\"dataframe\">\n",
              "  <thead>\n",
              "    <tr style=\"text-align: right;\">\n",
              "      <th></th>\n",
              "      <th>y_teste</th>\n",
              "      <th>Previsoes Regressao Linear</th>\n",
              "    </tr>\n",
              "  </thead>\n",
              "  <tbody>\n",
              "    <tr>\n",
              "      <th>101</th>\n",
              "      <td>1.92</td>\n",
              "      <td>10.404581</td>\n",
              "    </tr>\n",
              "    <tr>\n",
              "      <th>55</th>\n",
              "      <td>26.04</td>\n",
              "      <td>24.528014</td>\n",
              "    </tr>\n",
              "    <tr>\n",
              "      <th>56</th>\n",
              "      <td>18.24</td>\n",
              "      <td>20.040934</td>\n",
              "    </tr>\n",
              "    <tr>\n",
              "      <th>139</th>\n",
              "      <td>20.52</td>\n",
              "      <td>21.990620</td>\n",
              "    </tr>\n",
              "    <tr>\n",
              "      <th>157</th>\n",
              "      <td>12.36</td>\n",
              "      <td>12.360362</td>\n",
              "    </tr>\n",
              "    <tr>\n",
              "      <th>78</th>\n",
              "      <td>10.44</td>\n",
              "      <td>9.007425</td>\n",
              "    </tr>\n",
              "    <tr>\n",
              "      <th>135</th>\n",
              "      <td>14.28</td>\n",
              "      <td>12.545734</td>\n",
              "    </tr>\n",
              "    <tr>\n",
              "      <th>104</th>\n",
              "      <td>23.52</td>\n",
              "      <td>23.587688</td>\n",
              "    </tr>\n",
              "    <tr>\n",
              "      <th>109</th>\n",
              "      <td>11.52</td>\n",
              "      <td>10.828551</td>\n",
              "    </tr>\n",
              "    <tr>\n",
              "      <th>108</th>\n",
              "      <td>24.96</td>\n",
              "      <td>26.479141</td>\n",
              "    </tr>\n",
              "    <tr>\n",
              "      <th>162</th>\n",
              "      <td>11.88</td>\n",
              "      <td>9.396773</td>\n",
              "    </tr>\n",
              "    <tr>\n",
              "      <th>137</th>\n",
              "      <td>9.60</td>\n",
              "      <td>11.549246</td>\n",
              "    </tr>\n",
              "    <tr>\n",
              "      <th>51</th>\n",
              "      <td>14.16</td>\n",
              "      <td>13.011277</td>\n",
              "    </tr>\n",
              "    <tr>\n",
              "      <th>15</th>\n",
              "      <td>10.20</td>\n",
              "      <td>10.623637</td>\n",
              "    </tr>\n",
              "    <tr>\n",
              "      <th>45</th>\n",
              "      <td>20.40</td>\n",
              "      <td>20.329265</td>\n",
              "    </tr>\n",
              "    <tr>\n",
              "      <th>29</th>\n",
              "      <td>28.56</td>\n",
              "      <td>25.736220</td>\n",
              "    </tr>\n",
              "    <tr>\n",
              "      <th>69</th>\n",
              "      <td>30.48</td>\n",
              "      <td>29.558814</td>\n",
              "    </tr>\n",
              "    <tr>\n",
              "      <th>30</th>\n",
              "      <td>22.08</td>\n",
              "      <td>20.925370</td>\n",
              "    </tr>\n",
              "    <tr>\n",
              "      <th>140</th>\n",
              "      <td>18.00</td>\n",
              "      <td>21.662675</td>\n",
              "    </tr>\n",
              "    <tr>\n",
              "      <th>24</th>\n",
              "      <td>25.44</td>\n",
              "      <td>24.265881</td>\n",
              "    </tr>\n",
              "    <tr>\n",
              "      <th>60</th>\n",
              "      <td>20.04</td>\n",
              "      <td>19.993096</td>\n",
              "    </tr>\n",
              "    <tr>\n",
              "      <th>167</th>\n",
              "      <td>11.64</td>\n",
              "      <td>9.492018</td>\n",
              "    </tr>\n",
              "    <tr>\n",
              "      <th>19</th>\n",
              "      <td>17.76</td>\n",
              "      <td>20.949343</td>\n",
              "    </tr>\n",
              "    <tr>\n",
              "      <th>16</th>\n",
              "      <td>17.88</td>\n",
              "      <td>18.403070</td>\n",
              "    </tr>\n",
              "    <tr>\n",
              "      <th>144</th>\n",
              "      <td>14.04</td>\n",
              "      <td>14.446163</td>\n",
              "    </tr>\n",
              "    <tr>\n",
              "      <th>18</th>\n",
              "      <td>27.84</td>\n",
              "      <td>25.211211</td>\n",
              "    </tr>\n",
              "    <tr>\n",
              "      <th>12</th>\n",
              "      <td>20.52</td>\n",
              "      <td>20.802127</td>\n",
              "    </tr>\n",
              "    <tr>\n",
              "      <th>114</th>\n",
              "      <td>12.48</td>\n",
              "      <td>11.272558</td>\n",
              "    </tr>\n",
              "    <tr>\n",
              "      <th>9</th>\n",
              "      <td>12.12</td>\n",
              "      <td>11.548679</td>\n",
              "    </tr>\n",
              "    <tr>\n",
              "      <th>113</th>\n",
              "      <td>24.12</td>\n",
              "      <td>23.294061</td>\n",
              "    </tr>\n",
              "    <tr>\n",
              "      <th>31</th>\n",
              "      <td>9.72</td>\n",
              "      <td>7.079214</td>\n",
              "    </tr>\n",
              "    <tr>\n",
              "      <th>90</th>\n",
              "      <td>7.92</td>\n",
              "      <td>7.686163</td>\n",
              "    </tr>\n",
              "    <tr>\n",
              "      <th>132</th>\n",
              "      <td>15.96</td>\n",
              "      <td>16.283053</td>\n",
              "    </tr>\n",
              "    <tr>\n",
              "      <th>76</th>\n",
              "      <td>23.04</td>\n",
              "      <td>21.683917</td>\n",
              "    </tr>\n",
              "    <tr>\n",
              "      <th>117</th>\n",
              "      <td>15.84</td>\n",
              "      <td>18.543120</td>\n",
              "    </tr>\n",
              "  </tbody>\n",
              "</table>\n",
              "</div>"
            ],
            "text/plain": [
              "     y_teste  Previsoes Regressao Linear\n",
              "101     1.92                   10.404581\n",
              "55     26.04                   24.528014\n",
              "56     18.24                   20.040934\n",
              "139    20.52                   21.990620\n",
              "157    12.36                   12.360362\n",
              "78     10.44                    9.007425\n",
              "135    14.28                   12.545734\n",
              "104    23.52                   23.587688\n",
              "109    11.52                   10.828551\n",
              "108    24.96                   26.479141\n",
              "162    11.88                    9.396773\n",
              "137     9.60                   11.549246\n",
              "51     14.16                   13.011277\n",
              "15     10.20                   10.623637\n",
              "45     20.40                   20.329265\n",
              "29     28.56                   25.736220\n",
              "69     30.48                   29.558814\n",
              "30     22.08                   20.925370\n",
              "140    18.00                   21.662675\n",
              "24     25.44                   24.265881\n",
              "60     20.04                   19.993096\n",
              "167    11.64                    9.492018\n",
              "19     17.76                   20.949343\n",
              "16     17.88                   18.403070\n",
              "144    14.04                   14.446163\n",
              "18     27.84                   25.211211\n",
              "12     20.52                   20.802127\n",
              "114    12.48                   11.272558\n",
              "9      12.12                   11.548679\n",
              "113    24.12                   23.294061\n",
              "31      9.72                    7.079214\n",
              "90      7.92                    7.686163\n",
              "132    15.96                   16.283053\n",
              "76     23.04                   21.683917\n",
              "117    15.84                   18.543120"
            ]
          },
          "execution_count": 26,
          "metadata": {},
          "output_type": "execute_result"
        }
      ],
      "source": [
        "tabela\n"
      ]
    },
    {
      "cell_type": "markdown",
      "metadata": {
        "id": "ShAt-amO9HGb"
      },
      "source": [
        "# Normalizando o dados para comparacao com modelo nao normalizado\n",
        "* Utilizando o metodo *MinMaxScaler*\n",
        "* Definindo uma variavel scaler\n",
        "* Modelando os dados treinando o determinando o R^2"
      ]
    },
    {
      "cell_type": "code",
      "execution_count": null,
      "metadata": {
        "id": "3R1GVIGd9HGb"
      },
      "outputs": [],
      "source": [
        "#normalizando os valores para ver pode haver alguma diferenca no resultado final\n",
        "scaler=MinMaxScaler()"
      ]
    },
    {
      "cell_type": "code",
      "execution_count": null,
      "metadata": {
        "id": "L_JIgLTi9HGb",
        "outputId": "979a37bf-d08a-4c9c-c372-3c1c09462a2e"
      },
      "outputs": [
        {
          "data": {
            "text/html": [
              "<div>\n",
              "<style scoped>\n",
              "    .dataframe tbody tr th:only-of-type {\n",
              "        vertical-align: middle;\n",
              "    }\n",
              "\n",
              "    .dataframe tbody tr th {\n",
              "        vertical-align: top;\n",
              "    }\n",
              "\n",
              "    .dataframe thead th {\n",
              "        text-align: right;\n",
              "    }\n",
              "</style>\n",
              "<table border=\"1\" class=\"dataframe\">\n",
              "  <thead>\n",
              "    <tr style=\"text-align: right;\">\n",
              "      <th></th>\n",
              "      <th>youtube</th>\n",
              "      <th>facebook</th>\n",
              "      <th>newspaper</th>\n",
              "      <th>sales</th>\n",
              "    </tr>\n",
              "  </thead>\n",
              "  <tbody>\n",
              "    <tr>\n",
              "      <th>0</th>\n",
              "      <td>0.236388</td>\n",
              "      <td>0.322581</td>\n",
              "      <td>0.402584</td>\n",
              "      <td>0.350394</td>\n",
              "    </tr>\n",
              "    <tr>\n",
              "      <th>1</th>\n",
              "      <td>0.988164</td>\n",
              "      <td>0.570565</td>\n",
              "      <td>0.426441</td>\n",
              "      <td>0.779528</td>\n",
              "    </tr>\n",
              "    <tr>\n",
              "      <th>2</th>\n",
              "      <td>0.379439</td>\n",
              "      <td>0.350806</td>\n",
              "      <td>0.380716</td>\n",
              "      <td>0.405512</td>\n",
              "    </tr>\n",
              "    <tr>\n",
              "      <th>3</th>\n",
              "      <td>0.326344</td>\n",
              "      <td>0.030242</td>\n",
              "      <td>0.295229</td>\n",
              "      <td>0.314961</td>\n",
              "    </tr>\n",
              "    <tr>\n",
              "      <th>4</th>\n",
              "      <td>0.895840</td>\n",
              "      <td>0.403226</td>\n",
              "      <td>0.000000</td>\n",
              "      <td>0.622047</td>\n",
              "    </tr>\n",
              "  </tbody>\n",
              "</table>\n",
              "</div>"
            ],
            "text/plain": [
              "    youtube  facebook  newspaper     sales\n",
              "0  0.236388  0.322581   0.402584  0.350394\n",
              "1  0.988164  0.570565   0.426441  0.779528\n",
              "2  0.379439  0.350806   0.380716  0.405512\n",
              "3  0.326344  0.030242   0.295229  0.314961\n",
              "4  0.895840  0.403226   0.000000  0.622047"
            ]
          },
          "execution_count": 28,
          "metadata": {},
          "output_type": "execute_result"
        }
      ],
      "source": [
        "mkt_norm=pd.DataFrame(scaler.fit_transform(mkt), index=mkt.index, columns=mkt.columns)\n",
        "\n",
        "mkt_norm.head()\n"
      ]
    },
    {
      "cell_type": "code",
      "execution_count": null,
      "metadata": {
        "id": "5eevPrA_9HGb"
      },
      "outputs": [],
      "source": [
        "x=mkt_norm.drop(columns=[\"sales\"])\n",
        "y=mkt_norm[\"sales\"].to_frame(name=\"sales\")\n"
      ]
    },
    {
      "cell_type": "code",
      "execution_count": null,
      "metadata": {
        "id": "Zm2soxJM9HGb",
        "outputId": "311dc0d2-43e7-40a7-c35f-e73a224e001e"
      },
      "outputs": [
        {
          "data": {
            "text/plain": [
              "0.9074962891333168"
            ]
          },
          "execution_count": 30,
          "metadata": {},
          "output_type": "execute_result"
        }
      ],
      "source": [
        "#Fit do modelo\n",
        "norm=LinearRegression()\n",
        "x_test,x_train,y_test,y_train=train_test_split(x,y, test_size=0.2, random_state=42)\n",
        "norm.fit(x_train, y_train)\n",
        "norm.fit(x_test, y_test)\n",
        "normsq=norm.score(x_test, y_test)\n",
        "normsq"
      ]
    },
    {
      "cell_type": "markdown",
      "metadata": {
        "id": "qO5q5alr9HGc"
      },
      "source": []
    }
  ],
  "metadata": {
    "kernelspec": {
      "display_name": "Python 3 (ipykernel)",
      "language": "python",
      "name": "python3"
    },
    "language_info": {
      "codemirror_mode": {
        "name": "ipython",
        "version": 3
      },
      "file_extension": ".py",
      "mimetype": "text/x-python",
      "name": "python",
      "nbconvert_exporter": "python",
      "pygments_lexer": "ipython3",
      "version": "3.9.13"
    },
    "colab": {
      "provenance": [],
      "include_colab_link": true
    }
  },
  "nbformat": 4,
  "nbformat_minor": 0
}