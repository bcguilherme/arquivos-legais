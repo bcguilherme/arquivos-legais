{
  "cells": [
    {
      "cell_type": "markdown",
      "metadata": {
        "id": "view-in-github",
        "colab_type": "text"
      },
      "source": [
        "<a href=\"https://colab.research.google.com/github/bcguilherme/arquivos-legais/blob/main/multiple_regression_1.ipynb\" target=\"_parent\"><img src=\"https://colab.research.google.com/assets/colab-badge.svg\" alt=\"Open In Colab\"/></a>"
      ]
    },
    {
      "cell_type": "code",
      "execution_count": null,
      "metadata": {
        "id": "sz5IT-33KlVX"
      },
      "outputs": [],
      "source": []
    },
    {
      "cell_type": "code",
      "execution_count": null,
      "metadata": {
        "id": "08L0aRvRKlVZ"
      },
      "outputs": [],
      "source": [
        "import pandas as pd\n",
        "import numpy as np\n",
        "import matplotlib.pyplot as plt\n",
        "from sklearn.model_selection import train_test_split\n",
        "from sklearn.linear_model import LinearRegression\n",
        "from sklearn import metrics\n",
        "from sklearn.preprocessing import LabelEncoder, MinMaxScaler\n",
        "import seaborn as sns\n"
      ]
    },
    {
      "cell_type": "code",
      "execution_count": null,
      "metadata": {
        "id": "zoeOivk3KlVb",
        "outputId": "d1de397e-bbe6-4609-b22e-6b0b0a46d1e5"
      },
      "outputs": [
        {
          "data": {
            "text/html": [
              "<div>\n",
              "<style scoped>\n",
              "    .dataframe tbody tr th:only-of-type {\n",
              "        vertical-align: middle;\n",
              "    }\n",
              "\n",
              "    .dataframe tbody tr th {\n",
              "        vertical-align: top;\n",
              "    }\n",
              "\n",
              "    .dataframe thead th {\n",
              "        text-align: right;\n",
              "    }\n",
              "</style>\n",
              "<table border=\"1\" class=\"dataframe\">\n",
              "  <thead>\n",
              "    <tr style=\"text-align: right;\">\n",
              "      <th></th>\n",
              "      <th>Idade</th>\n",
              "      <th>RendimentoTotal</th>\n",
              "      <th>Salario</th>\n",
              "      <th>LimitedeCreditoImediato</th>\n",
              "      <th>Escolaridade</th>\n",
              "      <th>Regiao</th>\n",
              "      <th>genero</th>\n",
              "      <th>LimitedoChequeEspecial</th>\n",
              "    </tr>\n",
              "  </thead>\n",
              "  <tbody>\n",
              "    <tr>\n",
              "      <th>0</th>\n",
              "      <td>70</td>\n",
              "      <td>10736</td>\n",
              "      <td>5214</td>\n",
              "      <td>400</td>\n",
              "      <td>Fundamental_Medio</td>\n",
              "      <td>RJ</td>\n",
              "      <td>F</td>\n",
              "      <td>500</td>\n",
              "    </tr>\n",
              "    <tr>\n",
              "      <th>1</th>\n",
              "      <td>68</td>\n",
              "      <td>5000</td>\n",
              "      <td>5000</td>\n",
              "      <td>380</td>\n",
              "      <td>Fundamental_Medio</td>\n",
              "      <td>RJ</td>\n",
              "      <td>F</td>\n",
              "      <td>600</td>\n",
              "    </tr>\n",
              "    <tr>\n",
              "      <th>2</th>\n",
              "      <td>44</td>\n",
              "      <td>5800</td>\n",
              "      <td>5800</td>\n",
              "      <td>500</td>\n",
              "      <td>Fundamental_Medio</td>\n",
              "      <td>RJ</td>\n",
              "      <td>F</td>\n",
              "      <td>800</td>\n",
              "    </tr>\n",
              "    <tr>\n",
              "      <th>3</th>\n",
              "      <td>72</td>\n",
              "      <td>4300</td>\n",
              "      <td>4300</td>\n",
              "      <td>2000</td>\n",
              "      <td>Fundamental_Medio</td>\n",
              "      <td>RJ</td>\n",
              "      <td>F</td>\n",
              "      <td>1000</td>\n",
              "    </tr>\n",
              "    <tr>\n",
              "      <th>4</th>\n",
              "      <td>75</td>\n",
              "      <td>4400</td>\n",
              "      <td>4400</td>\n",
              "      <td>3000</td>\n",
              "      <td>Fundamental_Medio</td>\n",
              "      <td>RJ</td>\n",
              "      <td>F</td>\n",
              "      <td>1000</td>\n",
              "    </tr>\n",
              "  </tbody>\n",
              "</table>\n",
              "</div>"
            ],
            "text/plain": [
              "   Idade  RendimentoTotal  Salario  LimitedeCreditoImediato  \\\n",
              "0     70            10736     5214                      400   \n",
              "1     68             5000     5000                      380   \n",
              "2     44             5800     5800                      500   \n",
              "3     72             4300     4300                     2000   \n",
              "4     75             4400     4400                     3000   \n",
              "\n",
              "        Escolaridade Regiao genero  LimitedoChequeEspecial  \n",
              "0  Fundamental_Medio     RJ      F                     500  \n",
              "1  Fundamental_Medio     RJ      F                     600  \n",
              "2  Fundamental_Medio     RJ      F                     800  \n",
              "3  Fundamental_Medio     RJ      F                    1000  \n",
              "4  Fundamental_Medio     RJ      F                    1000  "
            ]
          },
          "execution_count": 6,
          "metadata": {},
          "output_type": "execute_result"
        }
      ],
      "source": [
        "df=pd.read_excel(\"/Users/chenyenpin/Downloads/4_22/Limite_Credito_Dummy.xlsx\")\n",
        "df.head()"
      ]
    },
    {
      "cell_type": "code",
      "execution_count": null,
      "metadata": {
        "id": "Tg2x_579KlVc",
        "outputId": "96b61826-ee05-4a96-d603-6bbe642918f0"
      },
      "outputs": [
        {
          "data": {
            "text/plain": [
              "Idade                      0\n",
              "RendimentoTotal            0\n",
              "Salario                    0\n",
              "LimitedeCreditoImediato    0\n",
              "Escolaridade               0\n",
              "Regiao                     0\n",
              "genero                     0\n",
              "LimitedoChequeEspecial     0\n",
              "dtype: int64"
            ]
          },
          "execution_count": 7,
          "metadata": {},
          "output_type": "execute_result"
        }
      ],
      "source": [
        "df.isna().sum()"
      ]
    },
    {
      "cell_type": "code",
      "execution_count": null,
      "metadata": {
        "id": "yu1jMCa8KlVc"
      },
      "outputs": [],
      "source": [
        "le=LabelEncoder()"
      ]
    },
    {
      "cell_type": "code",
      "execution_count": null,
      "metadata": {
        "id": "gxd5uOaVKlVd"
      },
      "outputs": [],
      "source": [
        "le.fit(df.Escolaridade)\n",
        "df.Escolaridade=le.transform(df.Escolaridade)\n",
        "\n",
        "le.fit(df.genero)\n",
        "df.genero=le.transform(df.genero)\n",
        "\n",
        "le.fit(df.Regiao)\n",
        "df.Regiao=le.transform(df.Regiao)"
      ]
    },
    {
      "cell_type": "code",
      "execution_count": null,
      "metadata": {
        "id": "1QWZ4uOTKlVd",
        "outputId": "91be2d6c-17a6-4250-fcde-21b4ae8b4c4e"
      },
      "outputs": [
        {
          "data": {
            "text/html": [
              "<div>\n",
              "<style scoped>\n",
              "    .dataframe tbody tr th:only-of-type {\n",
              "        vertical-align: middle;\n",
              "    }\n",
              "\n",
              "    .dataframe tbody tr th {\n",
              "        vertical-align: top;\n",
              "    }\n",
              "\n",
              "    .dataframe thead th {\n",
              "        text-align: right;\n",
              "    }\n",
              "</style>\n",
              "<table border=\"1\" class=\"dataframe\">\n",
              "  <thead>\n",
              "    <tr style=\"text-align: right;\">\n",
              "      <th></th>\n",
              "      <th>Idade</th>\n",
              "      <th>RendimentoTotal</th>\n",
              "      <th>Salario</th>\n",
              "      <th>LimitedeCreditoImediato</th>\n",
              "      <th>Escolaridade</th>\n",
              "      <th>Regiao</th>\n",
              "      <th>genero</th>\n",
              "      <th>LimitedoChequeEspecial</th>\n",
              "    </tr>\n",
              "  </thead>\n",
              "  <tbody>\n",
              "    <tr>\n",
              "      <th>0</th>\n",
              "      <td>70</td>\n",
              "      <td>10736</td>\n",
              "      <td>5214</td>\n",
              "      <td>400</td>\n",
              "      <td>0</td>\n",
              "      <td>0</td>\n",
              "      <td>0</td>\n",
              "      <td>500</td>\n",
              "    </tr>\n",
              "    <tr>\n",
              "      <th>1</th>\n",
              "      <td>68</td>\n",
              "      <td>5000</td>\n",
              "      <td>5000</td>\n",
              "      <td>380</td>\n",
              "      <td>0</td>\n",
              "      <td>0</td>\n",
              "      <td>0</td>\n",
              "      <td>600</td>\n",
              "    </tr>\n",
              "    <tr>\n",
              "      <th>2</th>\n",
              "      <td>44</td>\n",
              "      <td>5800</td>\n",
              "      <td>5800</td>\n",
              "      <td>500</td>\n",
              "      <td>0</td>\n",
              "      <td>0</td>\n",
              "      <td>0</td>\n",
              "      <td>800</td>\n",
              "    </tr>\n",
              "    <tr>\n",
              "      <th>3</th>\n",
              "      <td>72</td>\n",
              "      <td>4300</td>\n",
              "      <td>4300</td>\n",
              "      <td>2000</td>\n",
              "      <td>0</td>\n",
              "      <td>0</td>\n",
              "      <td>0</td>\n",
              "      <td>1000</td>\n",
              "    </tr>\n",
              "    <tr>\n",
              "      <th>4</th>\n",
              "      <td>75</td>\n",
              "      <td>4400</td>\n",
              "      <td>4400</td>\n",
              "      <td>3000</td>\n",
              "      <td>0</td>\n",
              "      <td>0</td>\n",
              "      <td>0</td>\n",
              "      <td>1000</td>\n",
              "    </tr>\n",
              "  </tbody>\n",
              "</table>\n",
              "</div>"
            ],
            "text/plain": [
              "   Idade  RendimentoTotal  Salario  LimitedeCreditoImediato  Escolaridade  \\\n",
              "0     70            10736     5214                      400             0   \n",
              "1     68             5000     5000                      380             0   \n",
              "2     44             5800     5800                      500             0   \n",
              "3     72             4300     4300                     2000             0   \n",
              "4     75             4400     4400                     3000             0   \n",
              "\n",
              "   Regiao  genero  LimitedoChequeEspecial  \n",
              "0       0       0                     500  \n",
              "1       0       0                     600  \n",
              "2       0       0                     800  \n",
              "3       0       0                    1000  \n",
              "4       0       0                    1000  "
            ]
          },
          "execution_count": 10,
          "metadata": {},
          "output_type": "execute_result"
        }
      ],
      "source": [
        "df.head()"
      ]
    },
    {
      "cell_type": "code",
      "execution_count": null,
      "metadata": {
        "id": "DevV-sKXKlVd",
        "outputId": "d7ed2818-5000-4cb4-b5bb-33b630ad32c6"
      },
      "outputs": [
        {
          "data": {
            "text/plain": [
              "<AxesSubplot:>"
            ]
          },
          "execution_count": 11,
          "metadata": {},
          "output_type": "execute_result"
        },
        {
          "data": {
            "image/png": "[encoded data removed]",
            "text/plain": [
              "<Figure size 640x480 with 1 Axes>"
            ]
          },
          "metadata": {},
          "output_type": "display_data"
        }
      ],
      "source": [
        "sns.boxplot(data=df[\"Idade\"], orient=\"h\")"
      ]
    },
    {
      "cell_type": "code",
      "execution_count": null,
      "metadata": {
        "id": "-VId7sVJKlVe",
        "outputId": "039a1f18-2ac8-4e46-8422-29a8582e4c0d"
      },
      "outputs": [
        {
          "data": {
            "text/plain": [
              "<AxesSubplot:xlabel='Idade', ylabel='Count'>"
            ]
          },
          "execution_count": 12,
          "metadata": {},
          "output_type": "execute_result"
        },
        {
          "data": {
            "image/png": "[encoded data removed]",
            "text/plain": [
              "<Figure size 640x480 with 1 Axes>"
            ]
          },
          "metadata": {},
          "output_type": "display_data"
        }
      ],
      "source": [
        "sns.histplot(df.Idade, kde=True)\n"
      ]
    },
    {
      "cell_type": "code",
      "execution_count": null,
      "metadata": {
        "id": "5qzmIzSWKlVe",
        "outputId": "b8fe3114-e786-4dca-f1c1-e5c6a8e9ad2b"
      },
      "outputs": [
        {
          "data": {
            "text/html": [
              "<div>\n",
              "<style scoped>\n",
              "    .dataframe tbody tr th:only-of-type {\n",
              "        vertical-align: middle;\n",
              "    }\n",
              "\n",
              "    .dataframe tbody tr th {\n",
              "        vertical-align: top;\n",
              "    }\n",
              "\n",
              "    .dataframe thead th {\n",
              "        text-align: right;\n",
              "    }\n",
              "</style>\n",
              "<table border=\"1\" class=\"dataframe\">\n",
              "  <thead>\n",
              "    <tr style=\"text-align: right;\">\n",
              "      <th></th>\n",
              "      <th>Idade</th>\n",
              "      <th>RendimentoTotal</th>\n",
              "      <th>Salario</th>\n",
              "      <th>LimitedeCreditoImediato</th>\n",
              "      <th>Escolaridade</th>\n",
              "      <th>Regiao</th>\n",
              "      <th>genero</th>\n",
              "      <th>LimitedoChequeEspecial</th>\n",
              "    </tr>\n",
              "  </thead>\n",
              "  <tbody>\n",
              "    <tr>\n",
              "      <th>count</th>\n",
              "      <td>48.000000</td>\n",
              "      <td>48.000000</td>\n",
              "      <td>48.000000</td>\n",
              "      <td>48.000000</td>\n",
              "      <td>48.000000</td>\n",
              "      <td>48.000000</td>\n",
              "      <td>48.000000</td>\n",
              "      <td>48.000000</td>\n",
              "    </tr>\n",
              "    <tr>\n",
              "      <th>mean</th>\n",
              "      <td>61.458333</td>\n",
              "      <td>12275.083333</td>\n",
              "      <td>10507.125000</td>\n",
              "      <td>2175.208333</td>\n",
              "      <td>0.375000</td>\n",
              "      <td>0.458333</td>\n",
              "      <td>0.500000</td>\n",
              "      <td>5620.729167</td>\n",
              "    </tr>\n",
              "    <tr>\n",
              "      <th>std</th>\n",
              "      <td>15.284477</td>\n",
              "      <td>12640.654241</td>\n",
              "      <td>9332.173617</td>\n",
              "      <td>938.094469</td>\n",
              "      <td>0.489246</td>\n",
              "      <td>0.503534</td>\n",
              "      <td>0.505291</td>\n",
              "      <td>6131.900367</td>\n",
              "    </tr>\n",
              "    <tr>\n",
              "      <th>min</th>\n",
              "      <td>30.000000</td>\n",
              "      <td>4300.000000</td>\n",
              "      <td>4027.000000</td>\n",
              "      <td>340.000000</td>\n",
              "      <td>0.000000</td>\n",
              "      <td>0.000000</td>\n",
              "      <td>0.000000</td>\n",
              "      <td>500.000000</td>\n",
              "    </tr>\n",
              "    <tr>\n",
              "      <th>25%</th>\n",
              "      <td>47.000000</td>\n",
              "      <td>6380.000000</td>\n",
              "      <td>5950.000000</td>\n",
              "      <td>1925.000000</td>\n",
              "      <td>0.000000</td>\n",
              "      <td>0.000000</td>\n",
              "      <td>0.000000</td>\n",
              "      <td>2262.500000</td>\n",
              "    </tr>\n",
              "    <tr>\n",
              "      <th>50%</th>\n",
              "      <td>66.500000</td>\n",
              "      <td>8400.000000</td>\n",
              "      <td>7400.000000</td>\n",
              "      <td>2000.000000</td>\n",
              "      <td>0.000000</td>\n",
              "      <td>0.000000</td>\n",
              "      <td>0.500000</td>\n",
              "      <td>3550.000000</td>\n",
              "    </tr>\n",
              "    <tr>\n",
              "      <th>75%</th>\n",
              "      <td>70.000000</td>\n",
              "      <td>12378.250000</td>\n",
              "      <td>10163.000000</td>\n",
              "      <td>3000.000000</td>\n",
              "      <td>1.000000</td>\n",
              "      <td>1.000000</td>\n",
              "      <td>1.000000</td>\n",
              "      <td>6500.000000</td>\n",
              "    </tr>\n",
              "    <tr>\n",
              "      <th>max</th>\n",
              "      <td>94.000000</td>\n",
              "      <td>81000.000000</td>\n",
              "      <td>54500.000000</td>\n",
              "      <td>3500.000000</td>\n",
              "      <td>1.000000</td>\n",
              "      <td>1.000000</td>\n",
              "      <td>1.000000</td>\n",
              "      <td>35000.000000</td>\n",
              "    </tr>\n",
              "  </tbody>\n",
              "</table>\n",
              "</div>"
            ],
            "text/plain": [
              "           Idade  RendimentoTotal       Salario  LimitedeCreditoImediato  \\\n",
              "count  48.000000        48.000000     48.000000                48.000000   \n",
              "mean   61.458333     12275.083333  10507.125000              2175.208333   \n",
              "std    15.284477     12640.654241   9332.173617               938.094469   \n",
              "min    30.000000      4300.000000   4027.000000               340.000000   \n",
              "25%    47.000000      6380.000000   5950.000000              1925.000000   \n",
              "50%    66.500000      8400.000000   7400.000000              2000.000000   \n",
              "75%    70.000000     12378.250000  10163.000000              3000.000000   \n",
              "max    94.000000     81000.000000  54500.000000              3500.000000   \n",
              "\n",
              "       Escolaridade     Regiao     genero  LimitedoChequeEspecial  \n",
              "count     48.000000  48.000000  48.000000               48.000000  \n",
              "mean       0.375000   0.458333   0.500000             5620.729167  \n",
              "std        0.489246   0.503534   0.505291             6131.900367  \n",
              "min        0.000000   0.000000   0.000000              500.000000  \n",
              "25%        0.000000   0.000000   0.000000             2262.500000  \n",
              "50%        0.000000   0.000000   0.500000             3550.000000  \n",
              "75%        1.000000   1.000000   1.000000             6500.000000  \n",
              "max        1.000000   1.000000   1.000000            35000.000000  "
            ]
          },
          "execution_count": 13,
          "metadata": {},
          "output_type": "execute_result"
        }
      ],
      "source": [
        "df.describe()"
      ]
    },
    {
      "cell_type": "code",
      "execution_count": null,
      "metadata": {
        "id": "tjFTeUVpKlVf",
        "outputId": "1ce58c83-93ad-499e-d017-851cdd4302bd"
      },
      "outputs": [
        {
          "data": {
            "text/html": [
              "<div>\n",
              "<style scoped>\n",
              "    .dataframe tbody tr th:only-of-type {\n",
              "        vertical-align: middle;\n",
              "    }\n",
              "\n",
              "    .dataframe tbody tr th {\n",
              "        vertical-align: top;\n",
              "    }\n",
              "\n",
              "    .dataframe thead th {\n",
              "        text-align: right;\n",
              "    }\n",
              "</style>\n",
              "<table border=\"1\" class=\"dataframe\">\n",
              "  <thead>\n",
              "    <tr style=\"text-align: right;\">\n",
              "      <th></th>\n",
              "      <th>Idade</th>\n",
              "      <th>RendimentoTotal</th>\n",
              "      <th>Salario</th>\n",
              "      <th>LimitedeCreditoImediato</th>\n",
              "      <th>Escolaridade</th>\n",
              "      <th>Regiao</th>\n",
              "      <th>genero</th>\n",
              "      <th>LimitedoChequeEspecial</th>\n",
              "    </tr>\n",
              "  </thead>\n",
              "  <tbody>\n",
              "    <tr>\n",
              "      <th>count</th>\n",
              "      <td>48.000000</td>\n",
              "      <td>48.000000</td>\n",
              "      <td>48.000000</td>\n",
              "      <td>48.000000</td>\n",
              "      <td>48.000000</td>\n",
              "      <td>48.000000</td>\n",
              "      <td>48.000000</td>\n",
              "      <td>48.000000</td>\n",
              "    </tr>\n",
              "    <tr>\n",
              "      <th>mean</th>\n",
              "      <td>0.491536</td>\n",
              "      <td>0.103978</td>\n",
              "      <td>0.128388</td>\n",
              "      <td>0.580762</td>\n",
              "      <td>0.375000</td>\n",
              "      <td>0.458333</td>\n",
              "      <td>0.500000</td>\n",
              "      <td>0.148427</td>\n",
              "    </tr>\n",
              "    <tr>\n",
              "      <th>std</th>\n",
              "      <td>0.238820</td>\n",
              "      <td>0.164806</td>\n",
              "      <td>0.184894</td>\n",
              "      <td>0.296865</td>\n",
              "      <td>0.489246</td>\n",
              "      <td>0.503534</td>\n",
              "      <td>0.505291</td>\n",
              "      <td>0.177736</td>\n",
              "    </tr>\n",
              "    <tr>\n",
              "      <th>min</th>\n",
              "      <td>0.000000</td>\n",
              "      <td>0.000000</td>\n",
              "      <td>0.000000</td>\n",
              "      <td>0.000000</td>\n",
              "      <td>0.000000</td>\n",
              "      <td>0.000000</td>\n",
              "      <td>0.000000</td>\n",
              "      <td>0.000000</td>\n",
              "    </tr>\n",
              "    <tr>\n",
              "      <th>25%</th>\n",
              "      <td>0.265625</td>\n",
              "      <td>0.027119</td>\n",
              "      <td>0.038100</td>\n",
              "      <td>0.501582</td>\n",
              "      <td>0.000000</td>\n",
              "      <td>0.000000</td>\n",
              "      <td>0.000000</td>\n",
              "      <td>0.051087</td>\n",
              "    </tr>\n",
              "    <tr>\n",
              "      <th>50%</th>\n",
              "      <td>0.570312</td>\n",
              "      <td>0.053455</td>\n",
              "      <td>0.066828</td>\n",
              "      <td>0.525316</td>\n",
              "      <td>0.000000</td>\n",
              "      <td>0.000000</td>\n",
              "      <td>0.500000</td>\n",
              "      <td>0.088406</td>\n",
              "    </tr>\n",
              "    <tr>\n",
              "      <th>75%</th>\n",
              "      <td>0.625000</td>\n",
              "      <td>0.105323</td>\n",
              "      <td>0.121570</td>\n",
              "      <td>0.841772</td>\n",
              "      <td>1.000000</td>\n",
              "      <td>1.000000</td>\n",
              "      <td>1.000000</td>\n",
              "      <td>0.173913</td>\n",
              "    </tr>\n",
              "    <tr>\n",
              "      <th>max</th>\n",
              "      <td>1.000000</td>\n",
              "      <td>1.000000</td>\n",
              "      <td>1.000000</td>\n",
              "      <td>1.000000</td>\n",
              "      <td>1.000000</td>\n",
              "      <td>1.000000</td>\n",
              "      <td>1.000000</td>\n",
              "      <td>1.000000</td>\n",
              "    </tr>\n",
              "  </tbody>\n",
              "</table>\n",
              "</div>"
            ],
            "text/plain": [
              "           Idade  RendimentoTotal    Salario  LimitedeCreditoImediato  \\\n",
              "count  48.000000        48.000000  48.000000                48.000000   \n",
              "mean    0.491536         0.103978   0.128388                 0.580762   \n",
              "std     0.238820         0.164806   0.184894                 0.296865   \n",
              "min     0.000000         0.000000   0.000000                 0.000000   \n",
              "25%     0.265625         0.027119   0.038100                 0.501582   \n",
              "50%     0.570312         0.053455   0.066828                 0.525316   \n",
              "75%     0.625000         0.105323   0.121570                 0.841772   \n",
              "max     1.000000         1.000000   1.000000                 1.000000   \n",
              "\n",
              "       Escolaridade     Regiao     genero  LimitedoChequeEspecial  \n",
              "count     48.000000  48.000000  48.000000               48.000000  \n",
              "mean       0.375000   0.458333   0.500000                0.148427  \n",
              "std        0.489246   0.503534   0.505291                0.177736  \n",
              "min        0.000000   0.000000   0.000000                0.000000  \n",
              "25%        0.000000   0.000000   0.000000                0.051087  \n",
              "50%        0.000000   0.000000   0.500000                0.088406  \n",
              "75%        1.000000   1.000000   1.000000                0.173913  \n",
              "max        1.000000   1.000000   1.000000                1.000000  "
            ]
          },
          "execution_count": 14,
          "metadata": {},
          "output_type": "execute_result"
        }
      ],
      "source": [
        "scaler=MinMaxScaler()\n",
        "df_norm=pd.DataFrame(scaler.fit_transform(df),index=df.index, columns=df.columns)\n",
        "\n",
        "df_norm.describe()"
      ]
    },
    {
      "cell_type": "code",
      "execution_count": null,
      "metadata": {
        "id": "aavBABmdKlVf",
        "outputId": "ac1501dd-15ef-41e5-8673-88602e95930c"
      },
      "outputs": [
        {
          "name": "stdout",
          "output_type": "stream",
          "text": [
            "                              OLS Regression Results                              \n",
            "==================================================================================\n",
            "Dep. Variable:     LimitedoChequeEspecial   R-squared:                       0.886\n",
            "Model:                                OLS   Adj. R-squared:                  0.865\n",
            "Method:                     Least Squares   F-statistic:                     44.20\n",
            "Date:                    Fri, 09 Jun 2023   Prob (F-statistic):           7.44e-17\n",
            "Time:                            22:37:09   Log-Likelihood:                 67.328\n",
            "No. Observations:                      48   AIC:                            -118.7\n",
            "Df Residuals:                          40   BIC:                            -103.7\n",
            "Df Model:                               7                                         \n",
            "Covariance Type:                nonrobust                                         \n",
            "===========================================================================================\n",
            "                              coef    std err          t      P>|t|      [0.025      0.975]\n",
            "-------------------------------------------------------------------------------------------\n",
            "Intercept                  -0.0321      0.028     -1.129      0.266      -0.089       0.025\n",
            "Idade                      -0.0093      0.042     -0.220      0.827      -0.094       0.076\n",
            "RendimentoTotal             0.3010      0.225      1.336      0.189      -0.154       0.756\n",
            "Salario                     0.4095      0.207      1.977      0.055      -0.009       0.828\n",
            "LimitedeCreditoImediato     0.0223      0.038      0.589      0.559      -0.054       0.099\n",
            "Escolaridade                0.0245      0.028      0.867      0.391      -0.033       0.082\n",
            "Regiao                      0.0676      0.023      2.974      0.005       0.022       0.114\n",
            "genero                      0.0960      0.030      3.153      0.003       0.034       0.158\n",
            "==============================================================================\n",
            "Omnibus:                       15.742   Durbin-Watson:                   1.724\n",
            "Prob(Omnibus):                  0.000   Jarque-Bera (JB):               41.550\n",
            "Skew:                          -0.679   Prob(JB):                     9.50e-10\n",
            "Kurtosis:                       7.351   Cond. No.                         49.7\n",
            "==============================================================================\n",
            "\n",
            "Notes:\n",
            "[1] Standard Errors assume that the covariance matrix of the errors is correctly specified.\n"
          ]
        }
      ],
      "source": [
        "import statsmodels.formula.api as smf\n",
        "\n",
        "function=\"LimitedoChequeEspecial~Idade+RendimentoTotal+Salario+LimitedeCreditoImediato+Escolaridade+Regiao+genero\"\n",
        "model=smf.ols(formula=function, data=df_norm).fit()\n",
        "print(model.summary())"
      ]
    },
    {
      "cell_type": "code",
      "execution_count": null,
      "metadata": {
        "id": "ALWDtGvgKlVg",
        "outputId": "52f9c41d-00e9-42e6-bd23-2018cc43bc99"
      },
      "outputs": [
        {
          "name": "stdout",
          "output_type": "stream",
          "text": [
            "                              OLS Regression Results                              \n",
            "==================================================================================\n",
            "Dep. Variable:     LimitedoChequeEspecial   R-squared:                       0.885\n",
            "Model:                                OLS   Adj. R-squared:                  0.869\n",
            "Method:                     Least Squares   F-statistic:                     52.78\n",
            "Date:                    Fri, 09 Jun 2023   Prob (F-statistic):           9.97e-18\n",
            "Time:                            22:37:10   Log-Likelihood:                 67.299\n",
            "No. Observations:                      48   AIC:                            -120.6\n",
            "Df Residuals:                          41   BIC:                            -107.5\n",
            "Df Model:                               6                                         \n",
            "Covariance Type:                nonrobust                                         \n",
            "===========================================================================================\n",
            "                              coef    std err          t      P>|t|      [0.025      0.975]\n",
            "-------------------------------------------------------------------------------------------\n",
            "Intercept                  -0.0357      0.023     -1.564      0.126      -0.082       0.010\n",
            "RendimentoTotal             0.2924      0.219      1.334      0.190      -0.150       0.735\n",
            "Salario                     0.4155      0.203      2.048      0.047       0.006       0.825\n",
            "LimitedeCreditoImediato     0.0221      0.037      0.589      0.559      -0.054       0.098\n",
            "Escolaridade                0.0244      0.028      0.872      0.388      -0.032       0.081\n",
            "Regiao                      0.0667      0.022      3.019      0.004       0.022       0.111\n",
            "genero                      0.0957      0.030      3.183      0.003       0.035       0.156\n",
            "==============================================================================\n",
            "Omnibus:                       15.771   Durbin-Watson:                   1.746\n",
            "Prob(Omnibus):                  0.000   Jarque-Bera (JB):               41.413\n",
            "Skew:                          -0.684   Prob(JB):                     1.02e-09\n",
            "Kurtosis:                       7.340   Cond. No.                         46.5\n",
            "==============================================================================\n",
            "\n",
            "Notes:\n",
            "[1] Standard Errors assume that the covariance matrix of the errors is correctly specified.\n"
          ]
        }
      ],
      "source": [
        "function=\"LimitedoChequeEspecial~RendimentoTotal+Salario+LimitedeCreditoImediato+Escolaridade+Regiao+genero\"\n",
        "model=smf.ols(formula=function, data=df_norm).fit()\n",
        "print(model.summary())"
      ]
    },
    {
      "cell_type": "code",
      "execution_count": null,
      "metadata": {
        "id": "XiIiu5l5KlVh",
        "outputId": "d6482346-cadf-4e83-a292-0e7a198e598e"
      },
      "outputs": [
        {
          "name": "stdout",
          "output_type": "stream",
          "text": [
            "                                   OLS Regression Results                                  \n",
            "===========================================================================================\n",
            "Dep. Variable:     LimitedoChequeEspecial   R-squared (uncentered):                   0.925\n",
            "Model:                                OLS   Adj. R-squared (uncentered):              0.920\n",
            "Method:                     Least Squares   F-statistic:                              185.0\n",
            "Date:                    Fri, 09 Jun 2023   Prob (F-statistic):                    2.56e-25\n",
            "Time:                            22:37:10   Log-Likelihood:                          64.573\n",
            "No. Observations:                      48   AIC:                                     -123.1\n",
            "Df Residuals:                          45   BIC:                                     -117.5\n",
            "Df Model:                               3                                                  \n",
            "Covariance Type:                nonrobust                                                  \n",
            "==============================================================================\n",
            "                 coef    std err          t      P>|t|      [0.025      0.975]\n",
            "------------------------------------------------------------------------------\n",
            "Salario        0.6801      0.061     11.241      0.000       0.558       0.802\n",
            "Regiao         0.0497      0.016      3.019      0.004       0.017       0.083\n",
            "genero         0.0938      0.018      5.339      0.000       0.058       0.129\n",
            "==============================================================================\n",
            "Omnibus:                       10.368   Durbin-Watson:                   1.545\n",
            "Prob(Omnibus):                  0.006   Jarque-Bera (JB):               28.212\n",
            "Skew:                          -0.066   Prob(JB):                     7.48e-07\n",
            "Kurtosis:                       6.753   Cond. No.                         5.47\n",
            "==============================================================================\n",
            "\n",
            "Notes:\n",
            "[1] R² is computed without centering (uncentered) since the model does not contain a constant.\n",
            "[2] Standard Errors assume that the covariance matrix of the errors is correctly specified.\n"
          ]
        }
      ],
      "source": [
        "function=\"LimitedoChequeEspecial~Salario+Regiao+genero -1\"\n",
        "model=smf.ols(formula=function, data=df_norm).fit()\n",
        "print(model.summary())"
      ]
    },
    {
      "cell_type": "code",
      "execution_count": null,
      "metadata": {
        "id": "RdlG3rmzKlVh"
      },
      "outputs": [],
      "source": [
        "x=df_norm[[\"Salario\", \"genero\", \"Regiao\"]]\n",
        "y=df_norm[[\"LimitedoChequeEspecial\"]]"
      ]
    },
    {
      "cell_type": "code",
      "execution_count": null,
      "metadata": {
        "id": "NxCqDz5RKlVh"
      },
      "outputs": [],
      "source": [
        "x_train, x_test, y_train, y_test= train_test_split(x,y, test_size=0.2, random_state=42)"
      ]
    },
    {
      "cell_type": "code",
      "execution_count": null,
      "metadata": {
        "id": "nJOa5pwsKlVi"
      },
      "outputs": [],
      "source": [
        "lr=LinearRegression()"
      ]
    },
    {
      "cell_type": "code",
      "execution_count": null,
      "metadata": {
        "id": "CpB0pOMDKlVi",
        "outputId": "7ab84a36-a27d-485d-be3b-e5f3a15e5875"
      },
      "outputs": [
        {
          "data": {
            "text/plain": [
              "LinearRegression()"
            ]
          },
          "execution_count": 21,
          "metadata": {},
          "output_type": "execute_result"
        }
      ],
      "source": [
        "lr.fit(x_train,y_train)"
      ]
    },
    {
      "cell_type": "code",
      "execution_count": null,
      "metadata": {
        "id": "wiVHo_aQKlVi",
        "outputId": "3600cb6d-dab4-4b72-bc6f-d41fc668b2d8"
      },
      "outputs": [
        {
          "data": {
            "text/plain": [
              "0.8743700322188699"
            ]
          },
          "execution_count": 22,
          "metadata": {},
          "output_type": "execute_result"
        }
      ],
      "source": [
        "r2=lr.score(x,y)\n",
        "r2"
      ]
    },
    {
      "cell_type": "code",
      "execution_count": null,
      "metadata": {
        "id": "g8tPEnOrKlVj",
        "outputId": "e70415d9-e971-45d8-cf0f-b705d424bbe5"
      },
      "outputs": [
        {
          "name": "stdout",
          "output_type": "stream",
          "text": [
            "MAE: 0.03369009365701896\n",
            "MSE: 0.002252899550747987\n",
            "RMSE: 0.04746471901052388\n"
          ]
        }
      ],
      "source": [
        "y_pred_train=lr.predict(x_train)\n",
        "print('MAE:', metrics.mean_absolute_error(y_train, y_pred_train))\n",
        "print('MSE:', metrics.mean_squared_error(y_train, y_pred_train))\n",
        "print('RMSE:', np.sqrt(metrics.mean_squared_error(y_train, y_pred_train)))"
      ]
    },
    {
      "cell_type": "code",
      "execution_count": null,
      "metadata": {
        "id": "RlZvfLORKlVj",
        "outputId": "464d0811-e3b8-4c45-e2bf-662c9a532739"
      },
      "outputs": [
        {
          "name": "stdout",
          "output_type": "stream",
          "text": [
            "MAE: 0.06987270468300605\n",
            "MSE: 0.01009174141999736\n",
            "RMSE: 0.10045765983735316\n"
          ]
        }
      ],
      "source": [
        "y_pred=lr.predict(x_test)\n",
        "print('MAE:', metrics.mean_absolute_error(y_test, y_pred))\n",
        "print('MSE:', metrics.mean_squared_error(y_test, y_pred))\n",
        "print('RMSE:', np.sqrt(metrics.mean_squared_error(y_test, y_pred)))"
      ]
    },
    {
      "cell_type": "code",
      "execution_count": null,
      "metadata": {
        "id": "TN8o31FbKlVj"
      },
      "outputs": [],
      "source": []
    }
  ],
  "metadata": {
    "kernelspec": {
      "display_name": "base",
      "language": "python",
      "name": "python3"
    },
    "language_info": {
      "codemirror_mode": {
        "name": "ipython",
        "version": 3
      },
      "file_extension": ".py",
      "mimetype": "text/x-python",
      "name": "python",
      "nbconvert_exporter": "python",
      "pygments_lexer": "ipython3",
      "version": "3.9.13"
    },
    "orig_nbformat": 4,
    "colab": {
      "provenance": [],
      "include_colab_link": true
    }
  },
  "nbformat": 4,
  "nbformat_minor": 0
}