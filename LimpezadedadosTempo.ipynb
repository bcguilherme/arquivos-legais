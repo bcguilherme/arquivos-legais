{
  "cells": [
    {
      "cell_type": "markdown",
      "metadata": {
        "id": "view-in-github",
        "colab_type": "text"
      },
      "source": [
        "<a href=\"https://colab.research.google.com/github/bcguilherme/arquivos-legais/blob/main/LimpezadedadosTempo.ipynb\" target=\"_parent\"><img src=\"https://colab.research.google.com/assets/colab-badge.svg\" alt=\"Open In Colab\"/></a>"
      ]
    },
    {
      "cell_type": "code",
      "execution_count": null,
      "metadata": {
        "id": "uMX1QBJHHqhk"
      },
      "outputs": [],
      "source": [
        "#importando as libs necessarias\n",
        "import pandas as pd\n",
        "import statistics as sts\n",
        "import seaborn as sns\n",
        "import matplotlib.pyplot as plt"
      ]
    },
    {
      "cell_type": "code",
      "execution_count": null,
      "metadata": {
        "colab": {
          "base_uri": "https://localhost:8080/",
          "height": 483
        },
        "id": "9KfnNrfBHqhq",
        "outputId": "b3e83b04-a964-42d7-be78-b771502e9de9"
      },
      "outputs": [
        {
          "output_type": "execute_result",
          "data": {
            "text/plain": [
              "   Aparencia  Temperatura  Umidade       Vento Jogar\n",
              "0        sol           85     85.0       FALSO   nao\n",
              "1        sol           80     90.0  VERDADEIRO   nao\n",
              "2    nublado           83     86.0       FALSO   sim\n",
              "3      chuva           70      NaN       FALSO   sim\n",
              "4      chuva           68     80.0       FALSO   sim\n",
              "5      chuva           65     70.0  VERDADEIRO   nao\n",
              "6      menos           64     65.0  VERDADEIRO   sim\n",
              "7        sol         1220     95.0       FALSO   nao\n",
              "8        sol           69     70.0       FALSO   sim\n",
              "9      chuva           75    200.0         NaN   sim\n",
              "10       sol           75     70.0  VERDADEIRO   sim\n",
              "11   nublado           72     90.0  VERDADEIRO   sim\n",
              "12   nublado           81     75.0       FALSO   sim\n",
              "13     chuva           71     91.0  VERDADEIRO   nao"
            ],
            "text/html": [
              "\n",
              "  <div id=\"df-608a6045-e849-4495-9d9d-a7e310d4d6ba\">\n",
              "    <div class=\"colab-df-container\">\n",
              "      <div>\n",
              "<style scoped>\n",
              "    .dataframe tbody tr th:only-of-type {\n",
              "        vertical-align: middle;\n",
              "    }\n",
              "\n",
              "    .dataframe tbody tr th {\n",
              "        vertical-align: top;\n",
              "    }\n",
              "\n",
              "    .dataframe thead th {\n",
              "        text-align: right;\n",
              "    }\n",
              "</style>\n",
              "<table border=\"1\" class=\"dataframe\">\n",
              "  <thead>\n",
              "    <tr style=\"text-align: right;\">\n",
              "      <th></th>\n",
              "      <th>Aparencia</th>\n",
              "      <th>Temperatura</th>\n",
              "      <th>Umidade</th>\n",
              "      <th>Vento</th>\n",
              "      <th>Jogar</th>\n",
              "    </tr>\n",
              "  </thead>\n",
              "  <tbody>\n",
              "    <tr>\n",
              "      <th>0</th>\n",
              "      <td>sol</td>\n",
              "      <td>85</td>\n",
              "      <td>85.0</td>\n",
              "      <td>FALSO</td>\n",
              "      <td>nao</td>\n",
              "    </tr>\n",
              "    <tr>\n",
              "      <th>1</th>\n",
              "      <td>sol</td>\n",
              "      <td>80</td>\n",
              "      <td>90.0</td>\n",
              "      <td>VERDADEIRO</td>\n",
              "      <td>nao</td>\n",
              "    </tr>\n",
              "    <tr>\n",
              "      <th>2</th>\n",
              "      <td>nublado</td>\n",
              "      <td>83</td>\n",
              "      <td>86.0</td>\n",
              "      <td>FALSO</td>\n",
              "      <td>sim</td>\n",
              "    </tr>\n",
              "    <tr>\n",
              "      <th>3</th>\n",
              "      <td>chuva</td>\n",
              "      <td>70</td>\n",
              "      <td>NaN</td>\n",
              "      <td>FALSO</td>\n",
              "      <td>sim</td>\n",
              "    </tr>\n",
              "    <tr>\n",
              "      <th>4</th>\n",
              "      <td>chuva</td>\n",
              "      <td>68</td>\n",
              "      <td>80.0</td>\n",
              "      <td>FALSO</td>\n",
              "      <td>sim</td>\n",
              "    </tr>\n",
              "    <tr>\n",
              "      <th>5</th>\n",
              "      <td>chuva</td>\n",
              "      <td>65</td>\n",
              "      <td>70.0</td>\n",
              "      <td>VERDADEIRO</td>\n",
              "      <td>nao</td>\n",
              "    </tr>\n",
              "    <tr>\n",
              "      <th>6</th>\n",
              "      <td>menos</td>\n",
              "      <td>64</td>\n",
              "      <td>65.0</td>\n",
              "      <td>VERDADEIRO</td>\n",
              "      <td>sim</td>\n",
              "    </tr>\n",
              "    <tr>\n",
              "      <th>7</th>\n",
              "      <td>sol</td>\n",
              "      <td>1220</td>\n",
              "      <td>95.0</td>\n",
              "      <td>FALSO</td>\n",
              "      <td>nao</td>\n",
              "    </tr>\n",
              "    <tr>\n",
              "      <th>8</th>\n",
              "      <td>sol</td>\n",
              "      <td>69</td>\n",
              "      <td>70.0</td>\n",
              "      <td>FALSO</td>\n",
              "      <td>sim</td>\n",
              "    </tr>\n",
              "    <tr>\n",
              "      <th>9</th>\n",
              "      <td>chuva</td>\n",
              "      <td>75</td>\n",
              "      <td>200.0</td>\n",
              "      <td>NaN</td>\n",
              "      <td>sim</td>\n",
              "    </tr>\n",
              "    <tr>\n",
              "      <th>10</th>\n",
              "      <td>sol</td>\n",
              "      <td>75</td>\n",
              "      <td>70.0</td>\n",
              "      <td>VERDADEIRO</td>\n",
              "      <td>sim</td>\n",
              "    </tr>\n",
              "    <tr>\n",
              "      <th>11</th>\n",
              "      <td>nublado</td>\n",
              "      <td>72</td>\n",
              "      <td>90.0</td>\n",
              "      <td>VERDADEIRO</td>\n",
              "      <td>sim</td>\n",
              "    </tr>\n",
              "    <tr>\n",
              "      <th>12</th>\n",
              "      <td>nublado</td>\n",
              "      <td>81</td>\n",
              "      <td>75.0</td>\n",
              "      <td>FALSO</td>\n",
              "      <td>sim</td>\n",
              "    </tr>\n",
              "    <tr>\n",
              "      <th>13</th>\n",
              "      <td>chuva</td>\n",
              "      <td>71</td>\n",
              "      <td>91.0</td>\n",
              "      <td>VERDADEIRO</td>\n",
              "      <td>nao</td>\n",
              "    </tr>\n",
              "  </tbody>\n",
              "</table>\n",
              "</div>\n",
              "      <button class=\"colab-df-convert\" onclick=\"convertToInteractive('df-608a6045-e849-4495-9d9d-a7e310d4d6ba')\"\n",
              "              title=\"Convert this dataframe to an interactive table.\"\n",
              "              style=\"display:none;\">\n",
              "        \n",
              "  <svg xmlns=\"http://www.w3.org/2000/svg\" height=\"24px\"viewBox=\"0 0 24 24\"\n",
              "       width=\"24px\">\n",
              "    <path d=\"M0 0h24v24H0V0z\" fill=\"none\"/>\n",
              "    <path d=\"M18.56 5.44l.94 2.06.94-2.06 2.06-.94-2.06-.94-.94-2.06-.94 2.06-2.06.94zm-11 1L8.5 8.5l.94-2.06 2.06-.94-2.06-.94L8.5 2.5l-.94 2.06-2.06.94zm10 10l.94 2.06.94-2.06 2.06-.94-2.06-.94-.94-2.06-.94 2.06-2.06.94z\"/><path d=\"M17.41 7.96l-1.37-1.37c-.4-.4-.92-.59-1.43-.59-.52 0-1.04.2-1.43.59L10.3 9.45l-7.72 7.72c-.78.78-.78 2.05 0 2.83L4 21.41c.39.39.9.59 1.41.59.51 0 1.02-.2 1.41-.59l7.78-7.78 2.81-2.81c.8-.78.8-2.07 0-2.86zM5.41 20L4 18.59l7.72-7.72 1.47 1.35L5.41 20z\"/>\n",
              "  </svg>\n",
              "      </button>\n",
              "      \n",
              "  <style>\n",
              "    .colab-df-container {\n",
              "      display:flex;\n",
              "      flex-wrap:wrap;\n",
              "      gap: 12px;\n",
              "    }\n",
              "\n",
              "    .colab-df-convert {\n",
              "      background-color: #E8F0FE;\n",
              "      border: none;\n",
              "      border-radius: 50%;\n",
              "      cursor: pointer;\n",
              "      display: none;\n",
              "      fill: #1967D2;\n",
              "      height: 32px;\n",
              "      padding: 0 0 0 0;\n",
              "      width: 32px;\n",
              "    }\n",
              "\n",
              "    .colab-df-convert:hover {\n",
              "      background-color: #E2EBFA;\n",
              "      box-shadow: 0px 1px 2px rgba(60, 64, 67, 0.3), 0px 1px 3px 1px rgba(60, 64, 67, 0.15);\n",
              "      fill: #174EA6;\n",
              "    }\n",
              "\n",
              "    [theme=dark] .colab-df-convert {\n",
              "      background-color: #3B4455;\n",
              "      fill: #D2E3FC;\n",
              "    }\n",
              "\n",
              "    [theme=dark] .colab-df-convert:hover {\n",
              "      background-color: #434B5C;\n",
              "      box-shadow: 0px 1px 3px 1px rgba(0, 0, 0, 0.15);\n",
              "      filter: drop-shadow(0px 1px 2px rgba(0, 0, 0, 0.3));\n",
              "      fill: #FFFFFF;\n",
              "    }\n",
              "  </style>\n",
              "\n",
              "      <script>\n",
              "        const buttonEl =\n",
              "          document.querySelector('#df-608a6045-e849-4495-9d9d-a7e310d4d6ba button.colab-df-convert');\n",
              "        buttonEl.style.display =\n",
              "          google.colab.kernel.accessAllowed ? 'block' : 'none';\n",
              "\n",
              "        async function convertToInteractive(key) {\n",
              "          const element = document.querySelector('#df-608a6045-e849-4495-9d9d-a7e310d4d6ba');\n",
              "          const dataTable =\n",
              "            await google.colab.kernel.invokeFunction('convertToInteractive',\n",
              "                                                     [key], {});\n",
              "          if (!dataTable) return;\n",
              "\n",
              "          const docLinkHtml = 'Like what you see? Visit the ' +\n",
              "            '<a target=\"_blank\" href=https://colab.research.google.com/notebooks/data_table.ipynb>data table notebook</a>'\n",
              "            + ' to learn more about interactive tables.';\n",
              "          element.innerHTML = '';\n",
              "          dataTable['output_type'] = 'display_data';\n",
              "          await google.colab.output.renderOutput(dataTable, element);\n",
              "          const docLink = document.createElement('div');\n",
              "          docLink.innerHTML = docLinkHtml;\n",
              "          element.appendChild(docLink);\n",
              "        }\n",
              "      </script>\n",
              "    </div>\n",
              "  </div>\n",
              "  "
            ]
          },
          "metadata": {},
          "execution_count": 6
        }
      ],
      "source": [
        "#importando dataset\n",
        "tempo = pd.read_csv(\"tempo.csv\", sep=\";\")\n",
        "tempo"
      ]
    },
    {
      "cell_type": "markdown",
      "metadata": {
        "id": "BbOGzlr7Hqhs"
      },
      "source": [
        "1-analisar todos os dados categoricos primeiro\n",
        "2- gerar graficos\n",
        "3-valores para substituir\n",
        "4- analisar todos os dados numericos\n",
        "5- gerar graficos\n",
        "6-valores para substituir\n"
      ]
    },
    {
      "cell_type": "code",
      "execution_count": null,
      "metadata": {
        "id": "dSoGtYJPHqhv",
        "outputId": "b5a43f49-b13d-4c0a-f48d-b665823b5ecd",
        "colab": {
          "base_uri": "https://localhost:8080/"
        }
      },
      "outputs": [
        {
          "output_type": "stream",
          "name": "stdout",
          "text": [
            "<class 'pandas.core.frame.DataFrame'>\n",
            "RangeIndex: 14 entries, 0 to 13\n",
            "Data columns (total 5 columns):\n",
            " #   Column       Non-Null Count  Dtype  \n",
            "---  ------       --------------  -----  \n",
            " 0   Aparencia    14 non-null     object \n",
            " 1   Temperatura  14 non-null     int64  \n",
            " 2   Umidade      13 non-null     float64\n",
            " 3   Vento        13 non-null     object \n",
            " 4   Jogar        14 non-null     object \n",
            "dtypes: float64(1), int64(1), object(3)\n",
            "memory usage: 688.0+ bytes\n"
          ]
        }
      ],
      "source": [
        "#entendendo o dataset\n",
        "tempo.info()"
      ]
    },
    {
      "cell_type": "code",
      "execution_count": null,
      "metadata": {
        "id": "i29SsDabHqhw",
        "outputId": "ba9c1c2c-1db5-41af-dd81-8a55253c838e",
        "colab": {
          "base_uri": "https://localhost:8080/"
        }
      },
      "outputs": [
        {
          "output_type": "execute_result",
          "data": {
            "text/plain": [
              "Aparencia      0\n",
              "Temperatura    0\n",
              "Umidade        1\n",
              "Vento          1\n",
              "Jogar          0\n",
              "dtype: int64"
            ]
          },
          "metadata": {},
          "execution_count": 8
        }
      ],
      "source": [
        "#contando os Nas\n",
        "tempo.isna().sum()"
      ]
    },
    {
      "cell_type": "code",
      "execution_count": null,
      "metadata": {
        "id": "_aX7xdUSHqhx",
        "outputId": "b2f296a2-1e20-49cb-d017-1e9e42ee8b5f",
        "colab": {
          "base_uri": "https://localhost:8080/"
        }
      },
      "outputs": [
        {
          "output_type": "execute_result",
          "data": {
            "text/plain": [
              "Aparencia\n",
              "chuva      5\n",
              "menos      1\n",
              "nublado    3\n",
              "sol        5\n",
              "dtype: int64"
            ]
          },
          "metadata": {},
          "execution_count": 9
        }
      ],
      "source": [
        "#entendendo cada coluna com group by ou contagem de NA\n",
        "aparencia_group=tempo.groupby(tempo[\"Aparencia\"]).size()\n",
        "aparencia_group"
      ]
    },
    {
      "cell_type": "code",
      "execution_count": null,
      "metadata": {
        "id": "6h5x6TkKHqhy",
        "outputId": "b610d054-659d-496d-9492-580cf0129ce1",
        "colab": {
          "base_uri": "https://localhost:8080/",
          "height": 546
        }
      },
      "outputs": [
        {
          "output_type": "execute_result",
          "data": {
            "text/plain": [
              "<seaborn.axisgrid.FacetGrid at 0x7fecec53bc10>"
            ]
          },
          "metadata": {},
          "execution_count": 10
        },
        {
          "output_type": "display_data",
          "data": {
            "text/plain": [
              "<Figure size 500x500 with 1 Axes>"
            ],
            "image/png": "[encoded data removed]"
          },
          "metadata": {}
        }
      ],
      "source": [
        "#gerando grafico de barras para ver distribuicao da mesma\n",
        "sns.displot(tempo[\"Aparencia\"]).set(title=\"Aparencia\")"
      ]
    },
    {
      "cell_type": "code",
      "execution_count": null,
      "metadata": {
        "id": "Oq3ls6xYHqhz",
        "outputId": "9a2c4309-8f8c-4ff2-f0bd-6b6f3556397e",
        "colab": {
          "base_uri": "https://localhost:8080/",
          "height": 80
        }
      },
      "outputs": [
        {
          "output_type": "execute_result",
          "data": {
            "text/plain": [
              "  Aparencia  Temperatura  Umidade  Vento Jogar\n",
              "7       sol         1220     95.0  FALSO   nao"
            ],
            "text/html": [
              "\n",
              "  <div id=\"df-7c7ebb73-9a97-4f1d-b04b-a011d8ac3814\">\n",
              "    <div class=\"colab-df-container\">\n",
              "      <div>\n",
              "<style scoped>\n",
              "    .dataframe tbody tr th:only-of-type {\n",
              "        vertical-align: middle;\n",
              "    }\n",
              "\n",
              "    .dataframe tbody tr th {\n",
              "        vertical-align: top;\n",
              "    }\n",
              "\n",
              "    .dataframe thead th {\n",
              "        text-align: right;\n",
              "    }\n",
              "</style>\n",
              "<table border=\"1\" class=\"dataframe\">\n",
              "  <thead>\n",
              "    <tr style=\"text-align: right;\">\n",
              "      <th></th>\n",
              "      <th>Aparencia</th>\n",
              "      <th>Temperatura</th>\n",
              "      <th>Umidade</th>\n",
              "      <th>Vento</th>\n",
              "      <th>Jogar</th>\n",
              "    </tr>\n",
              "  </thead>\n",
              "  <tbody>\n",
              "    <tr>\n",
              "      <th>7</th>\n",
              "      <td>sol</td>\n",
              "      <td>1220</td>\n",
              "      <td>95.0</td>\n",
              "      <td>FALSO</td>\n",
              "      <td>nao</td>\n",
              "    </tr>\n",
              "  </tbody>\n",
              "</table>\n",
              "</div>\n",
              "      <button class=\"colab-df-convert\" onclick=\"convertToInteractive('df-7c7ebb73-9a97-4f1d-b04b-a011d8ac3814')\"\n",
              "              title=\"Convert this dataframe to an interactive table.\"\n",
              "              style=\"display:none;\">\n",
              "        \n",
              "  <svg xmlns=\"http://www.w3.org/2000/svg\" height=\"24px\"viewBox=\"0 0 24 24\"\n",
              "       width=\"24px\">\n",
              "    <path d=\"M0 0h24v24H0V0z\" fill=\"none\"/>\n",
              "    <path d=\"M18.56 5.44l.94 2.06.94-2.06 2.06-.94-2.06-.94-.94-2.06-.94 2.06-2.06.94zm-11 1L8.5 8.5l.94-2.06 2.06-.94-2.06-.94L8.5 2.5l-.94 2.06-2.06.94zm10 10l.94 2.06.94-2.06 2.06-.94-2.06-.94-.94-2.06-.94 2.06-2.06.94z\"/><path d=\"M17.41 7.96l-1.37-1.37c-.4-.4-.92-.59-1.43-.59-.52 0-1.04.2-1.43.59L10.3 9.45l-7.72 7.72c-.78.78-.78 2.05 0 2.83L4 21.41c.39.39.9.59 1.41.59.51 0 1.02-.2 1.41-.59l7.78-7.78 2.81-2.81c.8-.78.8-2.07 0-2.86zM5.41 20L4 18.59l7.72-7.72 1.47 1.35L5.41 20z\"/>\n",
              "  </svg>\n",
              "      </button>\n",
              "      \n",
              "  <style>\n",
              "    .colab-df-container {\n",
              "      display:flex;\n",
              "      flex-wrap:wrap;\n",
              "      gap: 12px;\n",
              "    }\n",
              "\n",
              "    .colab-df-convert {\n",
              "      background-color: #E8F0FE;\n",
              "      border: none;\n",
              "      border-radius: 50%;\n",
              "      cursor: pointer;\n",
              "      display: none;\n",
              "      fill: #1967D2;\n",
              "      height: 32px;\n",
              "      padding: 0 0 0 0;\n",
              "      width: 32px;\n",
              "    }\n",
              "\n",
              "    .colab-df-convert:hover {\n",
              "      background-color: #E2EBFA;\n",
              "      box-shadow: 0px 1px 2px rgba(60, 64, 67, 0.3), 0px 1px 3px 1px rgba(60, 64, 67, 0.15);\n",
              "      fill: #174EA6;\n",
              "    }\n",
              "\n",
              "    [theme=dark] .colab-df-convert {\n",
              "      background-color: #3B4455;\n",
              "      fill: #D2E3FC;\n",
              "    }\n",
              "\n",
              "    [theme=dark] .colab-df-convert:hover {\n",
              "      background-color: #434B5C;\n",
              "      box-shadow: 0px 1px 3px 1px rgba(0, 0, 0, 0.15);\n",
              "      filter: drop-shadow(0px 1px 2px rgba(0, 0, 0, 0.3));\n",
              "      fill: #FFFFFF;\n",
              "    }\n",
              "  </style>\n",
              "\n",
              "      <script>\n",
              "        const buttonEl =\n",
              "          document.querySelector('#df-7c7ebb73-9a97-4f1d-b04b-a011d8ac3814 button.colab-df-convert');\n",
              "        buttonEl.style.display =\n",
              "          google.colab.kernel.accessAllowed ? 'block' : 'none';\n",
              "\n",
              "        async function convertToInteractive(key) {\n",
              "          const element = document.querySelector('#df-7c7ebb73-9a97-4f1d-b04b-a011d8ac3814');\n",
              "          const dataTable =\n",
              "            await google.colab.kernel.invokeFunction('convertToInteractive',\n",
              "                                                     [key], {});\n",
              "          if (!dataTable) return;\n",
              "\n",
              "          const docLinkHtml = 'Like what you see? Visit the ' +\n",
              "            '<a target=\"_blank\" href=https://colab.research.google.com/notebooks/data_table.ipynb>data table notebook</a>'\n",
              "            + ' to learn more about interactive tables.';\n",
              "          element.innerHTML = '';\n",
              "          dataTable['output_type'] = 'display_data';\n",
              "          await google.colab.output.renderOutput(dataTable, element);\n",
              "          const docLink = document.createElement('div');\n",
              "          docLink.innerHTML = docLinkHtml;\n",
              "          element.appendChild(docLink);\n",
              "        }\n",
              "      </script>\n",
              "    </div>\n",
              "  </div>\n",
              "  "
            ]
          },
          "metadata": {},
          "execution_count": 11
        }
      ],
      "source": [
        "tempo.head(1)\n",
        "#entendendo a temperatura analisando se existe outliers menores que temperuta de -130 F ou +130F ou NAs\n",
        "tempo.loc[(tempo[\"Temperatura\"]<-130)| (tempo[\"Temperatura\"]>=130)]\n"
      ]
    },
    {
      "cell_type": "code",
      "execution_count": null,
      "metadata": {
        "id": "unJr4gc9Hqh0",
        "outputId": "e4b69d39-2003-46dc-b6b3-d44dc0e0230f",
        "colab": {
          "base_uri": "https://localhost:8080/"
        }
      },
      "outputs": [
        {
          "output_type": "execute_result",
          "data": {
            "text/plain": [
              "count      14.000000\n",
              "mean      155.571429\n",
              "std       306.433759\n",
              "min        64.000000\n",
              "25%        69.250000\n",
              "50%        73.500000\n",
              "75%        80.750000\n",
              "max      1220.000000\n",
              "Name: Temperatura, dtype: float64"
            ]
          },
          "metadata": {},
          "execution_count": 12
        }
      ],
      "source": [
        "#entendendo a medidas de distribuicao das temperaturas\n",
        "tempo[\"Temperatura\"].describe()"
      ]
    },
    {
      "cell_type": "code",
      "execution_count": null,
      "metadata": {
        "id": "PjDRAayjHqh1",
        "outputId": "7eb7fdb5-aeee-4407-81d0-0f4c5119172f",
        "colab": {
          "base_uri": "https://localhost:8080/"
        }
      },
      "outputs": [
        {
          "output_type": "execute_result",
          "data": {
            "text/plain": [
              "0"
            ]
          },
          "metadata": {},
          "execution_count": 13
        }
      ],
      "source": [
        "#procurando Na na Temperatura ou null\n",
        "tempo[\"Temperatura\"].isna().sum()"
      ]
    },
    {
      "cell_type": "code",
      "execution_count": null,
      "metadata": {
        "id": "WZZSwv7cHqh1",
        "outputId": "f746f6f7-4719-4c50-a327-61caddf6143d",
        "colab": {
          "base_uri": "https://localhost:8080/",
          "height": 447
        }
      },
      "outputs": [
        {
          "output_type": "execute_result",
          "data": {
            "text/plain": [
              "<Axes: >"
            ]
          },
          "metadata": {},
          "execution_count": 14
        },
        {
          "output_type": "display_data",
          "data": {
            "text/plain": [
              "<Figure size 640x480 with 1 Axes>"
            ],
            "image/png": "[encoded data removed]"
          },
          "metadata": {}
        }
      ],
      "source": [
        "sns.boxplot(tempo[\"Temperatura\"], orient=\"h\")"
      ]
    },
    {
      "cell_type": "code",
      "execution_count": null,
      "metadata": {
        "id": "PM6f15UeHqh2",
        "outputId": "acec283d-ca88-423e-93fc-f4be1ee89097",
        "colab": {
          "base_uri": "https://localhost:8080/"
        }
      },
      "outputs": [
        {
          "output_type": "execute_result",
          "data": {
            "text/plain": [
              "1"
            ]
          },
          "metadata": {},
          "execution_count": 15
        }
      ],
      "source": [
        "#entendendo as umidade\n",
        "tempo[\"Umidade\"].isna().sum()"
      ]
    },
    {
      "cell_type": "code",
      "execution_count": null,
      "metadata": {
        "id": "EelUqYLnHqh3"
      },
      "outputs": [],
      "source": []
    },
    {
      "cell_type": "code",
      "execution_count": null,
      "metadata": {
        "id": "0ceBazWFHqh4",
        "outputId": "c33de9b2-e531-4d53-db8f-3b70d12e5b53",
        "colab": {
          "base_uri": "https://localhost:8080/"
        }
      },
      "outputs": [
        {
          "output_type": "execute_result",
          "data": {
            "text/plain": [
              "count     13.000000\n",
              "mean      89.769231\n",
              "std       34.540203\n",
              "min       65.000000\n",
              "25%       70.000000\n",
              "50%       85.000000\n",
              "75%       90.000000\n",
              "max      200.000000\n",
              "Name: Umidade, dtype: float64"
            ]
          },
          "metadata": {},
          "execution_count": 16
        }
      ],
      "source": [
        "#entendendo os valores de umidade\n",
        "tempo[\"Umidade\"].describe()\n"
      ]
    },
    {
      "cell_type": "code",
      "execution_count": null,
      "metadata": {
        "id": "vISbukZWHqh5",
        "outputId": "4743636b-3332-4936-9830-072844c9a75b",
        "colab": {
          "base_uri": "https://localhost:8080/",
          "height": 447
        }
      },
      "outputs": [
        {
          "output_type": "execute_result",
          "data": {
            "text/plain": [
              "<Axes: >"
            ]
          },
          "metadata": {},
          "execution_count": 17
        },
        {
          "output_type": "display_data",
          "data": {
            "text/plain": [
              "<Figure size 640x480 with 1 Axes>"
            ],
            "image/png": "[encoded data removed]"
          },
          "metadata": {}
        }
      ],
      "source": [
        "#entendedo umidade atraves de boxplot\n",
        "sns.boxplot(tempo[\"Umidade\"], orient=\"h\")"
      ]
    },
    {
      "cell_type": "code",
      "execution_count": null,
      "metadata": {
        "id": "ksL8h_wOHqh6",
        "outputId": "0147c4be-50a4-41a5-d000-4814d8ab5f6a",
        "colab": {
          "base_uri": "https://localhost:8080/"
        }
      },
      "outputs": [
        {
          "output_type": "execute_result",
          "data": {
            "text/plain": [
              "Vento\n",
              "FALSO         7\n",
              "VERDADEIRO    6\n",
              "dtype: int64"
            ]
          },
          "metadata": {},
          "execution_count": 18
        }
      ],
      "source": [
        "tempo.head(2)\n",
        "#entendendo o vento atraves do groupby procurando algum erro de digitacao\n",
        "vento_group=tempo.groupby([\"Vento\"]).size()\n",
        "vento_group"
      ]
    },
    {
      "cell_type": "code",
      "execution_count": null,
      "metadata": {
        "id": "ebvKX9ZGHqh7",
        "outputId": "7b0cd80b-e7af-4376-b6aa-022a8a9282d7",
        "colab": {
          "base_uri": "https://localhost:8080/"
        }
      },
      "outputs": [
        {
          "output_type": "execute_result",
          "data": {
            "text/plain": [
              "1"
            ]
          },
          "metadata": {},
          "execution_count": 19
        }
      ],
      "source": [
        "#contando Na no Vento\n",
        "tempo[\"Vento\"].isna().sum()"
      ]
    },
    {
      "cell_type": "code",
      "execution_count": null,
      "metadata": {
        "id": "Gj1JDpQvHqh7",
        "outputId": "b6c539b9-5543-4822-eb5c-aa397fd84a91",
        "colab": {
          "base_uri": "https://localhost:8080/",
          "height": 466
        }
      },
      "outputs": [
        {
          "output_type": "execute_result",
          "data": {
            "text/plain": [
              "<Axes: xlabel='Vento', ylabel='Count'>"
            ]
          },
          "metadata": {},
          "execution_count": 20
        },
        {
          "output_type": "display_data",
          "data": {
            "text/plain": [
              "<Figure size 640x480 with 1 Axes>"
            ],
            "image/png": "[encoded data removed]"
          },
          "metadata": {}
        }
      ],
      "source": [
        "sns.histplot(tempo[\"Vento\"])"
      ]
    },
    {
      "cell_type": "code",
      "execution_count": null,
      "metadata": {
        "id": "zM3KVlEdHqh8",
        "outputId": "7bd4d0a8-04a6-43c3-9673-16b64be016cc",
        "colab": {
          "base_uri": "https://localhost:8080/"
        }
      },
      "outputs": [
        {
          "output_type": "execute_result",
          "data": {
            "text/plain": [
              "Jogar\n",
              "nao    5\n",
              "sim    9\n",
              "dtype: int64"
            ]
          },
          "metadata": {},
          "execution_count": 21
        }
      ],
      "source": [
        "#jogar ou nao\n",
        "jogar_group=tempo.groupby([\"Jogar\"]).size()\n",
        "jogar_group\n",
        "\n"
      ]
    },
    {
      "cell_type": "code",
      "execution_count": null,
      "metadata": {
        "id": "Uys_JoZwHqh9",
        "outputId": "ed5d1c0c-4447-4cd7-a908-6bf42e72db9c",
        "colab": {
          "base_uri": "https://localhost:8080/"
        }
      },
      "outputs": [
        {
          "output_type": "execute_result",
          "data": {
            "text/plain": [
              "0"
            ]
          },
          "metadata": {},
          "execution_count": 22
        }
      ],
      "source": [
        "#analisando se tem Na\n",
        "tempo[\"Jogar\"].isna().sum()"
      ]
    },
    {
      "cell_type": "code",
      "execution_count": null,
      "metadata": {
        "id": "e6yY94WmHqh-",
        "outputId": "a6f9c540-134a-45dd-c823-5f22a8282e7f",
        "colab": {
          "base_uri": "https://localhost:8080/",
          "height": 523
        }
      },
      "outputs": [
        {
          "output_type": "execute_result",
          "data": {
            "text/plain": [
              "<seaborn.axisgrid.FacetGrid at 0x7fece89ab790>"
            ]
          },
          "metadata": {},
          "execution_count": 23
        },
        {
          "output_type": "display_data",
          "data": {
            "text/plain": [
              "<Figure size 500x500 with 1 Axes>"
            ],
            "image/png": "[encoded data removed]"
          },
          "metadata": {}
        }
      ],
      "source": [
        "#gerando grafico de barras\n",
        "sns.displot(tempo[\"Jogar\"])"
      ]
    },
    {
      "cell_type": "code",
      "execution_count": null,
      "metadata": {
        "id": "h7xhukrFHqh-",
        "outputId": "14cca159-ec80-4e2b-92fa-3b3068760334",
        "colab": {
          "base_uri": "https://localhost:8080/",
          "height": 35
        }
      },
      "outputs": [
        {
          "output_type": "execute_result",
          "data": {
            "text/plain": [
              "'sol'"
            ],
            "application/vnd.google.colaboratory.intrinsic+json": {
              "type": "string"
            }
          },
          "metadata": {},
          "execution_count": 24
        }
      ],
      "source": [
        "#para subistituir a palavra errada, vamo usar a moda de statistics para encontrar a palavra com\n",
        "# maior ocorrencia e substitui-lo\n",
        "moda_aparencia=sts.mode(tempo[\"Aparencia\"])\n",
        "moda_aparencia"
      ]
    },
    {
      "cell_type": "code",
      "execution_count": null,
      "metadata": {
        "id": "qUz5F-OEHqh_",
        "outputId": "cb745f74-7b82-44d7-a010-4273a1e951a7",
        "colab": {
          "base_uri": "https://localhost:8080/",
          "height": 483
        }
      },
      "outputs": [
        {
          "output_type": "execute_result",
          "data": {
            "text/plain": [
              "   Aparencia  Temperatura  Umidade       Vento Jogar\n",
              "0        sol           85     85.0       FALSO   nao\n",
              "1        sol           80     90.0  VERDADEIRO   nao\n",
              "2    nublado           83     86.0       FALSO   sim\n",
              "3      chuva           70      NaN       FALSO   sim\n",
              "4      chuva           68     80.0       FALSO   sim\n",
              "5      chuva           65     70.0  VERDADEIRO   nao\n",
              "6        sol           64     65.0  VERDADEIRO   sim\n",
              "7        sol         1220     95.0       FALSO   nao\n",
              "8        sol           69     70.0       FALSO   sim\n",
              "9      chuva           75    200.0         NaN   sim\n",
              "10       sol           75     70.0  VERDADEIRO   sim\n",
              "11   nublado           72     90.0  VERDADEIRO   sim\n",
              "12   nublado           81     75.0       FALSO   sim\n",
              "13     chuva           71     91.0  VERDADEIRO   nao"
            ],
            "text/html": [
              "\n",
              "  <div id=\"df-e83f6c58-0306-4219-97cb-21a763dee621\">\n",
              "    <div class=\"colab-df-container\">\n",
              "      <div>\n",
              "<style scoped>\n",
              "    .dataframe tbody tr th:only-of-type {\n",
              "        vertical-align: middle;\n",
              "    }\n",
              "\n",
              "    .dataframe tbody tr th {\n",
              "        vertical-align: top;\n",
              "    }\n",
              "\n",
              "    .dataframe thead th {\n",
              "        text-align: right;\n",
              "    }\n",
              "</style>\n",
              "<table border=\"1\" class=\"dataframe\">\n",
              "  <thead>\n",
              "    <tr style=\"text-align: right;\">\n",
              "      <th></th>\n",
              "      <th>Aparencia</th>\n",
              "      <th>Temperatura</th>\n",
              "      <th>Umidade</th>\n",
              "      <th>Vento</th>\n",
              "      <th>Jogar</th>\n",
              "    </tr>\n",
              "  </thead>\n",
              "  <tbody>\n",
              "    <tr>\n",
              "      <th>0</th>\n",
              "      <td>sol</td>\n",
              "      <td>85</td>\n",
              "      <td>85.0</td>\n",
              "      <td>FALSO</td>\n",
              "      <td>nao</td>\n",
              "    </tr>\n",
              "    <tr>\n",
              "      <th>1</th>\n",
              "      <td>sol</td>\n",
              "      <td>80</td>\n",
              "      <td>90.0</td>\n",
              "      <td>VERDADEIRO</td>\n",
              "      <td>nao</td>\n",
              "    </tr>\n",
              "    <tr>\n",
              "      <th>2</th>\n",
              "      <td>nublado</td>\n",
              "      <td>83</td>\n",
              "      <td>86.0</td>\n",
              "      <td>FALSO</td>\n",
              "      <td>sim</td>\n",
              "    </tr>\n",
              "    <tr>\n",
              "      <th>3</th>\n",
              "      <td>chuva</td>\n",
              "      <td>70</td>\n",
              "      <td>NaN</td>\n",
              "      <td>FALSO</td>\n",
              "      <td>sim</td>\n",
              "    </tr>\n",
              "    <tr>\n",
              "      <th>4</th>\n",
              "      <td>chuva</td>\n",
              "      <td>68</td>\n",
              "      <td>80.0</td>\n",
              "      <td>FALSO</td>\n",
              "      <td>sim</td>\n",
              "    </tr>\n",
              "    <tr>\n",
              "      <th>5</th>\n",
              "      <td>chuva</td>\n",
              "      <td>65</td>\n",
              "      <td>70.0</td>\n",
              "      <td>VERDADEIRO</td>\n",
              "      <td>nao</td>\n",
              "    </tr>\n",
              "    <tr>\n",
              "      <th>6</th>\n",
              "      <td>sol</td>\n",
              "      <td>64</td>\n",
              "      <td>65.0</td>\n",
              "      <td>VERDADEIRO</td>\n",
              "      <td>sim</td>\n",
              "    </tr>\n",
              "    <tr>\n",
              "      <th>7</th>\n",
              "      <td>sol</td>\n",
              "      <td>1220</td>\n",
              "      <td>95.0</td>\n",
              "      <td>FALSO</td>\n",
              "      <td>nao</td>\n",
              "    </tr>\n",
              "    <tr>\n",
              "      <th>8</th>\n",
              "      <td>sol</td>\n",
              "      <td>69</td>\n",
              "      <td>70.0</td>\n",
              "      <td>FALSO</td>\n",
              "      <td>sim</td>\n",
              "    </tr>\n",
              "    <tr>\n",
              "      <th>9</th>\n",
              "      <td>chuva</td>\n",
              "      <td>75</td>\n",
              "      <td>200.0</td>\n",
              "      <td>NaN</td>\n",
              "      <td>sim</td>\n",
              "    </tr>\n",
              "    <tr>\n",
              "      <th>10</th>\n",
              "      <td>sol</td>\n",
              "      <td>75</td>\n",
              "      <td>70.0</td>\n",
              "      <td>VERDADEIRO</td>\n",
              "      <td>sim</td>\n",
              "    </tr>\n",
              "    <tr>\n",
              "      <th>11</th>\n",
              "      <td>nublado</td>\n",
              "      <td>72</td>\n",
              "      <td>90.0</td>\n",
              "      <td>VERDADEIRO</td>\n",
              "      <td>sim</td>\n",
              "    </tr>\n",
              "    <tr>\n",
              "      <th>12</th>\n",
              "      <td>nublado</td>\n",
              "      <td>81</td>\n",
              "      <td>75.0</td>\n",
              "      <td>FALSO</td>\n",
              "      <td>sim</td>\n",
              "    </tr>\n",
              "    <tr>\n",
              "      <th>13</th>\n",
              "      <td>chuva</td>\n",
              "      <td>71</td>\n",
              "      <td>91.0</td>\n",
              "      <td>VERDADEIRO</td>\n",
              "      <td>nao</td>\n",
              "    </tr>\n",
              "  </tbody>\n",
              "</table>\n",
              "</div>\n",
              "      <button class=\"colab-df-convert\" onclick=\"convertToInteractive('df-e83f6c58-0306-4219-97cb-21a763dee621')\"\n",
              "              title=\"Convert this dataframe to an interactive table.\"\n",
              "              style=\"display:none;\">\n",
              "        \n",
              "  <svg xmlns=\"http://www.w3.org/2000/svg\" height=\"24px\"viewBox=\"0 0 24 24\"\n",
              "       width=\"24px\">\n",
              "    <path d=\"M0 0h24v24H0V0z\" fill=\"none\"/>\n",
              "    <path d=\"M18.56 5.44l.94 2.06.94-2.06 2.06-.94-2.06-.94-.94-2.06-.94 2.06-2.06.94zm-11 1L8.5 8.5l.94-2.06 2.06-.94-2.06-.94L8.5 2.5l-.94 2.06-2.06.94zm10 10l.94 2.06.94-2.06 2.06-.94-2.06-.94-.94-2.06-.94 2.06-2.06.94z\"/><path d=\"M17.41 7.96l-1.37-1.37c-.4-.4-.92-.59-1.43-.59-.52 0-1.04.2-1.43.59L10.3 9.45l-7.72 7.72c-.78.78-.78 2.05 0 2.83L4 21.41c.39.39.9.59 1.41.59.51 0 1.02-.2 1.41-.59l7.78-7.78 2.81-2.81c.8-.78.8-2.07 0-2.86zM5.41 20L4 18.59l7.72-7.72 1.47 1.35L5.41 20z\"/>\n",
              "  </svg>\n",
              "      </button>\n",
              "      \n",
              "  <style>\n",
              "    .colab-df-container {\n",
              "      display:flex;\n",
              "      flex-wrap:wrap;\n",
              "      gap: 12px;\n",
              "    }\n",
              "\n",
              "    .colab-df-convert {\n",
              "      background-color: #E8F0FE;\n",
              "      border: none;\n",
              "      border-radius: 50%;\n",
              "      cursor: pointer;\n",
              "      display: none;\n",
              "      fill: #1967D2;\n",
              "      height: 32px;\n",
              "      padding: 0 0 0 0;\n",
              "      width: 32px;\n",
              "    }\n",
              "\n",
              "    .colab-df-convert:hover {\n",
              "      background-color: #E2EBFA;\n",
              "      box-shadow: 0px 1px 2px rgba(60, 64, 67, 0.3), 0px 1px 3px 1px rgba(60, 64, 67, 0.15);\n",
              "      fill: #174EA6;\n",
              "    }\n",
              "\n",
              "    [theme=dark] .colab-df-convert {\n",
              "      background-color: #3B4455;\n",
              "      fill: #D2E3FC;\n",
              "    }\n",
              "\n",
              "    [theme=dark] .colab-df-convert:hover {\n",
              "      background-color: #434B5C;\n",
              "      box-shadow: 0px 1px 3px 1px rgba(0, 0, 0, 0.15);\n",
              "      filter: drop-shadow(0px 1px 2px rgba(0, 0, 0, 0.3));\n",
              "      fill: #FFFFFF;\n",
              "    }\n",
              "  </style>\n",
              "\n",
              "      <script>\n",
              "        const buttonEl =\n",
              "          document.querySelector('#df-e83f6c58-0306-4219-97cb-21a763dee621 button.colab-df-convert');\n",
              "        buttonEl.style.display =\n",
              "          google.colab.kernel.accessAllowed ? 'block' : 'none';\n",
              "\n",
              "        async function convertToInteractive(key) {\n",
              "          const element = document.querySelector('#df-e83f6c58-0306-4219-97cb-21a763dee621');\n",
              "          const dataTable =\n",
              "            await google.colab.kernel.invokeFunction('convertToInteractive',\n",
              "                                                     [key], {});\n",
              "          if (!dataTable) return;\n",
              "\n",
              "          const docLinkHtml = 'Like what you see? Visit the ' +\n",
              "            '<a target=\"_blank\" href=https://colab.research.google.com/notebooks/data_table.ipynb>data table notebook</a>'\n",
              "            + ' to learn more about interactive tables.';\n",
              "          element.innerHTML = '';\n",
              "          dataTable['output_type'] = 'display_data';\n",
              "          await google.colab.output.renderOutput(dataTable, element);\n",
              "          const docLink = document.createElement('div');\n",
              "          docLink.innerHTML = docLinkHtml;\n",
              "          element.appendChild(docLink);\n",
              "        }\n",
              "      </script>\n",
              "    </div>\n",
              "  </div>\n",
              "  "
            ]
          },
          "metadata": {},
          "execution_count": 25
        }
      ],
      "source": [
        "#usandoo o filtro loc[] para substituir a palavra menos\n",
        "tempo.loc[tempo[\"Aparencia\"].isin([\"menos\"]),\"Aparencia\"]=moda_aparencia\n",
        "tempo"
      ]
    },
    {
      "cell_type": "code",
      "execution_count": null,
      "metadata": {
        "id": "DJiXfTEjHqiA",
        "outputId": "e31bf694-84df-4bfe-93a9-36d7a67461f6",
        "colab": {
          "base_uri": "https://localhost:8080/",
          "height": 35
        }
      },
      "outputs": [
        {
          "output_type": "execute_result",
          "data": {
            "text/plain": [
              "'FALSO'"
            ],
            "application/vnd.google.colaboratory.intrinsic+json": {
              "type": "string"
            }
          },
          "metadata": {},
          "execution_count": 26
        }
      ],
      "source": [
        "#sabendo qual a moda de Vento\n",
        "moda_vento=sts.mode(tempo['Vento'])\n",
        "moda_vento"
      ]
    },
    {
      "cell_type": "code",
      "execution_count": null,
      "metadata": {
        "id": "TxcI72abHqiB",
        "outputId": "b837eab0-8955-4946-896a-4f381c3957e6",
        "colab": {
          "base_uri": "https://localhost:8080/",
          "height": 483
        }
      },
      "outputs": [
        {
          "output_type": "execute_result",
          "data": {
            "text/plain": [
              "   Aparencia  Temperatura  Umidade       Vento Jogar\n",
              "0        sol           85     85.0       FALSO   nao\n",
              "1        sol           80     90.0  VERDADEIRO   nao\n",
              "2    nublado           83     86.0       FALSO   sim\n",
              "3      chuva           70      NaN       FALSO   sim\n",
              "4      chuva           68     80.0       FALSO   sim\n",
              "5      chuva           65     70.0  VERDADEIRO   nao\n",
              "6        sol           64     65.0  VERDADEIRO   sim\n",
              "7        sol         1220     95.0       FALSO   nao\n",
              "8        sol           69     70.0       FALSO   sim\n",
              "9      chuva           75    200.0       FALSO   sim\n",
              "10       sol           75     70.0  VERDADEIRO   sim\n",
              "11   nublado           72     90.0  VERDADEIRO   sim\n",
              "12   nublado           81     75.0       FALSO   sim\n",
              "13     chuva           71     91.0  VERDADEIRO   nao"
            ],
            "text/html": [
              "\n",
              "  <div id=\"df-9c440afb-08d5-427a-a965-c07b80d9bd16\">\n",
              "    <div class=\"colab-df-container\">\n",
              "      <div>\n",
              "<style scoped>\n",
              "    .dataframe tbody tr th:only-of-type {\n",
              "        vertical-align: middle;\n",
              "    }\n",
              "\n",
              "    .dataframe tbody tr th {\n",
              "        vertical-align: top;\n",
              "    }\n",
              "\n",
              "    .dataframe thead th {\n",
              "        text-align: right;\n",
              "    }\n",
              "</style>\n",
              "<table border=\"1\" class=\"dataframe\">\n",
              "  <thead>\n",
              "    <tr style=\"text-align: right;\">\n",
              "      <th></th>\n",
              "      <th>Aparencia</th>\n",
              "      <th>Temperatura</th>\n",
              "      <th>Umidade</th>\n",
              "      <th>Vento</th>\n",
              "      <th>Jogar</th>\n",
              "    </tr>\n",
              "  </thead>\n",
              "  <tbody>\n",
              "    <tr>\n",
              "      <th>0</th>\n",
              "      <td>sol</td>\n",
              "      <td>85</td>\n",
              "      <td>85.0</td>\n",
              "      <td>FALSO</td>\n",
              "      <td>nao</td>\n",
              "    </tr>\n",
              "    <tr>\n",
              "      <th>1</th>\n",
              "      <td>sol</td>\n",
              "      <td>80</td>\n",
              "      <td>90.0</td>\n",
              "      <td>VERDADEIRO</td>\n",
              "      <td>nao</td>\n",
              "    </tr>\n",
              "    <tr>\n",
              "      <th>2</th>\n",
              "      <td>nublado</td>\n",
              "      <td>83</td>\n",
              "      <td>86.0</td>\n",
              "      <td>FALSO</td>\n",
              "      <td>sim</td>\n",
              "    </tr>\n",
              "    <tr>\n",
              "      <th>3</th>\n",
              "      <td>chuva</td>\n",
              "      <td>70</td>\n",
              "      <td>NaN</td>\n",
              "      <td>FALSO</td>\n",
              "      <td>sim</td>\n",
              "    </tr>\n",
              "    <tr>\n",
              "      <th>4</th>\n",
              "      <td>chuva</td>\n",
              "      <td>68</td>\n",
              "      <td>80.0</td>\n",
              "      <td>FALSO</td>\n",
              "      <td>sim</td>\n",
              "    </tr>\n",
              "    <tr>\n",
              "      <th>5</th>\n",
              "      <td>chuva</td>\n",
              "      <td>65</td>\n",
              "      <td>70.0</td>\n",
              "      <td>VERDADEIRO</td>\n",
              "      <td>nao</td>\n",
              "    </tr>\n",
              "    <tr>\n",
              "      <th>6</th>\n",
              "      <td>sol</td>\n",
              "      <td>64</td>\n",
              "      <td>65.0</td>\n",
              "      <td>VERDADEIRO</td>\n",
              "      <td>sim</td>\n",
              "    </tr>\n",
              "    <tr>\n",
              "      <th>7</th>\n",
              "      <td>sol</td>\n",
              "      <td>1220</td>\n",
              "      <td>95.0</td>\n",
              "      <td>FALSO</td>\n",
              "      <td>nao</td>\n",
              "    </tr>\n",
              "    <tr>\n",
              "      <th>8</th>\n",
              "      <td>sol</td>\n",
              "      <td>69</td>\n",
              "      <td>70.0</td>\n",
              "      <td>FALSO</td>\n",
              "      <td>sim</td>\n",
              "    </tr>\n",
              "    <tr>\n",
              "      <th>9</th>\n",
              "      <td>chuva</td>\n",
              "      <td>75</td>\n",
              "      <td>200.0</td>\n",
              "      <td>FALSO</td>\n",
              "      <td>sim</td>\n",
              "    </tr>\n",
              "    <tr>\n",
              "      <th>10</th>\n",
              "      <td>sol</td>\n",
              "      <td>75</td>\n",
              "      <td>70.0</td>\n",
              "      <td>VERDADEIRO</td>\n",
              "      <td>sim</td>\n",
              "    </tr>\n",
              "    <tr>\n",
              "      <th>11</th>\n",
              "      <td>nublado</td>\n",
              "      <td>72</td>\n",
              "      <td>90.0</td>\n",
              "      <td>VERDADEIRO</td>\n",
              "      <td>sim</td>\n",
              "    </tr>\n",
              "    <tr>\n",
              "      <th>12</th>\n",
              "      <td>nublado</td>\n",
              "      <td>81</td>\n",
              "      <td>75.0</td>\n",
              "      <td>FALSO</td>\n",
              "      <td>sim</td>\n",
              "    </tr>\n",
              "    <tr>\n",
              "      <th>13</th>\n",
              "      <td>chuva</td>\n",
              "      <td>71</td>\n",
              "      <td>91.0</td>\n",
              "      <td>VERDADEIRO</td>\n",
              "      <td>nao</td>\n",
              "    </tr>\n",
              "  </tbody>\n",
              "</table>\n",
              "</div>\n",
              "      <button class=\"colab-df-convert\" onclick=\"convertToInteractive('df-9c440afb-08d5-427a-a965-c07b80d9bd16')\"\n",
              "              title=\"Convert this dataframe to an interactive table.\"\n",
              "              style=\"display:none;\">\n",
              "        \n",
              "  <svg xmlns=\"http://www.w3.org/2000/svg\" height=\"24px\"viewBox=\"0 0 24 24\"\n",
              "       width=\"24px\">\n",
              "    <path d=\"M0 0h24v24H0V0z\" fill=\"none\"/>\n",
              "    <path d=\"M18.56 5.44l.94 2.06.94-2.06 2.06-.94-2.06-.94-.94-2.06-.94 2.06-2.06.94zm-11 1L8.5 8.5l.94-2.06 2.06-.94-2.06-.94L8.5 2.5l-.94 2.06-2.06.94zm10 10l.94 2.06.94-2.06 2.06-.94-2.06-.94-.94-2.06-.94 2.06-2.06.94z\"/><path d=\"M17.41 7.96l-1.37-1.37c-.4-.4-.92-.59-1.43-.59-.52 0-1.04.2-1.43.59L10.3 9.45l-7.72 7.72c-.78.78-.78 2.05 0 2.83L4 21.41c.39.39.9.59 1.41.59.51 0 1.02-.2 1.41-.59l7.78-7.78 2.81-2.81c.8-.78.8-2.07 0-2.86zM5.41 20L4 18.59l7.72-7.72 1.47 1.35L5.41 20z\"/>\n",
              "  </svg>\n",
              "      </button>\n",
              "      \n",
              "  <style>\n",
              "    .colab-df-container {\n",
              "      display:flex;\n",
              "      flex-wrap:wrap;\n",
              "      gap: 12px;\n",
              "    }\n",
              "\n",
              "    .colab-df-convert {\n",
              "      background-color: #E8F0FE;\n",
              "      border: none;\n",
              "      border-radius: 50%;\n",
              "      cursor: pointer;\n",
              "      display: none;\n",
              "      fill: #1967D2;\n",
              "      height: 32px;\n",
              "      padding: 0 0 0 0;\n",
              "      width: 32px;\n",
              "    }\n",
              "\n",
              "    .colab-df-convert:hover {\n",
              "      background-color: #E2EBFA;\n",
              "      box-shadow: 0px 1px 2px rgba(60, 64, 67, 0.3), 0px 1px 3px 1px rgba(60, 64, 67, 0.15);\n",
              "      fill: #174EA6;\n",
              "    }\n",
              "\n",
              "    [theme=dark] .colab-df-convert {\n",
              "      background-color: #3B4455;\n",
              "      fill: #D2E3FC;\n",
              "    }\n",
              "\n",
              "    [theme=dark] .colab-df-convert:hover {\n",
              "      background-color: #434B5C;\n",
              "      box-shadow: 0px 1px 3px 1px rgba(0, 0, 0, 0.15);\n",
              "      filter: drop-shadow(0px 1px 2px rgba(0, 0, 0, 0.3));\n",
              "      fill: #FFFFFF;\n",
              "    }\n",
              "  </style>\n",
              "\n",
              "      <script>\n",
              "        const buttonEl =\n",
              "          document.querySelector('#df-9c440afb-08d5-427a-a965-c07b80d9bd16 button.colab-df-convert');\n",
              "        buttonEl.style.display =\n",
              "          google.colab.kernel.accessAllowed ? 'block' : 'none';\n",
              "\n",
              "        async function convertToInteractive(key) {\n",
              "          const element = document.querySelector('#df-9c440afb-08d5-427a-a965-c07b80d9bd16');\n",
              "          const dataTable =\n",
              "            await google.colab.kernel.invokeFunction('convertToInteractive',\n",
              "                                                     [key], {});\n",
              "          if (!dataTable) return;\n",
              "\n",
              "          const docLinkHtml = 'Like what you see? Visit the ' +\n",
              "            '<a target=\"_blank\" href=https://colab.research.google.com/notebooks/data_table.ipynb>data table notebook</a>'\n",
              "            + ' to learn more about interactive tables.';\n",
              "          element.innerHTML = '';\n",
              "          dataTable['output_type'] = 'display_data';\n",
              "          await google.colab.output.renderOutput(dataTable, element);\n",
              "          const docLink = document.createElement('div');\n",
              "          docLink.innerHTML = docLinkHtml;\n",
              "          element.appendChild(docLink);\n",
              "        }\n",
              "      </script>\n",
              "    </div>\n",
              "  </div>\n",
              "  "
            ]
          },
          "metadata": {},
          "execution_count": 27
        }
      ],
      "source": [
        "#usando o fillna para preencher os Na vazios\n",
        "tempo[\"Vento\"].fillna(moda_vento, inplace=True)\n",
        "tempo\n"
      ]
    },
    {
      "cell_type": "code",
      "execution_count": null,
      "metadata": {
        "id": "-8SvLiz9HqiB",
        "outputId": "c3b06aef-e439-4cdc-c1a2-526ea1bb612a",
        "colab": {
          "base_uri": "https://localhost:8080/"
        }
      },
      "outputs": [
        {
          "output_type": "execute_result",
          "data": {
            "text/plain": [
              "73.5"
            ]
          },
          "metadata": {},
          "execution_count": 28
        }
      ],
      "source": [
        "#sencontrar  a temperatura mediana\n",
        "mediana_temp=sts.median(tempo[\"Temperatura\"])\n",
        "mediana_temp"
      ]
    },
    {
      "cell_type": "code",
      "execution_count": null,
      "metadata": {
        "id": "IMw5bkV5HqiC",
        "outputId": "0e0ecdf0-bcef-420e-ea5b-67d8d1f7cfba",
        "colab": {
          "base_uri": "https://localhost:8080/",
          "height": 80
        }
      },
      "outputs": [
        {
          "output_type": "execute_result",
          "data": {
            "text/plain": [
              "  Aparencia  Temperatura  Umidade  Vento Jogar\n",
              "7       sol         1220     95.0  FALSO   nao"
            ],
            "text/html": [
              "\n",
              "  <div id=\"df-05c0a2a3-0550-47eb-86d1-4d9d7a654430\">\n",
              "    <div class=\"colab-df-container\">\n",
              "      <div>\n",
              "<style scoped>\n",
              "    .dataframe tbody tr th:only-of-type {\n",
              "        vertical-align: middle;\n",
              "    }\n",
              "\n",
              "    .dataframe tbody tr th {\n",
              "        vertical-align: top;\n",
              "    }\n",
              "\n",
              "    .dataframe thead th {\n",
              "        text-align: right;\n",
              "    }\n",
              "</style>\n",
              "<table border=\"1\" class=\"dataframe\">\n",
              "  <thead>\n",
              "    <tr style=\"text-align: right;\">\n",
              "      <th></th>\n",
              "      <th>Aparencia</th>\n",
              "      <th>Temperatura</th>\n",
              "      <th>Umidade</th>\n",
              "      <th>Vento</th>\n",
              "      <th>Jogar</th>\n",
              "    </tr>\n",
              "  </thead>\n",
              "  <tbody>\n",
              "    <tr>\n",
              "      <th>7</th>\n",
              "      <td>sol</td>\n",
              "      <td>1220</td>\n",
              "      <td>95.0</td>\n",
              "      <td>FALSO</td>\n",
              "      <td>nao</td>\n",
              "    </tr>\n",
              "  </tbody>\n",
              "</table>\n",
              "</div>\n",
              "      <button class=\"colab-df-convert\" onclick=\"convertToInteractive('df-05c0a2a3-0550-47eb-86d1-4d9d7a654430')\"\n",
              "              title=\"Convert this dataframe to an interactive table.\"\n",
              "              style=\"display:none;\">\n",
              "        \n",
              "  <svg xmlns=\"http://www.w3.org/2000/svg\" height=\"24px\"viewBox=\"0 0 24 24\"\n",
              "       width=\"24px\">\n",
              "    <path d=\"M0 0h24v24H0V0z\" fill=\"none\"/>\n",
              "    <path d=\"M18.56 5.44l.94 2.06.94-2.06 2.06-.94-2.06-.94-.94-2.06-.94 2.06-2.06.94zm-11 1L8.5 8.5l.94-2.06 2.06-.94-2.06-.94L8.5 2.5l-.94 2.06-2.06.94zm10 10l.94 2.06.94-2.06 2.06-.94-2.06-.94-.94-2.06-.94 2.06-2.06.94z\"/><path d=\"M17.41 7.96l-1.37-1.37c-.4-.4-.92-.59-1.43-.59-.52 0-1.04.2-1.43.59L10.3 9.45l-7.72 7.72c-.78.78-.78 2.05 0 2.83L4 21.41c.39.39.9.59 1.41.59.51 0 1.02-.2 1.41-.59l7.78-7.78 2.81-2.81c.8-.78.8-2.07 0-2.86zM5.41 20L4 18.59l7.72-7.72 1.47 1.35L5.41 20z\"/>\n",
              "  </svg>\n",
              "      </button>\n",
              "      \n",
              "  <style>\n",
              "    .colab-df-container {\n",
              "      display:flex;\n",
              "      flex-wrap:wrap;\n",
              "      gap: 12px;\n",
              "    }\n",
              "\n",
              "    .colab-df-convert {\n",
              "      background-color: #E8F0FE;\n",
              "      border: none;\n",
              "      border-radius: 50%;\n",
              "      cursor: pointer;\n",
              "      display: none;\n",
              "      fill: #1967D2;\n",
              "      height: 32px;\n",
              "      padding: 0 0 0 0;\n",
              "      width: 32px;\n",
              "    }\n",
              "\n",
              "    .colab-df-convert:hover {\n",
              "      background-color: #E2EBFA;\n",
              "      box-shadow: 0px 1px 2px rgba(60, 64, 67, 0.3), 0px 1px 3px 1px rgba(60, 64, 67, 0.15);\n",
              "      fill: #174EA6;\n",
              "    }\n",
              "\n",
              "    [theme=dark] .colab-df-convert {\n",
              "      background-color: #3B4455;\n",
              "      fill: #D2E3FC;\n",
              "    }\n",
              "\n",
              "    [theme=dark] .colab-df-convert:hover {\n",
              "      background-color: #434B5C;\n",
              "      box-shadow: 0px 1px 3px 1px rgba(0, 0, 0, 0.15);\n",
              "      filter: drop-shadow(0px 1px 2px rgba(0, 0, 0, 0.3));\n",
              "      fill: #FFFFFF;\n",
              "    }\n",
              "  </style>\n",
              "\n",
              "      <script>\n",
              "        const buttonEl =\n",
              "          document.querySelector('#df-05c0a2a3-0550-47eb-86d1-4d9d7a654430 button.colab-df-convert');\n",
              "        buttonEl.style.display =\n",
              "          google.colab.kernel.accessAllowed ? 'block' : 'none';\n",
              "\n",
              "        async function convertToInteractive(key) {\n",
              "          const element = document.querySelector('#df-05c0a2a3-0550-47eb-86d1-4d9d7a654430');\n",
              "          const dataTable =\n",
              "            await google.colab.kernel.invokeFunction('convertToInteractive',\n",
              "                                                     [key], {});\n",
              "          if (!dataTable) return;\n",
              "\n",
              "          const docLinkHtml = 'Like what you see? Visit the ' +\n",
              "            '<a target=\"_blank\" href=https://colab.research.google.com/notebooks/data_table.ipynb>data table notebook</a>'\n",
              "            + ' to learn more about interactive tables.';\n",
              "          element.innerHTML = '';\n",
              "          dataTable['output_type'] = 'display_data';\n",
              "          await google.colab.output.renderOutput(dataTable, element);\n",
              "          const docLink = document.createElement('div');\n",
              "          docLink.innerHTML = docLinkHtml;\n",
              "          element.appendChild(docLink);\n",
              "        }\n",
              "      </script>\n",
              "    </div>\n",
              "  </div>\n",
              "  "
            ]
          },
          "metadata": {},
          "execution_count": 29
        }
      ],
      "source": [
        "#encontrar as temperaturas fora do padrao para substituir pela mediana\n",
        "tempo.loc[(tempo[\"Temperatura\"]< -130) | (tempo[\"Temperatura\"]>130)]\n",
        "\n"
      ]
    },
    {
      "cell_type": "code",
      "execution_count": null,
      "metadata": {
        "id": "Y_EQHljCHqiD",
        "outputId": "dffeeca3-2dd6-4352-8463-7fac2192676b",
        "colab": {
          "base_uri": "https://localhost:8080/",
          "height": 483
        }
      },
      "outputs": [
        {
          "output_type": "execute_result",
          "data": {
            "text/plain": [
              "   Aparencia  Temperatura  Umidade       Vento Jogar\n",
              "0        sol         85.0     85.0       FALSO   nao\n",
              "1        sol         80.0     90.0  VERDADEIRO   nao\n",
              "2    nublado         83.0     86.0       FALSO   sim\n",
              "3      chuva         70.0      NaN       FALSO   sim\n",
              "4      chuva         68.0     80.0       FALSO   sim\n",
              "5      chuva         65.0     70.0  VERDADEIRO   nao\n",
              "6        sol         64.0     65.0  VERDADEIRO   sim\n",
              "7        sol         73.5     95.0       FALSO   nao\n",
              "8        sol         69.0     70.0       FALSO   sim\n",
              "9      chuva         75.0    200.0       FALSO   sim\n",
              "10       sol         75.0     70.0  VERDADEIRO   sim\n",
              "11   nublado         72.0     90.0  VERDADEIRO   sim\n",
              "12   nublado         81.0     75.0       FALSO   sim\n",
              "13     chuva         71.0     91.0  VERDADEIRO   nao"
            ],
            "text/html": [
              "\n",
              "  <div id=\"df-cfa54dc7-2ca3-4253-ad5f-1b77195dcff5\">\n",
              "    <div class=\"colab-df-container\">\n",
              "      <div>\n",
              "<style scoped>\n",
              "    .dataframe tbody tr th:only-of-type {\n",
              "        vertical-align: middle;\n",
              "    }\n",
              "\n",
              "    .dataframe tbody tr th {\n",
              "        vertical-align: top;\n",
              "    }\n",
              "\n",
              "    .dataframe thead th {\n",
              "        text-align: right;\n",
              "    }\n",
              "</style>\n",
              "<table border=\"1\" class=\"dataframe\">\n",
              "  <thead>\n",
              "    <tr style=\"text-align: right;\">\n",
              "      <th></th>\n",
              "      <th>Aparencia</th>\n",
              "      <th>Temperatura</th>\n",
              "      <th>Umidade</th>\n",
              "      <th>Vento</th>\n",
              "      <th>Jogar</th>\n",
              "    </tr>\n",
              "  </thead>\n",
              "  <tbody>\n",
              "    <tr>\n",
              "      <th>0</th>\n",
              "      <td>sol</td>\n",
              "      <td>85.0</td>\n",
              "      <td>85.0</td>\n",
              "      <td>FALSO</td>\n",
              "      <td>nao</td>\n",
              "    </tr>\n",
              "    <tr>\n",
              "      <th>1</th>\n",
              "      <td>sol</td>\n",
              "      <td>80.0</td>\n",
              "      <td>90.0</td>\n",
              "      <td>VERDADEIRO</td>\n",
              "      <td>nao</td>\n",
              "    </tr>\n",
              "    <tr>\n",
              "      <th>2</th>\n",
              "      <td>nublado</td>\n",
              "      <td>83.0</td>\n",
              "      <td>86.0</td>\n",
              "      <td>FALSO</td>\n",
              "      <td>sim</td>\n",
              "    </tr>\n",
              "    <tr>\n",
              "      <th>3</th>\n",
              "      <td>chuva</td>\n",
              "      <td>70.0</td>\n",
              "      <td>NaN</td>\n",
              "      <td>FALSO</td>\n",
              "      <td>sim</td>\n",
              "    </tr>\n",
              "    <tr>\n",
              "      <th>4</th>\n",
              "      <td>chuva</td>\n",
              "      <td>68.0</td>\n",
              "      <td>80.0</td>\n",
              "      <td>FALSO</td>\n",
              "      <td>sim</td>\n",
              "    </tr>\n",
              "    <tr>\n",
              "      <th>5</th>\n",
              "      <td>chuva</td>\n",
              "      <td>65.0</td>\n",
              "      <td>70.0</td>\n",
              "      <td>VERDADEIRO</td>\n",
              "      <td>nao</td>\n",
              "    </tr>\n",
              "    <tr>\n",
              "      <th>6</th>\n",
              "      <td>sol</td>\n",
              "      <td>64.0</td>\n",
              "      <td>65.0</td>\n",
              "      <td>VERDADEIRO</td>\n",
              "      <td>sim</td>\n",
              "    </tr>\n",
              "    <tr>\n",
              "      <th>7</th>\n",
              "      <td>sol</td>\n",
              "      <td>73.5</td>\n",
              "      <td>95.0</td>\n",
              "      <td>FALSO</td>\n",
              "      <td>nao</td>\n",
              "    </tr>\n",
              "    <tr>\n",
              "      <th>8</th>\n",
              "      <td>sol</td>\n",
              "      <td>69.0</td>\n",
              "      <td>70.0</td>\n",
              "      <td>FALSO</td>\n",
              "      <td>sim</td>\n",
              "    </tr>\n",
              "    <tr>\n",
              "      <th>9</th>\n",
              "      <td>chuva</td>\n",
              "      <td>75.0</td>\n",
              "      <td>200.0</td>\n",
              "      <td>FALSO</td>\n",
              "      <td>sim</td>\n",
              "    </tr>\n",
              "    <tr>\n",
              "      <th>10</th>\n",
              "      <td>sol</td>\n",
              "      <td>75.0</td>\n",
              "      <td>70.0</td>\n",
              "      <td>VERDADEIRO</td>\n",
              "      <td>sim</td>\n",
              "    </tr>\n",
              "    <tr>\n",
              "      <th>11</th>\n",
              "      <td>nublado</td>\n",
              "      <td>72.0</td>\n",
              "      <td>90.0</td>\n",
              "      <td>VERDADEIRO</td>\n",
              "      <td>sim</td>\n",
              "    </tr>\n",
              "    <tr>\n",
              "      <th>12</th>\n",
              "      <td>nublado</td>\n",
              "      <td>81.0</td>\n",
              "      <td>75.0</td>\n",
              "      <td>FALSO</td>\n",
              "      <td>sim</td>\n",
              "    </tr>\n",
              "    <tr>\n",
              "      <th>13</th>\n",
              "      <td>chuva</td>\n",
              "      <td>71.0</td>\n",
              "      <td>91.0</td>\n",
              "      <td>VERDADEIRO</td>\n",
              "      <td>nao</td>\n",
              "    </tr>\n",
              "  </tbody>\n",
              "</table>\n",
              "</div>\n",
              "      <button class=\"colab-df-convert\" onclick=\"convertToInteractive('df-cfa54dc7-2ca3-4253-ad5f-1b77195dcff5')\"\n",
              "              title=\"Convert this dataframe to an interactive table.\"\n",
              "              style=\"display:none;\">\n",
              "        \n",
              "  <svg xmlns=\"http://www.w3.org/2000/svg\" height=\"24px\"viewBox=\"0 0 24 24\"\n",
              "       width=\"24px\">\n",
              "    <path d=\"M0 0h24v24H0V0z\" fill=\"none\"/>\n",
              "    <path d=\"M18.56 5.44l.94 2.06.94-2.06 2.06-.94-2.06-.94-.94-2.06-.94 2.06-2.06.94zm-11 1L8.5 8.5l.94-2.06 2.06-.94-2.06-.94L8.5 2.5l-.94 2.06-2.06.94zm10 10l.94 2.06.94-2.06 2.06-.94-2.06-.94-.94-2.06-.94 2.06-2.06.94z\"/><path d=\"M17.41 7.96l-1.37-1.37c-.4-.4-.92-.59-1.43-.59-.52 0-1.04.2-1.43.59L10.3 9.45l-7.72 7.72c-.78.78-.78 2.05 0 2.83L4 21.41c.39.39.9.59 1.41.59.51 0 1.02-.2 1.41-.59l7.78-7.78 2.81-2.81c.8-.78.8-2.07 0-2.86zM5.41 20L4 18.59l7.72-7.72 1.47 1.35L5.41 20z\"/>\n",
              "  </svg>\n",
              "      </button>\n",
              "      \n",
              "  <style>\n",
              "    .colab-df-container {\n",
              "      display:flex;\n",
              "      flex-wrap:wrap;\n",
              "      gap: 12px;\n",
              "    }\n",
              "\n",
              "    .colab-df-convert {\n",
              "      background-color: #E8F0FE;\n",
              "      border: none;\n",
              "      border-radius: 50%;\n",
              "      cursor: pointer;\n",
              "      display: none;\n",
              "      fill: #1967D2;\n",
              "      height: 32px;\n",
              "      padding: 0 0 0 0;\n",
              "      width: 32px;\n",
              "    }\n",
              "\n",
              "    .colab-df-convert:hover {\n",
              "      background-color: #E2EBFA;\n",
              "      box-shadow: 0px 1px 2px rgba(60, 64, 67, 0.3), 0px 1px 3px 1px rgba(60, 64, 67, 0.15);\n",
              "      fill: #174EA6;\n",
              "    }\n",
              "\n",
              "    [theme=dark] .colab-df-convert {\n",
              "      background-color: #3B4455;\n",
              "      fill: #D2E3FC;\n",
              "    }\n",
              "\n",
              "    [theme=dark] .colab-df-convert:hover {\n",
              "      background-color: #434B5C;\n",
              "      box-shadow: 0px 1px 3px 1px rgba(0, 0, 0, 0.15);\n",
              "      filter: drop-shadow(0px 1px 2px rgba(0, 0, 0, 0.3));\n",
              "      fill: #FFFFFF;\n",
              "    }\n",
              "  </style>\n",
              "\n",
              "      <script>\n",
              "        const buttonEl =\n",
              "          document.querySelector('#df-cfa54dc7-2ca3-4253-ad5f-1b77195dcff5 button.colab-df-convert');\n",
              "        buttonEl.style.display =\n",
              "          google.colab.kernel.accessAllowed ? 'block' : 'none';\n",
              "\n",
              "        async function convertToInteractive(key) {\n",
              "          const element = document.querySelector('#df-cfa54dc7-2ca3-4253-ad5f-1b77195dcff5');\n",
              "          const dataTable =\n",
              "            await google.colab.kernel.invokeFunction('convertToInteractive',\n",
              "                                                     [key], {});\n",
              "          if (!dataTable) return;\n",
              "\n",
              "          const docLinkHtml = 'Like what you see? Visit the ' +\n",
              "            '<a target=\"_blank\" href=https://colab.research.google.com/notebooks/data_table.ipynb>data table notebook</a>'\n",
              "            + ' to learn more about interactive tables.';\n",
              "          element.innerHTML = '';\n",
              "          dataTable['output_type'] = 'display_data';\n",
              "          await google.colab.output.renderOutput(dataTable, element);\n",
              "          const docLink = document.createElement('div');\n",
              "          docLink.innerHTML = docLinkHtml;\n",
              "          element.appendChild(docLink);\n",
              "        }\n",
              "      </script>\n",
              "    </div>\n",
              "  </div>\n",
              "  "
            ]
          },
          "metadata": {},
          "execution_count": 30
        }
      ],
      "source": [
        "#substituir as temperaturas fora do padrao\n",
        "tempo.loc[(tempo[\"Temperatura\"]< -130) | (tempo[\"Temperatura\"]>130), \"Temperatura\"]=mediana_temp\n",
        "\n",
        "tempo\n",
        "\n"
      ]
    },
    {
      "cell_type": "code",
      "execution_count": null,
      "metadata": {
        "id": "sabFnbs9HqiE",
        "outputId": "98fdd2cd-e30b-40b9-fc8e-68521caadd1f",
        "colab": {
          "base_uri": "https://localhost:8080/"
        }
      },
      "outputs": [
        {
          "output_type": "execute_result",
          "data": {
            "text/plain": [
              "85.5"
            ]
          },
          "metadata": {},
          "execution_count": 31
        }
      ],
      "source": [
        "#entendendo umidade, procurando Na\n",
        "tempo[\"Umidade\"].isna().sum()\n",
        "\n",
        "mediana_umidade=sts.median(tempo[\"Umidade\"])\n",
        "mediana_umidade\n",
        "\n"
      ]
    },
    {
      "cell_type": "code",
      "execution_count": null,
      "metadata": {
        "id": "g6gFnf2bHqiF",
        "outputId": "8884169d-5645-44ec-c3c7-5c01a3e62f66",
        "colab": {
          "base_uri": "https://localhost:8080/"
        }
      },
      "outputs": [
        {
          "output_type": "execute_result",
          "data": {
            "text/plain": [
              "0"
            ]
          },
          "metadata": {},
          "execution_count": 32
        }
      ],
      "source": [
        "#substituindo NA da umidade usando FILLAN inplace=true\n",
        "tempo[\"Umidade\"].fillna(mediana_umidade, inplace=True)\n",
        "tempo[\"Umidade\"].isna().sum()"
      ]
    },
    {
      "cell_type": "code",
      "execution_count": null,
      "metadata": {
        "id": "FVwuxK4dHqiG",
        "outputId": "51de08a6-583f-4e6f-c8f8-d8fa3f9e9c85",
        "colab": {
          "base_uri": "https://localhost:8080/"
        }
      },
      "outputs": [
        {
          "output_type": "execute_result",
          "data": {
            "text/plain": [
              "33.204763493832004"
            ]
          },
          "metadata": {},
          "execution_count": 33
        }
      ],
      "source": [
        "#encontrando a umidade fora de padrao para a mediana\n",
        "tempo[\"Umidade\"].describe()\n",
        "std_umidade=sts.stdev(tempo[\"Umidade\"])\n",
        "std_umidade"
      ]
    },
    {
      "cell_type": "code",
      "execution_count": null,
      "metadata": {
        "id": "J0aXpvQLHqiH",
        "outputId": "3b535641-2357-4198-e6a4-7a35365f4234",
        "colab": {
          "base_uri": "https://localhost:8080/",
          "height": 483
        }
      },
      "outputs": [
        {
          "output_type": "execute_result",
          "data": {
            "text/plain": [
              "   Aparencia  Temperatura  Umidade       Vento Jogar\n",
              "0        sol         85.0     85.0       FALSO   nao\n",
              "1        sol         80.0     90.0  VERDADEIRO   nao\n",
              "2    nublado         83.0     86.0       FALSO   sim\n",
              "3      chuva         70.0     85.5       FALSO   sim\n",
              "4      chuva         68.0     80.0       FALSO   sim\n",
              "5      chuva         65.0     70.0  VERDADEIRO   nao\n",
              "6        sol         64.0     65.0  VERDADEIRO   sim\n",
              "7        sol         73.5     95.0       FALSO   nao\n",
              "8        sol         69.0     70.0       FALSO   sim\n",
              "9      chuva         75.0     85.5       FALSO   sim\n",
              "10       sol         75.0     70.0  VERDADEIRO   sim\n",
              "11   nublado         72.0     90.0  VERDADEIRO   sim\n",
              "12   nublado         81.0     75.0       FALSO   sim\n",
              "13     chuva         71.0     91.0  VERDADEIRO   nao"
            ],
            "text/html": [
              "\n",
              "  <div id=\"df-8f15414e-f334-4811-8b69-f99d7ddcbe16\">\n",
              "    <div class=\"colab-df-container\">\n",
              "      <div>\n",
              "<style scoped>\n",
              "    .dataframe tbody tr th:only-of-type {\n",
              "        vertical-align: middle;\n",
              "    }\n",
              "\n",
              "    .dataframe tbody tr th {\n",
              "        vertical-align: top;\n",
              "    }\n",
              "\n",
              "    .dataframe thead th {\n",
              "        text-align: right;\n",
              "    }\n",
              "</style>\n",
              "<table border=\"1\" class=\"dataframe\">\n",
              "  <thead>\n",
              "    <tr style=\"text-align: right;\">\n",
              "      <th></th>\n",
              "      <th>Aparencia</th>\n",
              "      <th>Temperatura</th>\n",
              "      <th>Umidade</th>\n",
              "      <th>Vento</th>\n",
              "      <th>Jogar</th>\n",
              "    </tr>\n",
              "  </thead>\n",
              "  <tbody>\n",
              "    <tr>\n",
              "      <th>0</th>\n",
              "      <td>sol</td>\n",
              "      <td>85.0</td>\n",
              "      <td>85.0</td>\n",
              "      <td>FALSO</td>\n",
              "      <td>nao</td>\n",
              "    </tr>\n",
              "    <tr>\n",
              "      <th>1</th>\n",
              "      <td>sol</td>\n",
              "      <td>80.0</td>\n",
              "      <td>90.0</td>\n",
              "      <td>VERDADEIRO</td>\n",
              "      <td>nao</td>\n",
              "    </tr>\n",
              "    <tr>\n",
              "      <th>2</th>\n",
              "      <td>nublado</td>\n",
              "      <td>83.0</td>\n",
              "      <td>86.0</td>\n",
              "      <td>FALSO</td>\n",
              "      <td>sim</td>\n",
              "    </tr>\n",
              "    <tr>\n",
              "      <th>3</th>\n",
              "      <td>chuva</td>\n",
              "      <td>70.0</td>\n",
              "      <td>85.5</td>\n",
              "      <td>FALSO</td>\n",
              "      <td>sim</td>\n",
              "    </tr>\n",
              "    <tr>\n",
              "      <th>4</th>\n",
              "      <td>chuva</td>\n",
              "      <td>68.0</td>\n",
              "      <td>80.0</td>\n",
              "      <td>FALSO</td>\n",
              "      <td>sim</td>\n",
              "    </tr>\n",
              "    <tr>\n",
              "      <th>5</th>\n",
              "      <td>chuva</td>\n",
              "      <td>65.0</td>\n",
              "      <td>70.0</td>\n",
              "      <td>VERDADEIRO</td>\n",
              "      <td>nao</td>\n",
              "    </tr>\n",
              "    <tr>\n",
              "      <th>6</th>\n",
              "      <td>sol</td>\n",
              "      <td>64.0</td>\n",
              "      <td>65.0</td>\n",
              "      <td>VERDADEIRO</td>\n",
              "      <td>sim</td>\n",
              "    </tr>\n",
              "    <tr>\n",
              "      <th>7</th>\n",
              "      <td>sol</td>\n",
              "      <td>73.5</td>\n",
              "      <td>95.0</td>\n",
              "      <td>FALSO</td>\n",
              "      <td>nao</td>\n",
              "    </tr>\n",
              "    <tr>\n",
              "      <th>8</th>\n",
              "      <td>sol</td>\n",
              "      <td>69.0</td>\n",
              "      <td>70.0</td>\n",
              "      <td>FALSO</td>\n",
              "      <td>sim</td>\n",
              "    </tr>\n",
              "    <tr>\n",
              "      <th>9</th>\n",
              "      <td>chuva</td>\n",
              "      <td>75.0</td>\n",
              "      <td>85.5</td>\n",
              "      <td>FALSO</td>\n",
              "      <td>sim</td>\n",
              "    </tr>\n",
              "    <tr>\n",
              "      <th>10</th>\n",
              "      <td>sol</td>\n",
              "      <td>75.0</td>\n",
              "      <td>70.0</td>\n",
              "      <td>VERDADEIRO</td>\n",
              "      <td>sim</td>\n",
              "    </tr>\n",
              "    <tr>\n",
              "      <th>11</th>\n",
              "      <td>nublado</td>\n",
              "      <td>72.0</td>\n",
              "      <td>90.0</td>\n",
              "      <td>VERDADEIRO</td>\n",
              "      <td>sim</td>\n",
              "    </tr>\n",
              "    <tr>\n",
              "      <th>12</th>\n",
              "      <td>nublado</td>\n",
              "      <td>81.0</td>\n",
              "      <td>75.0</td>\n",
              "      <td>FALSO</td>\n",
              "      <td>sim</td>\n",
              "    </tr>\n",
              "    <tr>\n",
              "      <th>13</th>\n",
              "      <td>chuva</td>\n",
              "      <td>71.0</td>\n",
              "      <td>91.0</td>\n",
              "      <td>VERDADEIRO</td>\n",
              "      <td>nao</td>\n",
              "    </tr>\n",
              "  </tbody>\n",
              "</table>\n",
              "</div>\n",
              "      <button class=\"colab-df-convert\" onclick=\"convertToInteractive('df-8f15414e-f334-4811-8b69-f99d7ddcbe16')\"\n",
              "              title=\"Convert this dataframe to an interactive table.\"\n",
              "              style=\"display:none;\">\n",
              "        \n",
              "  <svg xmlns=\"http://www.w3.org/2000/svg\" height=\"24px\"viewBox=\"0 0 24 24\"\n",
              "       width=\"24px\">\n",
              "    <path d=\"M0 0h24v24H0V0z\" fill=\"none\"/>\n",
              "    <path d=\"M18.56 5.44l.94 2.06.94-2.06 2.06-.94-2.06-.94-.94-2.06-.94 2.06-2.06.94zm-11 1L8.5 8.5l.94-2.06 2.06-.94-2.06-.94L8.5 2.5l-.94 2.06-2.06.94zm10 10l.94 2.06.94-2.06 2.06-.94-2.06-.94-.94-2.06-.94 2.06-2.06.94z\"/><path d=\"M17.41 7.96l-1.37-1.37c-.4-.4-.92-.59-1.43-.59-.52 0-1.04.2-1.43.59L10.3 9.45l-7.72 7.72c-.78.78-.78 2.05 0 2.83L4 21.41c.39.39.9.59 1.41.59.51 0 1.02-.2 1.41-.59l7.78-7.78 2.81-2.81c.8-.78.8-2.07 0-2.86zM5.41 20L4 18.59l7.72-7.72 1.47 1.35L5.41 20z\"/>\n",
              "  </svg>\n",
              "      </button>\n",
              "      \n",
              "  <style>\n",
              "    .colab-df-container {\n",
              "      display:flex;\n",
              "      flex-wrap:wrap;\n",
              "      gap: 12px;\n",
              "    }\n",
              "\n",
              "    .colab-df-convert {\n",
              "      background-color: #E8F0FE;\n",
              "      border: none;\n",
              "      border-radius: 50%;\n",
              "      cursor: pointer;\n",
              "      display: none;\n",
              "      fill: #1967D2;\n",
              "      height: 32px;\n",
              "      padding: 0 0 0 0;\n",
              "      width: 32px;\n",
              "    }\n",
              "\n",
              "    .colab-df-convert:hover {\n",
              "      background-color: #E2EBFA;\n",
              "      box-shadow: 0px 1px 2px rgba(60, 64, 67, 0.3), 0px 1px 3px 1px rgba(60, 64, 67, 0.15);\n",
              "      fill: #174EA6;\n",
              "    }\n",
              "\n",
              "    [theme=dark] .colab-df-convert {\n",
              "      background-color: #3B4455;\n",
              "      fill: #D2E3FC;\n",
              "    }\n",
              "\n",
              "    [theme=dark] .colab-df-convert:hover {\n",
              "      background-color: #434B5C;\n",
              "      box-shadow: 0px 1px 3px 1px rgba(0, 0, 0, 0.15);\n",
              "      filter: drop-shadow(0px 1px 2px rgba(0, 0, 0, 0.3));\n",
              "      fill: #FFFFFF;\n",
              "    }\n",
              "  </style>\n",
              "\n",
              "      <script>\n",
              "        const buttonEl =\n",
              "          document.querySelector('#df-8f15414e-f334-4811-8b69-f99d7ddcbe16 button.colab-df-convert');\n",
              "        buttonEl.style.display =\n",
              "          google.colab.kernel.accessAllowed ? 'block' : 'none';\n",
              "\n",
              "        async function convertToInteractive(key) {\n",
              "          const element = document.querySelector('#df-8f15414e-f334-4811-8b69-f99d7ddcbe16');\n",
              "          const dataTable =\n",
              "            await google.colab.kernel.invokeFunction('convertToInteractive',\n",
              "                                                     [key], {});\n",
              "          if (!dataTable) return;\n",
              "\n",
              "          const docLinkHtml = 'Like what you see? Visit the ' +\n",
              "            '<a target=\"_blank\" href=https://colab.research.google.com/notebooks/data_table.ipynb>data table notebook</a>'\n",
              "            + ' to learn more about interactive tables.';\n",
              "          element.innerHTML = '';\n",
              "          dataTable['output_type'] = 'display_data';\n",
              "          await google.colab.output.renderOutput(dataTable, element);\n",
              "          const docLink = document.createElement('div');\n",
              "          docLink.innerHTML = docLinkHtml;\n",
              "          element.appendChild(docLink);\n",
              "        }\n",
              "      </script>\n",
              "    </div>\n",
              "  </div>\n",
              "  "
            ]
          },
          "metadata": {},
          "execution_count": 34
        }
      ],
      "source": [
        "#substituindo umidade fora do para mediana usando a procura LOC[]\n",
        "tempo.loc[(tempo[\"Umidade\"]> 3*std_umidade )]\n",
        "tempo.loc[(tempo[\"Umidade\"]> 3 * std_umidade), \"Umidade\"]=mediana_umidade\n",
        "tempo"
      ]
    },
    {
      "cell_type": "code",
      "execution_count": null,
      "metadata": {
        "id": "Quu1xn3aHqiJ",
        "outputId": "bf9cf560-37b9-469a-ebd7-73e01f29d158",
        "colab": {
          "base_uri": "https://localhost:8080/",
          "height": 165
        }
      },
      "outputs": [
        {
          "output_type": "stream",
          "name": "stderr",
          "text": [
            "<ipython-input-35-64bb5e410940>:2: FutureWarning: The default value of numeric_only in DataFrame.corr is deprecated. In a future version, it will default to False. Select only valid columns or specify the value of numeric_only to silence this warning.\n",
            "  corr=tempo.corr()\n"
          ]
        },
        {
          "output_type": "execute_result",
          "data": {
            "text/plain": [
              "             Temperatura   Umidade\n",
              "Temperatura     1.000000  0.419591\n",
              "Umidade         0.419591  1.000000"
            ],
            "text/html": [
              "\n",
              "  <div id=\"df-ebcaf6fb-8db6-4f62-93d1-a433dde2a8e0\">\n",
              "    <div class=\"colab-df-container\">\n",
              "      <div>\n",
              "<style scoped>\n",
              "    .dataframe tbody tr th:only-of-type {\n",
              "        vertical-align: middle;\n",
              "    }\n",
              "\n",
              "    .dataframe tbody tr th {\n",
              "        vertical-align: top;\n",
              "    }\n",
              "\n",
              "    .dataframe thead th {\n",
              "        text-align: right;\n",
              "    }\n",
              "</style>\n",
              "<table border=\"1\" class=\"dataframe\">\n",
              "  <thead>\n",
              "    <tr style=\"text-align: right;\">\n",
              "      <th></th>\n",
              "      <th>Temperatura</th>\n",
              "      <th>Umidade</th>\n",
              "    </tr>\n",
              "  </thead>\n",
              "  <tbody>\n",
              "    <tr>\n",
              "      <th>Temperatura</th>\n",
              "      <td>1.000000</td>\n",
              "      <td>0.419591</td>\n",
              "    </tr>\n",
              "    <tr>\n",
              "      <th>Umidade</th>\n",
              "      <td>0.419591</td>\n",
              "      <td>1.000000</td>\n",
              "    </tr>\n",
              "  </tbody>\n",
              "</table>\n",
              "</div>\n",
              "      <button class=\"colab-df-convert\" onclick=\"convertToInteractive('df-ebcaf6fb-8db6-4f62-93d1-a433dde2a8e0')\"\n",
              "              title=\"Convert this dataframe to an interactive table.\"\n",
              "              style=\"display:none;\">\n",
              "        \n",
              "  <svg xmlns=\"http://www.w3.org/2000/svg\" height=\"24px\"viewBox=\"0 0 24 24\"\n",
              "       width=\"24px\">\n",
              "    <path d=\"M0 0h24v24H0V0z\" fill=\"none\"/>\n",
              "    <path d=\"M18.56 5.44l.94 2.06.94-2.06 2.06-.94-2.06-.94-.94-2.06-.94 2.06-2.06.94zm-11 1L8.5 8.5l.94-2.06 2.06-.94-2.06-.94L8.5 2.5l-.94 2.06-2.06.94zm10 10l.94 2.06.94-2.06 2.06-.94-2.06-.94-.94-2.06-.94 2.06-2.06.94z\"/><path d=\"M17.41 7.96l-1.37-1.37c-.4-.4-.92-.59-1.43-.59-.52 0-1.04.2-1.43.59L10.3 9.45l-7.72 7.72c-.78.78-.78 2.05 0 2.83L4 21.41c.39.39.9.59 1.41.59.51 0 1.02-.2 1.41-.59l7.78-7.78 2.81-2.81c.8-.78.8-2.07 0-2.86zM5.41 20L4 18.59l7.72-7.72 1.47 1.35L5.41 20z\"/>\n",
              "  </svg>\n",
              "      </button>\n",
              "      \n",
              "  <style>\n",
              "    .colab-df-container {\n",
              "      display:flex;\n",
              "      flex-wrap:wrap;\n",
              "      gap: 12px;\n",
              "    }\n",
              "\n",
              "    .colab-df-convert {\n",
              "      background-color: #E8F0FE;\n",
              "      border: none;\n",
              "      border-radius: 50%;\n",
              "      cursor: pointer;\n",
              "      display: none;\n",
              "      fill: #1967D2;\n",
              "      height: 32px;\n",
              "      padding: 0 0 0 0;\n",
              "      width: 32px;\n",
              "    }\n",
              "\n",
              "    .colab-df-convert:hover {\n",
              "      background-color: #E2EBFA;\n",
              "      box-shadow: 0px 1px 2px rgba(60, 64, 67, 0.3), 0px 1px 3px 1px rgba(60, 64, 67, 0.15);\n",
              "      fill: #174EA6;\n",
              "    }\n",
              "\n",
              "    [theme=dark] .colab-df-convert {\n",
              "      background-color: #3B4455;\n",
              "      fill: #D2E3FC;\n",
              "    }\n",
              "\n",
              "    [theme=dark] .colab-df-convert:hover {\n",
              "      background-color: #434B5C;\n",
              "      box-shadow: 0px 1px 3px 1px rgba(0, 0, 0, 0.15);\n",
              "      filter: drop-shadow(0px 1px 2px rgba(0, 0, 0, 0.3));\n",
              "      fill: #FFFFFF;\n",
              "    }\n",
              "  </style>\n",
              "\n",
              "      <script>\n",
              "        const buttonEl =\n",
              "          document.querySelector('#df-ebcaf6fb-8db6-4f62-93d1-a433dde2a8e0 button.colab-df-convert');\n",
              "        buttonEl.style.display =\n",
              "          google.colab.kernel.accessAllowed ? 'block' : 'none';\n",
              "\n",
              "        async function convertToInteractive(key) {\n",
              "          const element = document.querySelector('#df-ebcaf6fb-8db6-4f62-93d1-a433dde2a8e0');\n",
              "          const dataTable =\n",
              "            await google.colab.kernel.invokeFunction('convertToInteractive',\n",
              "                                                     [key], {});\n",
              "          if (!dataTable) return;\n",
              "\n",
              "          const docLinkHtml = 'Like what you see? Visit the ' +\n",
              "            '<a target=\"_blank\" href=https://colab.research.google.com/notebooks/data_table.ipynb>data table notebook</a>'\n",
              "            + ' to learn more about interactive tables.';\n",
              "          element.innerHTML = '';\n",
              "          dataTable['output_type'] = 'display_data';\n",
              "          await google.colab.output.renderOutput(dataTable, element);\n",
              "          const docLink = document.createElement('div');\n",
              "          docLink.innerHTML = docLinkHtml;\n",
              "          element.appendChild(docLink);\n",
              "        }\n",
              "      </script>\n",
              "    </div>\n",
              "  </div>\n",
              "  "
            ]
          },
          "metadata": {},
          "execution_count": 35
        }
      ],
      "source": [
        "#correlacao\n",
        "corr=tempo.corr()\n",
        "corr"
      ]
    },
    {
      "cell_type": "code",
      "execution_count": null,
      "metadata": {
        "id": "GUo-oGn2HqiL",
        "outputId": "20ee7d22-ac89-45e1-c6ff-6f1ff773c863",
        "colab": {
          "base_uri": "https://localhost:8080/",
          "height": 483
        }
      },
      "outputs": [
        {
          "output_type": "execute_result",
          "data": {
            "text/plain": [
              "   Aparencia  Temperatura  Umidade       Vento Jogar\n",
              "0        sol         85.0     85.0       FALSO   nao\n",
              "1        sol         80.0     90.0  VERDADEIRO   nao\n",
              "2    nublado         83.0     86.0       FALSO   sim\n",
              "3      chuva         70.0     85.5       FALSO   sim\n",
              "4      chuva         68.0     80.0       FALSO   sim\n",
              "5      chuva         65.0     70.0  VERDADEIRO   nao\n",
              "6        sol         64.0     65.0  VERDADEIRO   sim\n",
              "7        sol         73.5     95.0       FALSO   nao\n",
              "8        sol         69.0     70.0       FALSO   sim\n",
              "9      chuva         75.0     85.5       FALSO   sim\n",
              "10       sol         75.0     70.0  VERDADEIRO   sim\n",
              "11   nublado         72.0     90.0  VERDADEIRO   sim\n",
              "12   nublado         81.0     75.0       FALSO   sim\n",
              "13     chuva         71.0     91.0  VERDADEIRO   nao"
            ],
            "text/html": [
              "\n",
              "  <div id=\"df-4668c8f8-e633-4048-b028-4752ba26d64c\">\n",
              "    <div class=\"colab-df-container\">\n",
              "      <div>\n",
              "<style scoped>\n",
              "    .dataframe tbody tr th:only-of-type {\n",
              "        vertical-align: middle;\n",
              "    }\n",
              "\n",
              "    .dataframe tbody tr th {\n",
              "        vertical-align: top;\n",
              "    }\n",
              "\n",
              "    .dataframe thead th {\n",
              "        text-align: right;\n",
              "    }\n",
              "</style>\n",
              "<table border=\"1\" class=\"dataframe\">\n",
              "  <thead>\n",
              "    <tr style=\"text-align: right;\">\n",
              "      <th></th>\n",
              "      <th>Aparencia</th>\n",
              "      <th>Temperatura</th>\n",
              "      <th>Umidade</th>\n",
              "      <th>Vento</th>\n",
              "      <th>Jogar</th>\n",
              "    </tr>\n",
              "  </thead>\n",
              "  <tbody>\n",
              "    <tr>\n",
              "      <th>0</th>\n",
              "      <td>sol</td>\n",
              "      <td>85.0</td>\n",
              "      <td>85.0</td>\n",
              "      <td>FALSO</td>\n",
              "      <td>nao</td>\n",
              "    </tr>\n",
              "    <tr>\n",
              "      <th>1</th>\n",
              "      <td>sol</td>\n",
              "      <td>80.0</td>\n",
              "      <td>90.0</td>\n",
              "      <td>VERDADEIRO</td>\n",
              "      <td>nao</td>\n",
              "    </tr>\n",
              "    <tr>\n",
              "      <th>2</th>\n",
              "      <td>nublado</td>\n",
              "      <td>83.0</td>\n",
              "      <td>86.0</td>\n",
              "      <td>FALSO</td>\n",
              "      <td>sim</td>\n",
              "    </tr>\n",
              "    <tr>\n",
              "      <th>3</th>\n",
              "      <td>chuva</td>\n",
              "      <td>70.0</td>\n",
              "      <td>85.5</td>\n",
              "      <td>FALSO</td>\n",
              "      <td>sim</td>\n",
              "    </tr>\n",
              "    <tr>\n",
              "      <th>4</th>\n",
              "      <td>chuva</td>\n",
              "      <td>68.0</td>\n",
              "      <td>80.0</td>\n",
              "      <td>FALSO</td>\n",
              "      <td>sim</td>\n",
              "    </tr>\n",
              "    <tr>\n",
              "      <th>5</th>\n",
              "      <td>chuva</td>\n",
              "      <td>65.0</td>\n",
              "      <td>70.0</td>\n",
              "      <td>VERDADEIRO</td>\n",
              "      <td>nao</td>\n",
              "    </tr>\n",
              "    <tr>\n",
              "      <th>6</th>\n",
              "      <td>sol</td>\n",
              "      <td>64.0</td>\n",
              "      <td>65.0</td>\n",
              "      <td>VERDADEIRO</td>\n",
              "      <td>sim</td>\n",
              "    </tr>\n",
              "    <tr>\n",
              "      <th>7</th>\n",
              "      <td>sol</td>\n",
              "      <td>73.5</td>\n",
              "      <td>95.0</td>\n",
              "      <td>FALSO</td>\n",
              "      <td>nao</td>\n",
              "    </tr>\n",
              "    <tr>\n",
              "      <th>8</th>\n",
              "      <td>sol</td>\n",
              "      <td>69.0</td>\n",
              "      <td>70.0</td>\n",
              "      <td>FALSO</td>\n",
              "      <td>sim</td>\n",
              "    </tr>\n",
              "    <tr>\n",
              "      <th>9</th>\n",
              "      <td>chuva</td>\n",
              "      <td>75.0</td>\n",
              "      <td>85.5</td>\n",
              "      <td>FALSO</td>\n",
              "      <td>sim</td>\n",
              "    </tr>\n",
              "    <tr>\n",
              "      <th>10</th>\n",
              "      <td>sol</td>\n",
              "      <td>75.0</td>\n",
              "      <td>70.0</td>\n",
              "      <td>VERDADEIRO</td>\n",
              "      <td>sim</td>\n",
              "    </tr>\n",
              "    <tr>\n",
              "      <th>11</th>\n",
              "      <td>nublado</td>\n",
              "      <td>72.0</td>\n",
              "      <td>90.0</td>\n",
              "      <td>VERDADEIRO</td>\n",
              "      <td>sim</td>\n",
              "    </tr>\n",
              "    <tr>\n",
              "      <th>12</th>\n",
              "      <td>nublado</td>\n",
              "      <td>81.0</td>\n",
              "      <td>75.0</td>\n",
              "      <td>FALSO</td>\n",
              "      <td>sim</td>\n",
              "    </tr>\n",
              "    <tr>\n",
              "      <th>13</th>\n",
              "      <td>chuva</td>\n",
              "      <td>71.0</td>\n",
              "      <td>91.0</td>\n",
              "      <td>VERDADEIRO</td>\n",
              "      <td>nao</td>\n",
              "    </tr>\n",
              "  </tbody>\n",
              "</table>\n",
              "</div>\n",
              "      <button class=\"colab-df-convert\" onclick=\"convertToInteractive('df-4668c8f8-e633-4048-b028-4752ba26d64c')\"\n",
              "              title=\"Convert this dataframe to an interactive table.\"\n",
              "              style=\"display:none;\">\n",
              "        \n",
              "  <svg xmlns=\"http://www.w3.org/2000/svg\" height=\"24px\"viewBox=\"0 0 24 24\"\n",
              "       width=\"24px\">\n",
              "    <path d=\"M0 0h24v24H0V0z\" fill=\"none\"/>\n",
              "    <path d=\"M18.56 5.44l.94 2.06.94-2.06 2.06-.94-2.06-.94-.94-2.06-.94 2.06-2.06.94zm-11 1L8.5 8.5l.94-2.06 2.06-.94-2.06-.94L8.5 2.5l-.94 2.06-2.06.94zm10 10l.94 2.06.94-2.06 2.06-.94-2.06-.94-.94-2.06-.94 2.06-2.06.94z\"/><path d=\"M17.41 7.96l-1.37-1.37c-.4-.4-.92-.59-1.43-.59-.52 0-1.04.2-1.43.59L10.3 9.45l-7.72 7.72c-.78.78-.78 2.05 0 2.83L4 21.41c.39.39.9.59 1.41.59.51 0 1.02-.2 1.41-.59l7.78-7.78 2.81-2.81c.8-.78.8-2.07 0-2.86zM5.41 20L4 18.59l7.72-7.72 1.47 1.35L5.41 20z\"/>\n",
              "  </svg>\n",
              "      </button>\n",
              "      \n",
              "  <style>\n",
              "    .colab-df-container {\n",
              "      display:flex;\n",
              "      flex-wrap:wrap;\n",
              "      gap: 12px;\n",
              "    }\n",
              "\n",
              "    .colab-df-convert {\n",
              "      background-color: #E8F0FE;\n",
              "      border: none;\n",
              "      border-radius: 50%;\n",
              "      cursor: pointer;\n",
              "      display: none;\n",
              "      fill: #1967D2;\n",
              "      height: 32px;\n",
              "      padding: 0 0 0 0;\n",
              "      width: 32px;\n",
              "    }\n",
              "\n",
              "    .colab-df-convert:hover {\n",
              "      background-color: #E2EBFA;\n",
              "      box-shadow: 0px 1px 2px rgba(60, 64, 67, 0.3), 0px 1px 3px 1px rgba(60, 64, 67, 0.15);\n",
              "      fill: #174EA6;\n",
              "    }\n",
              "\n",
              "    [theme=dark] .colab-df-convert {\n",
              "      background-color: #3B4455;\n",
              "      fill: #D2E3FC;\n",
              "    }\n",
              "\n",
              "    [theme=dark] .colab-df-convert:hover {\n",
              "      background-color: #434B5C;\n",
              "      box-shadow: 0px 1px 3px 1px rgba(0, 0, 0, 0.15);\n",
              "      filter: drop-shadow(0px 1px 2px rgba(0, 0, 0, 0.3));\n",
              "      fill: #FFFFFF;\n",
              "    }\n",
              "  </style>\n",
              "\n",
              "      <script>\n",
              "        const buttonEl =\n",
              "          document.querySelector('#df-4668c8f8-e633-4048-b028-4752ba26d64c button.colab-df-convert');\n",
              "        buttonEl.style.display =\n",
              "          google.colab.kernel.accessAllowed ? 'block' : 'none';\n",
              "\n",
              "        async function convertToInteractive(key) {\n",
              "          const element = document.querySelector('#df-4668c8f8-e633-4048-b028-4752ba26d64c');\n",
              "          const dataTable =\n",
              "            await google.colab.kernel.invokeFunction('convertToInteractive',\n",
              "                                                     [key], {});\n",
              "          if (!dataTable) return;\n",
              "\n",
              "          const docLinkHtml = 'Like what you see? Visit the ' +\n",
              "            '<a target=\"_blank\" href=https://colab.research.google.com/notebooks/data_table.ipynb>data table notebook</a>'\n",
              "            + ' to learn more about interactive tables.';\n",
              "          element.innerHTML = '';\n",
              "          dataTable['output_type'] = 'display_data';\n",
              "          await google.colab.output.renderOutput(dataTable, element);\n",
              "          const docLink = document.createElement('div');\n",
              "          docLink.innerHTML = docLinkHtml;\n",
              "          element.appendChild(docLink);\n",
              "        }\n",
              "      </script>\n",
              "    </div>\n",
              "  </div>\n",
              "  "
            ]
          },
          "metadata": {},
          "execution_count": 38
        }
      ],
      "source": [
        "#dataset limpo com as devidas mudanças\n",
        "tempo"
      ]
    },
    {
      "cell_type": "code",
      "execution_count": null,
      "metadata": {
        "id": "zEfvwhdWHqiN",
        "outputId": "e9843dcb-a9e0-4d0f-c657-87365d92addc",
        "colab": {
          "base_uri": "https://localhost:8080/",
          "height": 568
        }
      },
      "outputs": [
        {
          "output_type": "display_data",
          "data": {
            "text/plain": [
              "<Figure size 1000x600 with 5 Axes>"
            ],
            "image/png": "[encoded data removed]"
          },
          "metadata": {}
        }
      ],
      "source": [
        "#gerando graficos usando suplots\n",
        "plt.figure(figsize=(10,6))\n",
        "plt.subplot(3,2,1)\n",
        "sns.histplot(tempo[\"Aparencia\"]).set(title=\"Aparencia\")\n",
        "plt.subplot(3,2,2)\n",
        "sns.boxplot(tempo[\"Temperatura\"], orient=\"h\").set(title=\"Temperatura\")\n",
        "plt.subplot(3,2,3)\n",
        "sns.boxplot(tempo[\"Umidade\"], orient=\"h\").set(title=\"Umidade\")\n",
        "plt.subplot(3,2,4)\n",
        "sns.histplot(tempo[\"Vento\"]).set(title=\"Vento\")\n",
        "plt.subplot(3,2,5)\n",
        "sns.histplot(tempo[\"Jogar\"]).set(title=\"Jogar\")\n",
        "plt.tight_layout()\n",
        "\n"
      ]
    }
  ],
  "metadata": {
    "kernelspec": {
      "display_name": "Python 3",
      "language": "python",
      "name": "python3"
    },
    "language_info": {
      "codemirror_mode": {
        "name": "ipython",
        "version": 3
      },
      "file_extension": ".py",
      "mimetype": "text/x-python",
      "name": "python",
      "nbconvert_exporter": "python",
      "pygments_lexer": "ipython3",
      "version": "3.11.2"
    },
    "orig_nbformat": 4,
    "colab": {
      "provenance": [],
      "include_colab_link": true
    }
  },
  "nbformat": 4,
  "nbformat_minor": 0
}